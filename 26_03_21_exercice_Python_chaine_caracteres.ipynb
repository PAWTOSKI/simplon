{
 "cells": [
  {
   "cell_type": "code",
   "execution_count": null,
   "metadata": {},
   "outputs": [],
   "source": []
  },
  {
   "cell_type": "code",
   "execution_count": 14,
   "metadata": {},
   "outputs": [
    {
     "name": "stdout",
     "output_type": "stream",
     "text": [
      "veuillez saisir un verbe à conjuger du premier groupe: démarrer\n",
      "je démarre \n",
      "tu démarres \n",
      "il/elle démarre \n",
      "nous démarrons \n",
      "vous démarrez \n",
      "ils/elles démarrent \n"
     ]
    }
   ],
   "source": [
    "#question 1 Ecrire un programme qui demande à un utilisateur de saisir un verbe du premier groupe et affiche la conjugaison du verbe au présent de l’indicatif.\n",
    "\n",
    "class verbe_():\n",
    "    def __init__(self):\n",
    "        self.verbe=str(input('veuillez saisir un verbe à conjuger du premier groupe: '))\n",
    "        self.suffixe_v=self.verbe[-2]+self.verbe[-1]\n",
    "        \n",
    "        while self.suffixe_v!='er':\n",
    "            self.verbe=str(input('veuillez vraiment saisir un verbe à conjuger du premier groupe: '))\n",
    "    \n",
    "    def conjugaison(self):\n",
    "        dict_={'je':'e', 'tu':'es', 'il/elle':'e', 'nous':'ons', 'vous':'ez', 'ils/elles':'ent'}\n",
    "        for pronom, suffixe in dict_.items():\n",
    "            print(f'{pronom} {self.verbe[0:-2]}{suffixe} ')\n",
    "        \n",
    "verbe1=verbe_()\n",
    "verbe1.conjugaison()"
   ]
  },
  {
   "cell_type": "code",
   "execution_count": 40,
   "metadata": {},
   "outputs": [
    {
     "name": "stdout",
     "output_type": "stream",
     "text": [
      "tapez le 1er mot: zat\n",
      "tapez le 2ème mot: zaa\n",
      "1\n"
     ]
    }
   ],
   "source": [
    "#2) distance entre 2 mots : Ecrire un programme qui demande à un utilisateur de saisir deux mots de même longueur et retourne la distance de Hamming.\n",
    "\n",
    "mots_=(input('tapez le 1er mot: '), input('tapez le 2ème mot: '))\n",
    "compteur=sum([1 if lettre1!=lettre2 else 0 for lettre1, lettre2 in zip(mots_[0], mots_[1])  ])\n",
    "print(compteur)"
   ]
  },
  {
   "cell_type": "code",
   "execution_count": 15,
   "metadata": {},
   "outputs": [
    {
     "name": "stdout",
     "output_type": "stream",
     "text": [
      "veuillez entre une expression: azerty\n",
      "inverse:  ytreza\n"
     ]
    }
   ],
   "source": [
    "#question3 \n",
    "#a) Demandez à l’utilisateur d’entrer un mot au clavier. Ensuite, écrivez-le à l’envers, c’est-à-dire de droite à gauche.\n",
    "\n",
    "mot1=input('veuillez entre une expression: ')[::-1]\n",
    "print('inverse: ', mot1)"
   ]
  },
  {
   "cell_type": "code",
   "execution_count": 16,
   "metadata": {},
   "outputs": [
    {
     "name": "stdout",
     "output_type": "stream",
     "text": [
      "veuillez entre une expression: azerty\n",
      "ytreza"
     ]
    }
   ],
   "source": [
    "mot1=input('veuillez entre une expression: ')\n",
    "\n",
    "for indice in range(len(mot1)) :\n",
    "    print(mot1[len(mot1)-1-indice], end='')"
   ]
  },
  {
   "cell_type": "code",
   "execution_count": 17,
   "metadata": {},
   "outputs": [
    {
     "name": "stdout",
     "output_type": "stream",
     "text": [
      "veuillez entrer les trois coefficients séparés par un \", \": 1, 1, 1\n",
      "1.0\n",
      "solution 1: 0.3660254037844386, solution 2: -1.3660254037844386\n"
     ]
    }
   ],
   "source": [
    "#question 4 Calculer les solutions, si elles existe, du polynôme ax² + bx + c = 0\n",
    "\n",
    "a,b,c=[float(i) for i in input('veuillez entrer les trois coefficients séparés par un \", \": ').split(', ')]\n",
    "print(b)\n",
    "delta=b*4-a*c\n",
    "\n",
    "if delta>0:    \n",
    "    x1=(-b+delta**0.5)/(2*a)\n",
    "    x2=(-b-delta**0.5)/(2*a)\n",
    "    print(f'solution 1: {x1}, solution 2: {x2}')\n",
    "    \n",
    "elif delta==0:\n",
    "    x1=x2=-b/(2*a)\n",
    "    print(f'solution 1: {x1}')\n",
    "    \n",
    "else:\n",
    "    print('aucune solution possible')"
   ]
  },
  {
   "cell_type": "code",
   "execution_count": 19,
   "metadata": {},
   "outputs": [
    {
     "name": "stdout",
     "output_type": "stream",
     "text": [
      "veuillez taper un n naturel: 56\n",
      "1540\n"
     ]
    }
   ],
   "source": [
    "#question5 L’utilisateur entre un nombre n au clavier. Vous devez calculer la somme des n premiers\n",
    "#entiers : 1+ … + n, et l’afficher :\n",
    "\n",
    "rang=sum([i for i in range( int( input( 'veuillez taper un n naturel: ')))])\n",
    "print(rang)\n",
    "    "
   ]
  },
  {
   "cell_type": "code",
   "execution_count": 2,
   "metadata": {},
   "outputs": [
    {
     "name": "stdout",
     "output_type": "stream",
     "text": [
      "XX01234567890123456789012345678901234567890123456789\n",
      "0.50000000000000000000000000000000000000000000000000\n",
      "0.25000000000000000000000000000000000000000000000000\n",
      "0.12500000000000000000000000000000000000000000000000\n",
      "0.06250000000000000000000000000000000000000000000000\n",
      "0.03125000000000000000000000000000000000000000000000\n",
      "0.01562500000000000000000000000000000000000000000000\n",
      "0.00781250000000000000000000000000000000000000000000\n",
      "0.00390625000000000000000000000000000000000000000000\n",
      "0.00195312500000000000000000000000000000000000000000\n",
      "0.00097656250000000000000000000000000000000000000000\n",
      "0.00048828125000000000000000000000000000000000000000\n",
      "0.00024414062500000000000000000000000000000000000000\n",
      "0.00012207031250000000000000000000000000000000000000\n",
      "0.00006103515625000000000000000000000000000000000000\n",
      "0.00003051757812500000000000000000000000000000000000\n",
      "0.00001525878906250000000000000000000000000000000000\n",
      "0.00000762939453125000000000000000000000000000000000\n",
      "0.00000381469726562500000000000000000000000000000000\n",
      "0.00000190734863281250000000000000000000000000000000\n",
      "0.00000095367431640625000000000000000000000000000000\n",
      "0.00000047683715820312500000000000000000000000000000\n",
      "0.00000023841857910156250000000000000000000000000000\n",
      "0.00000011920928955078125000000000000000000000000000\n",
      "0.00000005960464477539062500000000000000000000000000\n",
      "0.00000002980232238769531250000000000000000000000000\n",
      "0.00000001490116119384765625000000000000000000000000\n",
      "0.00000000745058059692382812500000000000000000000000\n",
      "0.00000000372529029846191406250000000000000000000000\n",
      "0.00000000186264514923095703125000000000000000000000\n",
      "0.00000000093132257461547851562500000000000000000000\n",
      "0.00000000046566128730773925781250000000000000000000\n",
      "0.00000000023283064365386962890625000000000000000000\n",
      "0.00000000011641532182693481445312500000000000000000\n",
      "0.00000000005820766091346740722656250000000000000000\n",
      "0.00000000002910383045673370361328125000000000000000\n",
      "0.00000000001455191522836685180664062500000000000000\n",
      "0.00000000000727595761418342590332031250000000000000\n",
      "0.00000000000363797880709171295166015625000000000000\n",
      "0.00000000000181898940354585647583007812500000000000\n",
      "0.00000000000090949470177292823791503906250000000000\n",
      "0.00000000000045474735088646411895751953125000000000\n",
      "0.00000000000022737367544323205947875976562500000000\n",
      "0.00000000000011368683772161602973937988281250000000\n",
      "0.00000000000005684341886080801486968994140625000000\n",
      "0.00000000000002842170943040400743484497070312500000\n",
      "0.00000000000001421085471520200371742248535156250000\n",
      "0.00000000000000710542735760100185871124267578125000\n",
      "0.00000000000000355271367880050092935562133789062500\n",
      "0.00000000000000177635683940025046467781066894531250\n",
      "0.00000000000000088817841970012523233890533447265625\n"
     ]
    }
   ],
   "source": [
    "#6. L’infiniment petit\n",
    "#Vous allez diviser successivement par 2 la valeur 1, ceci 50 fois. À chaque fois, affichez le résultat sous la forme d’un nombre ayant 50 chiffres après la virgule. Pour valider votre résultat, affichez au démarrage la chaîne : \"XX0123456789023456789012345678901234567890123456789\".\n",
    "\n",
    "print('XX'+'0123456789'*5)\n",
    "base=1\n",
    "for i in range(50):\n",
    "    base=base/2\n",
    "    print('{0:1.50f}'.format(base))\n",
    "\n"
   ]
  },
  {
   "cell_type": "code",
   "execution_count": 36,
   "metadata": {},
   "outputs": [
    {
     "name": "stdout",
     "output_type": "stream",
     "text": [
      "veuillez fournir une liste de chiffres séparées par un \", \" 89\n"
     ]
    },
    {
     "data": {
      "text/plain": [
       "18"
      ]
     },
     "execution_count": 36,
     "metadata": {},
     "output_type": "execute_result"
    }
   ],
   "source": [
    "#question 7. Compter les nombres à deux chiffres ayant le chiffre 7\n",
    "\n",
    "class compteur():\n",
    "    def __init__(self):\n",
    "        self.rang=int(input('veuillez fournir une liste de chiffres séparées par un \", \" '))\n",
    "        \n",
    "    def action(self):\n",
    "        liste=[str(nombre) for nombre in range(10,self.rang-1)]\n",
    "        liste=' '.join(liste)\n",
    "        compteur_=liste.count('7')\n",
    "        return compteur_\n",
    "    \n",
    "compte1=compteur()\n",
    "compte1.action()"
   ]
  },
  {
   "cell_type": "code",
   "execution_count": 39,
   "metadata": {},
   "outputs": [
    {
     "name": "stdout",
     "output_type": "stream",
     "text": [
      "veuillez entrer un mot'aze'\n",
      "2\n"
     ]
    }
   ],
   "source": [
    "#question 8 demandez à l'utilisateur d'entrer un mot au clavier\n",
    "\n",
    "mot1=input('veuillez entrer un mot').upper()\n",
    "voyelle=['A', 'E', 'U', 'I', 'O']\n",
    "compteur=sum([1 for lettre in mot1 if lettre in voyelle ])\n",
    "print(compteur)\n"
   ]
  },
  {
   "cell_type": "code",
   "execution_count": 59,
   "metadata": {},
   "outputs": [
    {
     "name": "stdout",
     "output_type": "stream",
     "text": [
      "['D', 'C', 'H', 'U', 'W']\n",
      "['A', 'Z', 'E', 'R', 'T']\n"
     ]
    }
   ],
   "source": [
    "#question 9 encoder et décrypter un nom \n",
    "\n",
    "mot1='azert'.upper()\n",
    "mot1=[ chr((ord(lettre)+3)) if ord(lettre)+3<=90 else chr( 65+( 90-ord( lettre)) +3-1)  for lettre in mot1 ]\n",
    "print(mot1)\n",
    "mot1=[ chr((ord(lettre)-3)) if ord(lettre)-3>=65 else chr( 90-( 65-ord(lettre))-2)  for lettre in mot1 ]\n",
    "print(mot1)"
   ]
  },
  {
   "cell_type": "code",
   "execution_count": 76,
   "metadata": {},
   "outputs": [
    {
     "name": "stdout",
     "output_type": "stream",
     "text": [
      "veuillez entrer le code html<html lang=\"en-US\"> <head> <title>Python String find() Method</title> <meta charset=\"utf-8\"> <meta name=\"viewport\" content=\"width=device-width, initia\n",
      "html lang=\"en-US\"\n",
      "head\n",
      "title\n",
      "/title\n",
      "meta charset=\"utf-8\"\n",
      "meta name=\"viewport\" content=\"width=device-width, initi\n"
     ]
    }
   ],
   "source": [
    "#question 11 créer un programme qui affiche toutes les balises présentes dans le code:\n",
    "\n",
    "code_=input('veuillez entrer le code html')\n",
    "for caractère in code_:\n",
    "    \n",
    "    if caractère=='<':    \n",
    "        balise_debut=code_.index(caractère)+1\n",
    "        balise_fin=code_.find(\">\", code_.index(\"<\"))\n",
    "        print(code_[balise_debut:balise_fin])\n",
    "        code_=code_.replace('<','',1)\n"
   ]
  },
  {
   "cell_type": "code",
   "execution_count": 9,
   "metadata": {},
   "outputs": [
    {
     "name": "stdout",
     "output_type": "stream",
     "text": [
      "veuillez entrez le nombre de jours dans le mois30\n",
      "veuillez entrez le numéro du jour démarrant le mois2\n",
      "      LUN     MAR     MER     JEU     VEN     SAM     DIM\n",
      "               1       2       3       4       5       6\n",
      "\n",
      "       7       8       9      10      11      12      13\n",
      "\n",
      "      14      15      16      17      18      19      20\n",
      "\n",
      "      21      22      23      24      25      26      27\n",
      "\n",
      "      28      29      30                                                                                        "
     ]
    }
   ],
   "source": [
    "#question 12 afficher le calendrier du mois\n",
    "\n",
    "\n",
    "jours= int(input('veuillez entrez le nombre de jours dans le mois')) \n",
    "nu_jour=int(input('veuillez entrez le numéro du jour démarrant le mois'))\n",
    "colonne_=[1,2,3,4,5,6,7]\n",
    "ligne_=[i for i in range(6)]\n",
    "\n",
    "count=1\n",
    "print(f'      LUN     MAR     MER     JEU     VEN     SAM     DIM')\n",
    "\n",
    "for n in ligne_:\n",
    "\n",
    "    for i  in range(len(colonne_)):\n",
    "        # rajout de conditions afin d'initialiser le calendrier au 1er jour correct et d'arrêter au bon moment le calendrier\n",
    "        if  (count> jours ) or ( n==0 and i+1<nu_jour ) :\n",
    "            x='{0:8d}'.format(0)\n",
    "            print(  x.replace('0',' ') , end=\"\" )\n",
    "                        \n",
    "        elif i!=6: \n",
    "            x=str('{0:8d}'.format(count) ) \n",
    "            print (x , end=\"\" ) \n",
    "            count+=1\n",
    "        else:\n",
    "            x=str('{0:8d}'.format(count) ) \n",
    "            print (x+'\\n') \n",
    "            count+=1\n",
    "        \n",
    "         "
   ]
  },
  {
   "cell_type": "code",
   "execution_count": 21,
   "metadata": {},
   "outputs": [
    {
     "name": "stdout",
     "output_type": "stream",
     "text": [
      "veuillez entre un nombre de tirage voulue: 15\n",
      "[0, 0, 1, 1, 0, 0, 1, 1, 1, 0, 0, 1, 0, 1, 0]\n",
      "nombre de faces tirés:7/15\n",
      "nombre de pile tirés : 8/15\n"
     ]
    }
   ],
   "source": [
    "# question 13\n",
    "#Simulez un nombre donné de tirages pile ou face et calculez la proportion de chaque type de tirage. \n",
    "# O pour pile et 1 pour face\n",
    "\n",
    "import random\n",
    "\n",
    "nb_tirages=int(input('veuillez entre un nombre de tirage voulue: '))\n",
    "\n",
    "counter=[random.randrange(0,2) for i in range(nb_tirages)]\n",
    "print(counter)\n",
    "print(f'nombre de faces tirés:{sum(counter)}/{nb_tirages}') \n",
    "print(f'nombre de pile tirés : { len( counter)-sum( counter)}/{ nb_tirages}')"
   ]
  },
  {
   "cell_type": "code",
   "execution_count": null,
   "metadata": {},
   "outputs": [],
   "source": []
  },
  {
   "cell_type": "code",
   "execution_count": null,
   "metadata": {},
   "outputs": [],
   "source": []
  },
  {
   "cell_type": "code",
   "execution_count": null,
   "metadata": {},
   "outputs": [],
   "source": []
  },
  {
   "cell_type": "code",
   "execution_count": null,
   "metadata": {},
   "outputs": [],
   "source": [
    "\n",
    "    "
   ]
  },
  {
   "cell_type": "code",
   "execution_count": null,
   "metadata": {},
   "outputs": [],
   "source": []
  },
  {
   "cell_type": "code",
   "execution_count": null,
   "metadata": {},
   "outputs": [],
   "source": []
  },
  {
   "cell_type": "code",
   "execution_count": null,
   "metadata": {},
   "outputs": [],
   "source": []
  },
  {
   "cell_type": "code",
   "execution_count": null,
   "metadata": {},
   "outputs": [],
   "source": []
  }
 ],
 "metadata": {
  "kernelspec": {
   "display_name": "Python 3",
   "language": "python",
   "name": "python3"
  },
  "language_info": {
   "codemirror_mode": {
    "name": "ipython",
    "version": 3
   },
   "file_extension": ".py",
   "mimetype": "text/x-python",
   "name": "python",
   "nbconvert_exporter": "python",
   "pygments_lexer": "ipython3",
   "version": "3.8.5"
  }
 },
 "nbformat": 4,
 "nbformat_minor": 4
}
