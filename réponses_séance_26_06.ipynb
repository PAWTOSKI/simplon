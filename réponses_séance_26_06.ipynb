{
 "cells": [
  {
   "cell_type": "code",
   "execution_count": 6,
   "metadata": {},
   "outputs": [
    {
     "name": "stdin",
     "output_type": "stream",
     "text": [
      "tapez la longueur du coté 1 3\n",
      "tapez la longueur du coté 2 4\n",
      "tapez la longueur du coté 3 5\n"
     ]
    },
    {
     "name": "stdout",
     "output_type": "stream",
     "text": [
      "c'est un triangle rectangle\n"
     ]
    }
   ],
   "source": [
    "cote_1=int(input('tapez la longueur du coté 1'))\n",
    "cote_2=int(input('tapez la longueur du coté 2'))\n",
    "hypothenuse=int(input('tapez la longueur du coté 3'))\n",
    "\n",
    "if hypothenuse**2==(cote_1**2)+(cote_2**2):\n",
    "    print( \"c'est un triangle rectangle\")\n",
    "else:\n",
    "    print( \"ce n'est pas un triangle rectangle\")"
   ]
  },
  {
   "cell_type": "code",
   "execution_count": 2,
   "metadata": {},
   "outputs": [
    {
     "name": "stdin",
     "output_type": "stream",
     "text": [
      "tapez un prix HT: 2\n"
     ]
    },
    {
     "name": "stdout",
     "output_type": "stream",
     "text": [
      "2.46\n"
     ]
    },
    {
     "name": "stdin",
     "output_type": "stream",
     "text": [
      "tapez un prix HT: 3\n"
     ]
    },
    {
     "name": "stdout",
     "output_type": "stream",
     "text": [
      "3.69\n"
     ]
    },
    {
     "name": "stdin",
     "output_type": "stream",
     "text": [
      "tapez un prix HT: 0\n"
     ]
    }
   ],
   "source": [
    "while True:\n",
    " prix_HT=int(input('tapez un prix HT:'))     \n",
    " if prix_HT!=0: \n",
    "   \n",
    "  prix_TTC=prix_HT+(prix_HT*23/100)\n",
    "  print(prix_TTC)\n",
    " else:\n",
    "  break\n",
    " "
   ]
  },
  {
   "cell_type": "code",
   "execution_count": 3,
   "metadata": {},
   "outputs": [
    {
     "ename": "SyntaxError",
     "evalue": "invalid syntax (<ipython-input-3-f63b2d521c13>, line 1)",
     "output_type": "error",
     "traceback": [
      "\u001b[0;36m  File \u001b[0;32m\"<ipython-input-3-f63b2d521c13>\"\u001b[0;36m, line \u001b[0;32m1\u001b[0m\n\u001b[0;31m    while:\u001b[0m\n\u001b[0m         ^\u001b[0m\n\u001b[0;31mSyntaxError\u001b[0m\u001b[0;31m:\u001b[0m invalid syntax\n"
     ]
    }
   ],
   "source": [
    "while:\n",
    "    print('A')"
   ]
  },
  {
   "cell_type": "code",
   "execution_count": 5,
   "metadata": {},
   "outputs": [
    {
     "name": "stdout",
     "output_type": "stream",
     "text": [
      "A\n"
     ]
    }
   ],
   "source": [
    "print('A')"
   ]
  },
  {
   "cell_type": "code",
   "execution_count": 17,
   "metadata": {},
   "outputs": [
    {
     "name": "stdout",
     "output_type": "stream",
     "text": [
      "[1, 2, 3, 4, 5, 7, 8, 9]\n"
     ]
    }
   ],
   "source": [
    "liste_1=[2,7,3,1,5,7,1]\n",
    "liste_2=[8,5,9,4,1,1,5]\n",
    "liste_3=liste_1+liste_2\n",
    "\n",
    "print(list(set(liste_3)))"
   ]
  },
  {
   "cell_type": "code",
   "execution_count": 36,
   "metadata": {},
   "outputs": [
    {
     "name": "stdin",
     "output_type": "stream",
     "text": [
      "tapez une liste  1234321\n"
     ]
    },
    {
     "name": "stdout",
     "output_type": "stream",
     "text": [
      "['1', '2', '3', '4', '3', '2', '1']\n",
      "c est un palindrome\n"
     ]
    }
   ],
   "source": [
    "liste_1=list( input('tapez une liste ') )\n",
    "print(liste_1)\n",
    "liste_2=liste_1\n",
    "liste_2.reverse()\n",
    "if liste_1==liste_2:\n",
    "    print('c est un palindrome')\n",
    "else:\n",
    "    print( 'ce n est pas un palindrome')"
   ]
  },
  {
   "cell_type": "code",
   "execution_count": 37,
   "metadata": {},
   "outputs": [
    {
     "name": "stdin",
     "output_type": "stream",
     "text": [
      "tapez une liste  123\n"
     ]
    },
    {
     "name": "stdout",
     "output_type": "stream",
     "text": [
      "['1', '2', '3']\n",
      "['3', '2', '1']\n",
      "ce n est pas un palindrome\n"
     ]
    }
   ],
   "source": [
    "liste_1=list( input('tapez une liste ') )\n",
    "print(liste_1)\n",
    "liste_2=liste_1[::-1]\n",
    "print(liste_2)\n",
    "if liste_1==liste_2:\n",
    "    print('c est un palindrome')\n",
    "else:\n",
    "    print( 'ce n est pas un palindrome')"
   ]
  },
  {
   "cell_type": "code",
   "execution_count": 38,
   "metadata": {},
   "outputs": [
    {
     "name": "stdout",
     "output_type": "stream",
     "text": [
      "['1', '2', '3']\n"
     ]
    }
   ],
   "source": [
    "print(liste_1)"
   ]
  },
  {
   "cell_type": "code",
   "execution_count": 40,
   "metadata": {},
   "outputs": [
    {
     "ename": "SyntaxError",
     "evalue": "can't assign to literal (<ipython-input-40-8237b19bdea3>, line 2)",
     "output_type": "error",
     "traceback": [
      "\u001b[0;36m  File \u001b[0;32m\"<ipython-input-40-8237b19bdea3>\"\u001b[0;36m, line \u001b[0;32m2\u001b[0m\n\u001b[0;31m    'Dave', 'Did','Dia'=liste_1\u001b[0m\n\u001b[0m                               ^\u001b[0m\n\u001b[0;31mSyntaxError\u001b[0m\u001b[0;31m:\u001b[0m can't assign to literal\n"
     ]
    }
   ],
   "source": []
  },
  {
   "cell_type": "code",
   "execution_count": 1,
   "metadata": {},
   "outputs": [
    {
     "name": "stdin",
     "output_type": "stream",
     "text": [
      "tapez le nom des élèves Dia, Diane\n"
     ]
    },
    {
     "name": "stdout",
     "output_type": "stream",
     "text": [
      "nom:Dia index:0\n",
      "nom: Diane index:1\n"
     ]
    }
   ],
   "source": [
    "import random\n",
    "\n",
    "liste_name=input('tapez le nom des élèves')\n",
    "liste_name=list(liste_name.split(\",\"))\n",
    "random.shuffle(liste_name)\n",
    "\n",
    "for name in liste_name:\n",
    "  print(f'nom:{name} index:{liste_name.index(name)}')"
   ]
  },
  {
   "cell_type": "code",
   "execution_count": null,
   "metadata": {},
   "outputs": [],
   "source": []
  }
 ],
 "metadata": {
  "kernelspec": {
   "display_name": "Python 3",
   "language": "python",
   "name": "python3"
  },
  "language_info": {
   "codemirror_mode": {
    "name": "ipython",
    "version": 3
   },
   "file_extension": ".py",
   "mimetype": "text/x-python",
   "name": "python",
   "nbconvert_exporter": "python",
   "pygments_lexer": "ipython3",
   "version": "3.7.6"
  }
 },
 "nbformat": 4,
 "nbformat_minor": 4
}
