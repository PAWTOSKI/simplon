{
 "cells": [
  {
   "cell_type": "code",
   "execution_count": 1,
   "metadata": {},
   "outputs": [
    {
     "name": "stdout",
     "output_type": "stream",
     "text": [
      "essai 0: veuillez tapez votre caractère A\n",
      "# # # # # \n",
      "essai 1: veuillez tapez votre caractère O\n",
      "# O # # # \n",
      "essai 2: veuillez tapez votre caractère U\n",
      "# # U # # \n",
      "essai 3: veuillez tapez votre caractère R\n",
      "# # # R # \n",
      "essai 4: veuillez tapez votre caractère Z\n",
      "# # # # # \n",
      "essai 5: veuillez tapez votre caractère S\n",
      "# # # # S \n",
      "veuillez tapez votre mot cours\n",
      "vous avez trouvé le mot dissimulé : COURS. Felicitations !\n"
     ]
    }
   ],
   "source": [
    "#code proposé par wilfried:\n",
    "\n",
    "import random\n",
    "\n",
    "#instanciation de la liste de mots et choix aléatoire\n",
    "\n",
    "liste_mot=['CHEVAL', 'DAME', 'COURS', 'TRIANGULAIRE', 'PERPENDICULAIRE']\n",
    "mot_choisi=random.choice(liste_mot)\n",
    "\n",
    "#instanciation du compteur d'essai\n",
    "essai=0\n",
    "caracteres_choisies=[]\n",
    "\n",
    "\n",
    "while essai<6:\n",
    "    proposition=input(f'essai {essai}: veuillez tapez votre caractère ').upper()\n",
    "    if proposition not in caracteres_choisies :    \n",
    "        message=[f'{proposition} ' if mot_choisi[indice]==proposition else f'# ' for indice in range(len(mot_choisi))]\n",
    "        essai+=1\n",
    "        print(''.join(message))\n",
    "    else:\n",
    "        print('caractère déjà choisi, veuillez recommencez')\n",
    "        continue\n",
    "\n",
    "proposition=input(f'veuillez tapez votre mot ').upper()\n",
    "while len(proposition)<len(mot_choisi):\n",
    "    proposition=input(\"mot excédant le nombre de caractères attendus, veuillez retaper un autre mot: \").upper()\n",
    "    \n",
    "if proposition==mot_choisi:\n",
    "    print(f'vous avez trouvé le mot dissimulé : {mot_choisi}. Felicitations !')\n",
    "else:\n",
    "    print('mauvais choix. Gameover')"
   ]
  },
  {
   "cell_type": "code",
   "execution_count": null,
   "metadata": {},
   "outputs": [],
   "source": []
  }
 ],
 "metadata": {
  "kernelspec": {
   "display_name": "Python 3",
   "language": "python",
   "name": "python3"
  },
  "language_info": {
   "codemirror_mode": {
    "name": "ipython",
    "version": 3
   },
   "file_extension": ".py",
   "mimetype": "text/x-python",
   "name": "python",
   "nbconvert_exporter": "python",
   "pygments_lexer": "ipython3",
   "version": "3.8.5"
  }
 },
 "nbformat": 4,
 "nbformat_minor": 4
}
