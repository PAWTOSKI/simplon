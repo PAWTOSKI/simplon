{
 "cells": [
  {
   "cell_type": "code",
   "execution_count": 17,
   "metadata": {},
   "outputs": [
    {
     "data": {
      "text/plain": [
       "['string', 'sale', 'salicorne']"
      ]
     },
     "execution_count": 17,
     "metadata": {},
     "output_type": "execute_result"
    }
   ],
   "source": [
    "#1 Ecrire une fonction hascap(s) qui renvoie tout les mots de la chaînes commençant par une majuscule\n",
    "\n",
    "def hascap(lettre, texte):\n",
    "    from re import findall\n",
    "    pattern=r's[A-Za-z]*'\n",
    "    return findall(pattern, texte )\n",
    "\n",
    "texte_='string ciudad sale salicorne'\n",
    "hascap('s',texte_)"
   ]
  },
  {
   "cell_type": "code",
   "execution_count": 27,
   "metadata": {},
   "outputs": [
    {
     "data": {
      "text/plain": [
       "['Sale']"
      ]
     },
     "execution_count": 27,
     "metadata": {},
     "output_type": "execute_result"
    }
   ],
   "source": [
    "def hascap(lettre, texte):\n",
    "    from re import findall\n",
    "    b=texte.split()\n",
    "    l=[]\n",
    "    for i in b:\n",
    "        if ord(i[0])>=65 and ord(i[0])<=90:\n",
    "            l.append(i)    \n",
    "    return l\n",
    "texte_='string over Sale salicorne'\n",
    "hascap('s',texte_)"
   ]
  },
  {
   "cell_type": "code",
   "execution_count": 37,
   "metadata": {},
   "outputs": [
    {
     "data": {
      "text/plain": [
       "'le prix est de 68 et 152'"
      ]
     },
     "execution_count": 37,
     "metadata": {},
     "output_type": "execute_result"
    }
   ],
   "source": [
    "#2) proposer une fonction inflation(s) qui va doubler la valeur de tous les nombres dans la chaine.\n",
    "\n",
    "def inflation (s):\n",
    "    import re\n",
    "    liste=s.split(' ')\n",
    "    for indice,j in enumerate(liste) :\n",
    "        if j.isnumeric():\n",
    "            liste[indice]=str(int(j)*2)\n",
    "    return \" \".join(liste)\n",
    "    \n",
    "\n",
    "inflation (\"le prix est de 34 et 76\")"
   ]
  },
  {
   "cell_type": "code",
   "execution_count": 118,
   "metadata": {},
   "outputs": [
    {
     "data": {
      "text/plain": [
       "['selon les médias, le service ',\n",
       " 'd espionnage a été impliqué ',\n",
       " 'dans le sabotage des lignes ',\n",
       " \"d'approvisionnements du \",\n",
       " 'pays, ce au profit de puissances ',\n",
       " 'étrangères cherchant à déstabiliser ',\n",
       " 'le pays ',\n",
       " '']"
      ]
     },
     "execution_count": 118,
     "metadata": {},
     "output_type": "execute_result"
    }
   ],
   "source": [
    "#3) proposer une fonction lignes qui à partir d'une longue chaine s (>100 caractères) renvoie une liste de chaine de caractère contenat chacun 24 caractères maximum et terminant par un espace\n",
    "\n",
    "def lignes_(s):\n",
    "    import math\n",
    "    liste=s.split(' ')\n",
    "    pas=math.ceil(len(s)/24)\n",
    "    ligne=['','','','','','','',''] #????\n",
    "    \n",
    "    count=0\n",
    "    for i in range(0,pas):\n",
    "\n",
    "        while len(ligne[i])<24 and count<len(liste):\n",
    "                ligne[i]+=liste[count]+' '\n",
    "               \n",
    "                count+=1\n",
    "    return ligne\n",
    "    \n",
    "        \n",
    "        \n",
    "    \n",
    "\n",
    "texte=\"selon les médias, le service d espionnage a été impliqué dans le sabotage des lignes d'approvisionnements du pays, ce au profit de puissances étrangères cherchant à déstabiliser le pays\"\n",
    "lignes_(texte)"
   ]
  },
  {
   "cell_type": "code",
   "execution_count": 271,
   "metadata": {},
   "outputs": [
    {
     "data": {
      "text/plain": [
       "['2', '-6.50']"
      ]
     },
     "execution_count": 271,
     "metadata": {},
     "output_type": "execute_result"
    }
   ],
   "source": [
    "'''#4.Proposer un programme qui renvoie la liste de tout les nombres (y\n",
    "compris décimaux et négatifs) d’une chaîne de caractères.\n",
    "A tester sur la chaîne : « Les 2 maquereaux valent 6.50 euros »'''\n",
    "\n",
    "def decim(s):\n",
    "    import re\n",
    "    pattern=r'-?\\d.?\\d*'\n",
    "    return [m for m in s.split(' ') if re.match(pattern,m) ]\n",
    "\n",
    "decim('Les 2 maquereaux valent -6.50 euros')"
   ]
  },
  {
   "cell_type": "code",
   "execution_count": 272,
   "metadata": {},
   "outputs": [
    {
     "name": "stdout",
     "output_type": "stream",
     "text": [
      "2\n",
      "6\n"
     ]
    },
    {
     "data": {
      "text/plain": [
       "'Les 2 maquereaux valent 6 euros'"
      ]
     },
     "execution_count": 272,
     "metadata": {},
     "output_type": "execute_result"
    }
   ],
   "source": [
    "'''#5.Proposer une fonction arrondi(s) qui dans la chaîne s troncature\n",
    "tout les nombre décimaux. On autorise les nombres négatifs.'''\n",
    "\n",
    "def arrondi_(s):\n",
    "    import re\n",
    "    pattern=r'\\d+.?\\d*'\n",
    "    \n",
    "    liste1=[int(float(m)) for m in re.findall(pattern,s)]\n",
    "    liste2=[m for m in s.split(' ')]\n",
    "    count=0\n",
    "    \n",
    "    for indice, valeur in enumerate(liste2) :\n",
    "        if re.match(pattern, str(valeur)  ):\n",
    "            liste2[indice]=str(liste1[count])\n",
    "            print(str(liste1[count]))\n",
    "            count+=1\n",
    "    return \" \".join(liste2)\n",
    "\n",
    "arrondi_('Les 2 maquereaux valent 6.5 euros')"
   ]
  },
  {
   "cell_type": "code",
   "execution_count": 222,
   "metadata": {},
   "outputs": [
    {
     "data": {
      "text/plain": [
       "'Les 2 maquereaux valent 6 euros'"
      ]
     },
     "execution_count": 222,
     "metadata": {},
     "output_type": "execute_result"
    }
   ],
   "source": [
    "#correction question 5\n",
    "\n",
    "from re import *\n",
    "\n",
    "def tronc(s):\n",
    "    motif= r'(-?)([0-9]+)[,.]?[0-9]*'\n",
    "    return sub(motif, r'\\1\\2',s)  #remarque :la formule '\\1' renvoie à la position du 1er bloc dans la regular expression. \n",
    "tronc('Les 2 maquereaux valent 6.5 euros')\n",
    "\n"
   ]
  },
  {
   "cell_type": "code",
   "execution_count": null,
   "metadata": {},
   "outputs": [],
   "source": []
  }
 ],
 "metadata": {
  "kernelspec": {
   "display_name": "Python 3",
   "language": "python",
   "name": "python3"
  },
  "language_info": {
   "codemirror_mode": {
    "name": "ipython",
    "version": 3
   },
   "file_extension": ".py",
   "mimetype": "text/x-python",
   "name": "python",
   "nbconvert_exporter": "python",
   "pygments_lexer": "ipython3",
   "version": "3.8.3"
  }
 },
 "nbformat": 4,
 "nbformat_minor": 4
}
