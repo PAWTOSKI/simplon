{
 "cells": [
  {
   "cell_type": "code",
   "execution_count": 19,
   "metadata": {},
   "outputs": [],
   "source": [
    "#question 1  rédiger ces classes avec leurs constructeurs .modifier leurs méthodes __str__ de façon à rendre leur affichage utile\n",
    "\n",
    "import random\n",
    "import math\n",
    "\n",
    "class case :\n",
    "    def __init__(self,x,y):\n",
    "        self.x=x\n",
    "        self.y=y\n",
    "        \n",
    "    def adjacent(jeu):\n",
    "        case_courante=jeu.listedescreatures[jeu.actif].position \n",
    "        #liste comprehension des cases adjacentes à la condition que les coordonnées > 0 et != à case_courante\n",
    "        liste_adj=[case(i,j) for i in range(case_courante[0]-1, case_courante[0]+2) for j in range(case_courante[1]-1, case_courante[1]+2)if i!= 0 and j!=0 and (i,j)!=(case_courante[0],case_courante[1])  ]\n",
    "        \n",
    "        return liste_adj\n",
    "\n",
    "    def __index__(self):\n",
    "        return self\n",
    "    \n",
    "    def __list__(self):\n",
    "        return self\n",
    "        \n",
    "            \n",
    "    def __str__(self):\n",
    "        return self\n",
    "    \n",
    "        \n",
    "        \n",
    "class creature:\n",
    "    def __init__(self,nom, position):\n",
    "        self.nom=nom\n",
    "        self.position=position\n",
    "        self.symbole=nom[0]\n",
    "        \n",
    "        \n",
    "    def choisircible (self,jeu):  #entrée atendue : liste\n",
    "        liste_occ=[i for i in case.adjacent(jeu) ]   # case.adjacent sous forme de liste de classes, i // // d'un type \"class\"\n",
    "        if  [(i.x, i.y)  for i in liste_occ if jeu.est_occupee( (i.x, i.y))]:   # rappel :entrée pour méthode est_occupée sous forme de tuple\n",
    "            return ((i.x, i.y)[0]  for i in liste_occ if jeu.est_occupee( (i.x, i.y)))  ## sortie sous forme de tuple\n",
    "        else: \n",
    "            rang_r=random.randrange(0,(len(case.adjacent(jeu)))) \n",
    "            return (case.adjacent(jeu)[rang_r].x, case.adjacent(jeu)[rang_r].y) ## sortie sous forme de tuple\n",
    "       \n",
    "#correction rafik \n",
    "'''def deplacer (self, reature, case):\n",
    "        if creature.position in case.adjacent(self):\n",
    "            print(Victoire de \"+ creature.nom)\n",
    "            self.tour=O\n",
    "        else: \n",
    "            self.tour+=1\n",
    "            self.actif[c for c in self.listeCreatures if c != creature][0]\n",
    "        \n",
    "        creature.position=case    \n",
    "            \n",
    "            '''\n",
    "  \n",
    "\n",
    "        \n",
    "creature1=creature('elfe', (1,1))\n",
    "creature2=creature('nain', (2,2))\n",
    "\n",
    "class jeu:\n",
    "    def __init__(self,nombre_cases_cote, listedescreatures, actif) :\n",
    "        self.liste_cases=[case(i,j) for i in range(1,nombre_cases_cote+1) for j in range(1,nombre_cases_cote+1)]\n",
    "        self.listedescreatures=listedescreatures\n",
    "        self.tour=1\n",
    "        self.actif=actif\n",
    "    \n",
    "    \n",
    "    def damier(self):\n",
    "        l_côté=int((len(self.liste_cases))**0.5)\n",
    "       \n",
    "        for i in range(1, l_côté+1):\n",
    "            for j in range(1, l_côté+1):\n",
    "                if j!=l_côté : #and case(i,j)=non occupée\n",
    "                    print('{0} '.format('x'), end=\"\")    \n",
    "                else:\n",
    "                    print('x')\n",
    " \n",
    "\n",
    "    def est_occupee(self,case):\n",
    "        return case in [i.position for i in self.listedescreatures]  # ici 'case' sera sous forme de tuple\n",
    "    \n",
    "    \n",
    "    def deplacer (self,creature, case_):     # en entrée ,tapez le nom 'creature1' par ex pour l'argument 'creature'\n",
    "        index_creature=self.listedescreatures.index(creature)\n",
    "        position_avant=self.listedescreatures[index_creature].position\n",
    "        if case_ in [ (i.x, i.y) for i  in case.adjacent(self)] and self.est_occupee(case_):\n",
    "            \n",
    "            self.listedescreatures[index_creature].position=creature.choisircible(self) \n",
    "            message='gagné ,position_avant: %s, position_après: %s' %( position_avant, self.listedescreatures[index_creature].position )  \n",
    "            \n",
    "            #'vainqueur: joueur%s ,tour gagnant= %s, pièce gagnante: %s ' %(self.actif, self.tour, creature.nom)\n",
    "        else:\n",
    "            self.listedescreatures[index_creature].position=creature.choisircible(self) ##erreur car se transformant après pls tour en un 1 générator....\n",
    "            self.tour+=1\n",
    "            if self.actif==0:\n",
    "                self.actif=1 \n",
    "            else:\n",
    "                self.actif=0\n",
    "            message='tour: %s, position_avant: %s, position_après: %s' %( self.tour ,position_avant, self.listedescreatures[index_creature].position )\n",
    "        \n",
    "        return message\n",
    "            #'tour: %s, à vous de jouer joueur %s' %(self.tour, self.actif)\n",
    "                \n",
    "\n",
    "        #cases_auto=[(i,j) for i in range( , )]\n",
    "        #return \n",
    "    \n",
    "        \n",
    "    def __str__(self):\n",
    "        return self\n",
    "    \n",
    "\n",
    "    \n",
    "    "
   ]
  },
  {
   "cell_type": "code",
   "execution_count": 20,
   "metadata": {},
   "outputs": [],
   "source": [
    "partie1=jeu(4,[creature1,creature2], 0)\n",
    "\n",
    "#x=partie1.listedescreatures[0].position\n",
    "#ca=case.adjacent(partie1)\n",
    "#print(x)\n"
   ]
  },
  {
   "cell_type": "code",
   "execution_count": 21,
   "metadata": {},
   "outputs": [
    {
     "name": "stdout",
     "output_type": "stream",
     "text": [
      "(1, 1)\n",
      "tour: 2, position_avant: (1, 1), position_après: <generator object creature.choisircible.<locals>.<genexpr> at 0x000001F90E85E6D0>\n",
      "<generator object creature.choisircible.<locals>.<genexpr> at 0x000001F90E85E6D0>\n"
     ]
    }
   ],
   "source": [
    "print(partie1.listedescreatures[0].position)\n",
    "ca=partie1.deplacer(creature1,(1,4))\n",
    "print(ca)\n",
    "print(partie1.listedescreatures[0].position)"
   ]
  },
  {
   "cell_type": "code",
   "execution_count": 25,
   "metadata": {},
   "outputs": [
    {
     "name": "stdout",
     "output_type": "stream",
     "text": [
      "(1, 2)\n"
     ]
    },
    {
     "ename": "TypeError",
     "evalue": "'generator' object is not subscriptable",
     "output_type": "error",
     "traceback": [
      "\u001b[1;31m---------------------------------------------------------------------------\u001b[0m",
      "\u001b[1;31mTypeError\u001b[0m                                 Traceback (most recent call last)",
      "\u001b[1;32m<ipython-input-25-1160882860b1>\u001b[0m in \u001b[0;36m<module>\u001b[1;34m\u001b[0m\n\u001b[0;32m      1\u001b[0m \u001b[0mprint\u001b[0m\u001b[1;33m(\u001b[0m\u001b[0mpartie1\u001b[0m\u001b[1;33m.\u001b[0m\u001b[0mlistedescreatures\u001b[0m\u001b[1;33m[\u001b[0m\u001b[1;36m1\u001b[0m\u001b[1;33m]\u001b[0m\u001b[1;33m.\u001b[0m\u001b[0mposition\u001b[0m\u001b[1;33m)\u001b[0m\u001b[1;33m\u001b[0m\u001b[1;33m\u001b[0m\u001b[0m\n\u001b[1;32m----> 2\u001b[1;33m \u001b[0mca\u001b[0m\u001b[1;33m=\u001b[0m\u001b[0mpartie1\u001b[0m\u001b[1;33m.\u001b[0m\u001b[0mdeplacer\u001b[0m\u001b[1;33m(\u001b[0m\u001b[0mcreature2\u001b[0m\u001b[1;33m,\u001b[0m\u001b[1;33m(\u001b[0m\u001b[1;36m2\u001b[0m\u001b[1;33m,\u001b[0m\u001b[1;36m2\u001b[0m\u001b[1;33m)\u001b[0m\u001b[1;33m)\u001b[0m\u001b[1;33m\u001b[0m\u001b[1;33m\u001b[0m\u001b[0m\n\u001b[0m\u001b[0;32m      3\u001b[0m \u001b[0mprint\u001b[0m\u001b[1;33m(\u001b[0m\u001b[0mca\u001b[0m\u001b[1;33m)\u001b[0m\u001b[1;33m\u001b[0m\u001b[1;33m\u001b[0m\u001b[0m\n\u001b[0;32m      4\u001b[0m \u001b[0mprint\u001b[0m\u001b[1;33m(\u001b[0m\u001b[0mpartie1\u001b[0m\u001b[1;33m.\u001b[0m\u001b[0mlistedescreatures\u001b[0m\u001b[1;33m[\u001b[0m\u001b[1;36m1\u001b[0m\u001b[1;33m]\u001b[0m\u001b[1;33m.\u001b[0m\u001b[0mposition\u001b[0m\u001b[1;33m)\u001b[0m\u001b[1;33m\u001b[0m\u001b[1;33m\u001b[0m\u001b[0m\n",
      "\u001b[1;32m<ipython-input-19-1f4cf4d8ed28>\u001b[0m in \u001b[0;36mdeplacer\u001b[1;34m(self, creature, case_)\u001b[0m\n\u001b[0;32m     87\u001b[0m         \u001b[0mindex_creature\u001b[0m\u001b[1;33m=\u001b[0m\u001b[0mself\u001b[0m\u001b[1;33m.\u001b[0m\u001b[0mlistedescreatures\u001b[0m\u001b[1;33m.\u001b[0m\u001b[0mindex\u001b[0m\u001b[1;33m(\u001b[0m\u001b[0mcreature\u001b[0m\u001b[1;33m)\u001b[0m\u001b[1;33m\u001b[0m\u001b[1;33m\u001b[0m\u001b[0m\n\u001b[0;32m     88\u001b[0m         \u001b[0mposition_avant\u001b[0m\u001b[1;33m=\u001b[0m\u001b[0mself\u001b[0m\u001b[1;33m.\u001b[0m\u001b[0mlistedescreatures\u001b[0m\u001b[1;33m[\u001b[0m\u001b[0mindex_creature\u001b[0m\u001b[1;33m]\u001b[0m\u001b[1;33m.\u001b[0m\u001b[0mposition\u001b[0m\u001b[1;33m\u001b[0m\u001b[1;33m\u001b[0m\u001b[0m\n\u001b[1;32m---> 89\u001b[1;33m         \u001b[1;32mif\u001b[0m \u001b[0mcase_\u001b[0m \u001b[1;32min\u001b[0m \u001b[1;33m[\u001b[0m \u001b[1;33m(\u001b[0m\u001b[0mi\u001b[0m\u001b[1;33m.\u001b[0m\u001b[0mx\u001b[0m\u001b[1;33m,\u001b[0m \u001b[0mi\u001b[0m\u001b[1;33m.\u001b[0m\u001b[0my\u001b[0m\u001b[1;33m)\u001b[0m \u001b[1;32mfor\u001b[0m \u001b[0mi\u001b[0m  \u001b[1;32min\u001b[0m \u001b[0mcase\u001b[0m\u001b[1;33m.\u001b[0m\u001b[0madjacent\u001b[0m\u001b[1;33m(\u001b[0m\u001b[0mself\u001b[0m\u001b[1;33m)\u001b[0m\u001b[1;33m]\u001b[0m \u001b[1;32mand\u001b[0m \u001b[0mself\u001b[0m\u001b[1;33m.\u001b[0m\u001b[0mest_occupee\u001b[0m\u001b[1;33m(\u001b[0m\u001b[0mcase_\u001b[0m\u001b[1;33m)\u001b[0m\u001b[1;33m:\u001b[0m\u001b[1;33m\u001b[0m\u001b[1;33m\u001b[0m\u001b[0m\n\u001b[0m\u001b[0;32m     90\u001b[0m \u001b[1;33m\u001b[0m\u001b[0m\n\u001b[0;32m     91\u001b[0m             \u001b[0mself\u001b[0m\u001b[1;33m.\u001b[0m\u001b[0mlistedescreatures\u001b[0m\u001b[1;33m[\u001b[0m\u001b[0mindex_creature\u001b[0m\u001b[1;33m]\u001b[0m\u001b[1;33m.\u001b[0m\u001b[0mposition\u001b[0m\u001b[1;33m=\u001b[0m\u001b[0mcreature\u001b[0m\u001b[1;33m.\u001b[0m\u001b[0mchoisircible\u001b[0m\u001b[1;33m(\u001b[0m\u001b[0mself\u001b[0m\u001b[1;33m)\u001b[0m\u001b[1;33m\u001b[0m\u001b[1;33m\u001b[0m\u001b[0m\n",
      "\u001b[1;32m<ipython-input-19-1f4cf4d8ed28>\u001b[0m in \u001b[0;36madjacent\u001b[1;34m(jeu)\u001b[0m\n\u001b[0;32m     12\u001b[0m         \u001b[0mcase_courante\u001b[0m\u001b[1;33m=\u001b[0m\u001b[0mjeu\u001b[0m\u001b[1;33m.\u001b[0m\u001b[0mlistedescreatures\u001b[0m\u001b[1;33m[\u001b[0m\u001b[0mjeu\u001b[0m\u001b[1;33m.\u001b[0m\u001b[0mactif\u001b[0m\u001b[1;33m]\u001b[0m\u001b[1;33m.\u001b[0m\u001b[0mposition\u001b[0m\u001b[1;33m\u001b[0m\u001b[1;33m\u001b[0m\u001b[0m\n\u001b[0;32m     13\u001b[0m         \u001b[1;31m#liste comprehension des cases adjacentes à la condition que les coordonnées > 0 et != à case_courante\u001b[0m\u001b[1;33m\u001b[0m\u001b[1;33m\u001b[0m\u001b[1;33m\u001b[0m\u001b[0m\n\u001b[1;32m---> 14\u001b[1;33m         \u001b[0mliste_adj\u001b[0m\u001b[1;33m=\u001b[0m\u001b[1;33m[\u001b[0m\u001b[0mcase\u001b[0m\u001b[1;33m(\u001b[0m\u001b[0mi\u001b[0m\u001b[1;33m,\u001b[0m\u001b[0mj\u001b[0m\u001b[1;33m)\u001b[0m \u001b[1;32mfor\u001b[0m \u001b[0mi\u001b[0m \u001b[1;32min\u001b[0m \u001b[0mrange\u001b[0m\u001b[1;33m(\u001b[0m\u001b[0mcase_courante\u001b[0m\u001b[1;33m[\u001b[0m\u001b[1;36m0\u001b[0m\u001b[1;33m]\u001b[0m\u001b[1;33m-\u001b[0m\u001b[1;36m1\u001b[0m\u001b[1;33m,\u001b[0m \u001b[0mcase_courante\u001b[0m\u001b[1;33m[\u001b[0m\u001b[1;36m0\u001b[0m\u001b[1;33m]\u001b[0m\u001b[1;33m+\u001b[0m\u001b[1;36m2\u001b[0m\u001b[1;33m)\u001b[0m \u001b[1;32mfor\u001b[0m \u001b[0mj\u001b[0m \u001b[1;32min\u001b[0m \u001b[0mrange\u001b[0m\u001b[1;33m(\u001b[0m\u001b[0mcase_courante\u001b[0m\u001b[1;33m[\u001b[0m\u001b[1;36m1\u001b[0m\u001b[1;33m]\u001b[0m\u001b[1;33m-\u001b[0m\u001b[1;36m1\u001b[0m\u001b[1;33m,\u001b[0m \u001b[0mcase_courante\u001b[0m\u001b[1;33m[\u001b[0m\u001b[1;36m1\u001b[0m\u001b[1;33m]\u001b[0m\u001b[1;33m+\u001b[0m\u001b[1;36m2\u001b[0m\u001b[1;33m)\u001b[0m\u001b[1;32mif\u001b[0m \u001b[0mi\u001b[0m\u001b[1;33m!=\u001b[0m \u001b[1;36m0\u001b[0m \u001b[1;32mand\u001b[0m \u001b[0mj\u001b[0m\u001b[1;33m!=\u001b[0m\u001b[1;36m0\u001b[0m \u001b[1;32mand\u001b[0m \u001b[1;33m(\u001b[0m\u001b[0mi\u001b[0m\u001b[1;33m,\u001b[0m\u001b[0mj\u001b[0m\u001b[1;33m)\u001b[0m\u001b[1;33m!=\u001b[0m\u001b[1;33m(\u001b[0m\u001b[0mcase_courante\u001b[0m\u001b[1;33m[\u001b[0m\u001b[1;36m0\u001b[0m\u001b[1;33m]\u001b[0m\u001b[1;33m,\u001b[0m\u001b[0mcase_courante\u001b[0m\u001b[1;33m[\u001b[0m\u001b[1;36m1\u001b[0m\u001b[1;33m]\u001b[0m\u001b[1;33m)\u001b[0m  \u001b[1;33m]\u001b[0m\u001b[1;33m\u001b[0m\u001b[1;33m\u001b[0m\u001b[0m\n\u001b[0m\u001b[0;32m     15\u001b[0m \u001b[1;33m\u001b[0m\u001b[0m\n\u001b[0;32m     16\u001b[0m         \u001b[1;32mreturn\u001b[0m \u001b[0mliste_adj\u001b[0m\u001b[1;33m\u001b[0m\u001b[1;33m\u001b[0m\u001b[0m\n",
      "\u001b[1;31mTypeError\u001b[0m: 'generator' object is not subscriptable"
     ]
    }
   ],
   "source": [
    "print(partie1.listedescreatures[1].position)\n",
    "ca=partie1.deplacer(creature2,(2,2))\n",
    "print(ca)\n",
    "print(partie1.listedescreatures[1].position)"
   ]
  },
  {
   "cell_type": "code",
   "execution_count": 23,
   "metadata": {},
   "outputs": [
    {
     "name": "stdout",
     "output_type": "stream",
     "text": [
      "1\n",
      "(2, 2)\n",
      "[<__main__.creature object at 0x000001F90E86EC70>, <__main__.creature object at 0x000001F90E86ECD0>]\n"
     ]
    }
   ],
   "source": [
    "print(partie1.actif)\n",
    "print((partie1.listedescreatures[partie1.actif].position ))\n",
    "print(partie1.listedescreatures)"
   ]
  },
  {
   "cell_type": "code",
   "execution_count": null,
   "metadata": {},
   "outputs": [],
   "source": []
  },
  {
   "cell_type": "code",
   "execution_count": null,
   "metadata": {},
   "outputs": [],
   "source": []
  },
  {
   "cell_type": "code",
   "execution_count": null,
   "metadata": {},
   "outputs": [],
   "source": [
    "#Correction question \n",
    "\n",
    "\n",
    "\"\"\"def ChoisirCible (self, jeu):\n",
    "        possibles = self.position.adjacentes(jeu)\n",
    "        occupees = [case for case in possibles if jeu.estOccupee(c)]\n",
    "        if len(occupees)>0:\n",
    "            return occupees[0]\n",
    "        else:\n",
    "            i = randrange(0, len(possibles))\n",
    "            return possibles[i]\"\"\""
   ]
  },
  {
   "cell_type": "code",
   "execution_count": null,
   "metadata": {},
   "outputs": [],
   "source": [
    "# correction question \n",
    "\n",
    "\"\"\"def adjacentes(self, jeu):\n",
    "        return [c for c in jeu.listeCases if self != c and abs(c.x-self.x)<2 and abs(c.y-self.y)<2]\n",
    "\"\"\""
   ]
  },
  {
   "cell_type": "code",
   "execution_count": null,
   "metadata": {},
   "outputs": [],
   "source": [
    "# correction question \n",
    "\n",
    "\"\"\"def deplacer(self, creature, case):\n",
    "        if creature.position in case.adjacentes(self):\n",
    "            if self.estOccupee(case):\n",
    "                print(\"Victoire de \" + creature.nom)\n",
    "                self.tour = 0\n",
    "            else:\n",
    "                self.tour += 1\n",
    "                self.actif = [c for c in self.listeCreatures\n",
    "                             if c != creature][0]\n",
    "            creature.position = case\"\"\""
   ]
  },
  {
   "cell_type": "code",
   "execution_count": null,
   "metadata": {},
   "outputs": [],
   "source": [
    "\"\"\"#initialisation\n",
    "\n",
    "listeCases =[]\n",
    "for x in range(4):\n",
    "    for y in range(4):\n",
    "        listeCases.append(Case(x, y))\n",
    "bot1 = Creature(\"bot1\", listeCases[0])\n",
    "bot2 = Creature(\"bot2\", listeCases[-1])\n",
    "\n",
    "jeu = Jeu(listeCases, [bot1, bot2])\n",
    "\n",
    "#partie\n",
    "\n",
    "while jeu.tour > 0:\n",
    "    print(jeu)\n",
    "    cible = jeu.actif.ChoisirCible(jeu)\n",
    "    jeu.deplacer(jeu.actif, cible)\"\"\""
   ]
  },
  {
   "cell_type": "code",
   "execution_count": null,
   "metadata": {},
   "outputs": [],
   "source": [
    "\"\"\"\"\"\""
   ]
  },
  {
   "cell_type": "code",
   "execution_count": null,
   "metadata": {},
   "outputs": [],
   "source": []
  },
  {
   "cell_type": "code",
   "execution_count": null,
   "metadata": {},
   "outputs": [],
   "source": []
  },
  {
   "cell_type": "code",
   "execution_count": null,
   "metadata": {},
   "outputs": [],
   "source": []
  }
 ],
 "metadata": {
  "kernelspec": {
   "display_name": "Python 3",
   "language": "python",
   "name": "python3"
  },
  "language_info": {
   "codemirror_mode": {
    "name": "ipython",
    "version": 3
   },
   "file_extension": ".py",
   "mimetype": "text/x-python",
   "name": "python",
   "nbconvert_exporter": "python",
   "pygments_lexer": "ipython3",
   "version": "3.8.3"
  }
 },
 "nbformat": 4,
 "nbformat_minor": 4
}
