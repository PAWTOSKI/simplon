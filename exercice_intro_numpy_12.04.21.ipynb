{
 "cells": [
  {
   "cell_type": "code",
   "execution_count": 41,
   "metadata": {},
   "outputs": [],
   "source": [
    "import numpy as np\n",
    "from sklearn import datasets\n",
    "\n",
    "data_iris=datasets.load_iris().data"
   ]
  },
  {
   "cell_type": "code",
   "execution_count": 42,
   "metadata": {},
   "outputs": [
    {
     "name": "stdout",
     "output_type": "stream",
     "text": [
      "[ 1  2  3  4  5  6  7  8  9 10 11 12 13 14 15 16 17 18 19 20]\n"
     ]
    },
    {
     "data": {
      "text/plain": [
       "numpy.ndarray"
      ]
     },
     "execution_count": 42,
     "metadata": {},
     "output_type": "execute_result"
    }
   ],
   "source": [
    "notre_tableau = np.array([1,2,3,4,5,6,7,8,9,10,11,12,13,14,15,16,17,18,19,20])\n",
    "print(notre_tableau)\n",
    "type(notre_tableau)"
   ]
  },
  {
   "cell_type": "code",
   "execution_count": 43,
   "metadata": {},
   "outputs": [
    {
     "name": "stdout",
     "output_type": "stream",
     "text": [
      "[[1 2 3]\n",
      " [4 5 6]\n",
      " [7 8 9]]\n"
     ]
    }
   ],
   "source": [
    "mon_array_bidimensionnel=np.array([[1,2,3],[4,5,6],[7,8,9]])\n",
    "print(mon_array_bidimensionnel)"
   ]
  },
  {
   "cell_type": "code",
   "execution_count": 44,
   "metadata": {},
   "outputs": [
    {
     "name": "stdout",
     "output_type": "stream",
     "text": [
      "3\n",
      "3\n",
      "[1 4 7]\n",
      "[1 2 3]\n"
     ]
    }
   ],
   "source": [
    "print(mon_array_bidimensionnel[0,2])\n",
    "\n",
    "print(mon_array_bidimensionnel[0,2])\n",
    "\n",
    "print(mon_array_bidimensionnel[:,0])\n",
    "\n",
    "print(mon_array_bidimensionnel[0,:])"
   ]
  },
  {
   "cell_type": "code",
   "execution_count": 45,
   "metadata": {},
   "outputs": [
    {
     "ename": "ValueError",
     "evalue": "invalid literal for int() with base 10: 'texte'",
     "output_type": "error",
     "traceback": [
      "\u001b[1;31m---------------------------------------------------------------------------\u001b[0m",
      "\u001b[1;31mValueError\u001b[0m                                Traceback (most recent call last)",
      "\u001b[1;32m<ipython-input-45-781e56733282>\u001b[0m in \u001b[0;36m<module>\u001b[1;34m\u001b[0m\n\u001b[1;32m----> 1\u001b[1;33m \u001b[0mmon_array_bidimensionnel\u001b[0m\u001b[1;33m[\u001b[0m\u001b[1;36m0\u001b[0m\u001b[1;33m,\u001b[0m\u001b[1;36m0\u001b[0m\u001b[1;33m]\u001b[0m\u001b[1;33m=\u001b[0m\u001b[1;34m\"texte\"\u001b[0m\u001b[1;33m\u001b[0m\u001b[1;33m\u001b[0m\u001b[0m\n\u001b[0m",
      "\u001b[1;31mValueError\u001b[0m: invalid literal for int() with base 10: 'texte'"
     ]
    }
   ],
   "source": [
    "mon_array_bidimensionnel[0,0]=\"texte\""
   ]
  },
  {
   "cell_type": "code",
   "execution_count": 46,
   "metadata": {},
   "outputs": [
    {
     "data": {
      "text/plain": [
       "dtype('int32')"
      ]
     },
     "execution_count": 46,
     "metadata": {},
     "output_type": "execute_result"
    }
   ],
   "source": [
    "mon_array_bidimensionnel.dtype"
   ]
  },
  {
   "cell_type": "code",
   "execution_count": 47,
   "metadata": {},
   "outputs": [
    {
     "name": "stdout",
     "output_type": "stream",
     "text": [
      "[[1.5 2.  3. ]\n",
      " [4.  5.2 6. ]\n",
      " [7.  8.  9.1]]\n"
     ]
    },
    {
     "data": {
      "text/plain": [
       "dtype('float64')"
      ]
     },
     "execution_count": 47,
     "metadata": {},
     "output_type": "execute_result"
    }
   ],
   "source": [
    "mon_array_bidimensionnel = np.array([[1.5,2,3],[4,5.2,6],[7,8,9.1]], dtype = float)\n",
    "print(mon_array_bidimensionnel)\n",
    "mon_array_bidimensionnel.dtype"
   ]
  },
  {
   "cell_type": "code",
   "execution_count": 48,
   "metadata": {},
   "outputs": [
    {
     "name": "stdout",
     "output_type": "stream",
     "text": [
      "[[0. 0. 0. 0. 0. 0.]\n",
      " [0. 0. 0. 0. 0. 0.]\n",
      " [0. 0. 0. 0. 0. 0.]\n",
      " [0. 0. 0. 0. 0. 0.]]\n"
     ]
    }
   ],
   "source": [
    "mon_array_zeros = np.zeros((4,6))\n",
    "print(mon_array_zeros)"
   ]
  },
  {
   "cell_type": "code",
   "execution_count": 49,
   "metadata": {},
   "outputs": [
    {
     "name": "stdout",
     "output_type": "stream",
     "text": [
      "[[1. 1. 1. 1. 1. 1.]\n",
      " [1. 1. 1. 1. 1. 1.]\n",
      " [1. 1. 1. 1. 1. 1.]\n",
      " [1. 1. 1. 1. 1. 1.]]\n"
     ]
    }
   ],
   "source": [
    "mon_array_ones = np.ones((4,6))\n",
    "print(mon_array_ones)"
   ]
  },
  {
   "cell_type": "code",
   "execution_count": 50,
   "metadata": {},
   "outputs": [
    {
     "name": "stdout",
     "output_type": "stream",
     "text": [
      "[[0.22405549 0.94700736]\n",
      " [0.22240837 0.88082833]\n",
      " [0.28332861 0.97621432]\n",
      " [0.60412771 0.37429988]]\n"
     ]
    }
   ],
   "source": [
    "mon_array_random=np.random.random((4,2))\n",
    "print(mon_array_random)"
   ]
  },
  {
   "cell_type": "code",
   "execution_count": null,
   "metadata": {},
   "outputs": [],
   "source": []
  },
  {
   "cell_type": "code",
   "execution_count": 51,
   "metadata": {},
   "outputs": [
    {
     "name": "stdout",
     "output_type": "stream",
     "text": [
      "[[5.1 3.5 1.4 0.2]\n",
      " [4.9 3.  1.4 0.2]\n",
      " [4.7 3.2 1.3 0.2]\n",
      " [4.6 3.1 1.5 0.2]\n",
      " [5.  3.6 1.4 0.2]\n",
      " [5.4 3.9 1.7 0.4]\n",
      " [4.6 3.4 1.4 0.3]\n",
      " [5.  3.4 1.5 0.2]\n",
      " [4.4 2.9 1.4 0.2]\n",
      " [4.9 3.1 1.5 0.1]\n",
      " [5.4 3.7 1.5 0.2]\n",
      " [4.8 3.4 1.6 0.2]\n",
      " [4.8 3.  1.4 0.1]\n",
      " [4.3 3.  1.1 0.1]\n",
      " [5.8 4.  1.2 0.2]\n",
      " [5.7 4.4 1.5 0.4]\n",
      " [5.4 3.9 1.3 0.4]\n",
      " [5.1 3.5 1.4 0.3]\n",
      " [5.7 3.8 1.7 0.3]\n",
      " [5.1 3.8 1.5 0.3]\n",
      " [5.4 3.4 1.7 0.2]\n",
      " [5.1 3.7 1.5 0.4]\n",
      " [4.6 3.6 1.  0.2]\n",
      " [5.1 3.3 1.7 0.5]\n",
      " [4.8 3.4 1.9 0.2]\n",
      " [5.  3.  1.6 0.2]\n",
      " [5.  3.4 1.6 0.4]\n",
      " [5.2 3.5 1.5 0.2]\n",
      " [5.2 3.4 1.4 0.2]\n",
      " [4.7 3.2 1.6 0.2]\n",
      " [4.8 3.1 1.6 0.2]\n",
      " [5.4 3.4 1.5 0.4]\n",
      " [5.2 4.1 1.5 0.1]\n",
      " [5.5 4.2 1.4 0.2]\n",
      " [4.9 3.1 1.5 0.2]\n",
      " [5.  3.2 1.2 0.2]\n",
      " [5.5 3.5 1.3 0.2]\n",
      " [4.9 3.6 1.4 0.1]\n",
      " [4.4 3.  1.3 0.2]\n",
      " [5.1 3.4 1.5 0.2]\n",
      " [5.  3.5 1.3 0.3]\n",
      " [4.5 2.3 1.3 0.3]\n",
      " [4.4 3.2 1.3 0.2]\n",
      " [5.  3.5 1.6 0.6]\n",
      " [5.1 3.8 1.9 0.4]\n",
      " [4.8 3.  1.4 0.3]\n",
      " [5.1 3.8 1.6 0.2]\n",
      " [4.6 3.2 1.4 0.2]\n",
      " [5.3 3.7 1.5 0.2]\n",
      " [5.  3.3 1.4 0.2]\n",
      " [7.  3.2 4.7 1.4]\n",
      " [6.4 3.2 4.5 1.5]\n",
      " [6.9 3.1 4.9 1.5]\n",
      " [5.5 2.3 4.  1.3]\n",
      " [6.5 2.8 4.6 1.5]\n",
      " [5.7 2.8 4.5 1.3]\n",
      " [6.3 3.3 4.7 1.6]\n",
      " [4.9 2.4 3.3 1. ]\n",
      " [6.6 2.9 4.6 1.3]\n",
      " [5.2 2.7 3.9 1.4]\n",
      " [5.  2.  3.5 1. ]\n",
      " [5.9 3.  4.2 1.5]\n",
      " [6.  2.2 4.  1. ]\n",
      " [6.1 2.9 4.7 1.4]\n",
      " [5.6 2.9 3.6 1.3]\n",
      " [6.7 3.1 4.4 1.4]\n",
      " [5.6 3.  4.5 1.5]\n",
      " [5.8 2.7 4.1 1. ]\n",
      " [6.2 2.2 4.5 1.5]\n",
      " [5.6 2.5 3.9 1.1]\n",
      " [5.9 3.2 4.8 1.8]\n",
      " [6.1 2.8 4.  1.3]\n",
      " [6.3 2.5 4.9 1.5]\n",
      " [6.1 2.8 4.7 1.2]\n",
      " [6.4 2.9 4.3 1.3]\n",
      " [6.6 3.  4.4 1.4]\n",
      " [6.8 2.8 4.8 1.4]\n",
      " [6.7 3.  5.  1.7]\n",
      " [6.  2.9 4.5 1.5]\n",
      " [5.7 2.6 3.5 1. ]\n",
      " [5.5 2.4 3.8 1.1]\n",
      " [5.5 2.4 3.7 1. ]\n",
      " [5.8 2.7 3.9 1.2]\n",
      " [6.  2.7 5.1 1.6]\n",
      " [5.4 3.  4.5 1.5]\n",
      " [6.  3.4 4.5 1.6]\n",
      " [6.7 3.1 4.7 1.5]\n",
      " [6.3 2.3 4.4 1.3]\n",
      " [5.6 3.  4.1 1.3]\n",
      " [5.5 2.5 4.  1.3]\n",
      " [5.5 2.6 4.4 1.2]\n",
      " [6.1 3.  4.6 1.4]\n",
      " [5.8 2.6 4.  1.2]\n",
      " [5.  2.3 3.3 1. ]\n",
      " [5.6 2.7 4.2 1.3]\n",
      " [5.7 3.  4.2 1.2]\n",
      " [5.7 2.9 4.2 1.3]\n",
      " [6.2 2.9 4.3 1.3]\n",
      " [5.1 2.5 3.  1.1]\n",
      " [5.7 2.8 4.1 1.3]\n",
      " [6.3 3.3 6.  2.5]\n",
      " [5.8 2.7 5.1 1.9]\n",
      " [7.1 3.  5.9 2.1]\n",
      " [6.3 2.9 5.6 1.8]\n",
      " [6.5 3.  5.8 2.2]\n",
      " [7.6 3.  6.6 2.1]\n",
      " [4.9 2.5 4.5 1.7]\n",
      " [7.3 2.9 6.3 1.8]\n",
      " [6.7 2.5 5.8 1.8]\n",
      " [7.2 3.6 6.1 2.5]\n",
      " [6.5 3.2 5.1 2. ]\n",
      " [6.4 2.7 5.3 1.9]\n",
      " [6.8 3.  5.5 2.1]\n",
      " [5.7 2.5 5.  2. ]\n",
      " [5.8 2.8 5.1 2.4]\n",
      " [6.4 3.2 5.3 2.3]\n",
      " [6.5 3.  5.5 1.8]\n",
      " [7.7 3.8 6.7 2.2]\n",
      " [7.7 2.6 6.9 2.3]\n",
      " [6.  2.2 5.  1.5]\n",
      " [6.9 3.2 5.7 2.3]\n",
      " [5.6 2.8 4.9 2. ]\n",
      " [7.7 2.8 6.7 2. ]\n",
      " [6.3 2.7 4.9 1.8]\n",
      " [6.7 3.3 5.7 2.1]\n",
      " [7.2 3.2 6.  1.8]\n",
      " [6.2 2.8 4.8 1.8]\n",
      " [6.1 3.  4.9 1.8]\n",
      " [6.4 2.8 5.6 2.1]\n",
      " [7.2 3.  5.8 1.6]\n",
      " [7.4 2.8 6.1 1.9]\n",
      " [7.9 3.8 6.4 2. ]\n",
      " [6.4 2.8 5.6 2.2]\n",
      " [6.3 2.8 5.1 1.5]\n",
      " [6.1 2.6 5.6 1.4]\n",
      " [7.7 3.  6.1 2.3]\n",
      " [6.3 3.4 5.6 2.4]\n",
      " [6.4 3.1 5.5 1.8]\n",
      " [6.  3.  4.8 1.8]\n",
      " [6.9 3.1 5.4 2.1]\n",
      " [6.7 3.1 5.6 2.4]\n",
      " [6.9 3.1 5.1 2.3]\n",
      " [5.8 2.7 5.1 1.9]\n",
      " [6.8 3.2 5.9 2.3]\n",
      " [6.7 3.3 5.7 2.5]\n",
      " [6.7 3.  5.2 2.3]\n",
      " [6.3 2.5 5.  1.9]\n",
      " [6.5 3.  5.2 2. ]\n",
      " [6.2 3.4 5.4 2.3]\n",
      " [5.9 3.  5.1 1.8]]\n",
      "float64\n"
     ]
    }
   ],
   "source": [
    "\n",
    "print(data_iris)\n",
    "print(data_iris.dtype)"
   ]
  },
  {
   "cell_type": "code",
   "execution_count": 52,
   "metadata": {},
   "outputs": [],
   "source": [
    "np.savetxt(\"iris_2.csv\",data_iris, delimiter=\";\")"
   ]
  },
  {
   "cell_type": "code",
   "execution_count": 53,
   "metadata": {},
   "outputs": [
    {
     "name": "stdout",
     "output_type": "stream",
     "text": [
      "3.2\n",
      "5.1\n",
      "3.5\n",
      "1.4\n"
     ]
    }
   ],
   "source": [
    "print(data_iris[2,1])\n",
    "print(data_iris[0,0])\n",
    "print(data_iris[0,1])\n",
    "print(data_iris[0,2])"
   ]
  },
  {
   "cell_type": "code",
   "execution_count": 54,
   "metadata": {},
   "outputs": [
    {
     "name": "stdout",
     "output_type": "stream",
     "text": [
      "4.0\n"
     ]
    }
   ],
   "source": [
    "data_iris[2,1]=4\n",
    "print(data_iris[2,1])"
   ]
  },
  {
   "cell_type": "code",
   "execution_count": 55,
   "metadata": {},
   "outputs": [
    {
     "name": "stdout",
     "output_type": "stream",
     "text": [
      "3.2\n"
     ]
    }
   ],
   "source": [
    "data_iris[2,1]=3.2\n",
    "print(data_iris[2,1])"
   ]
  },
  {
   "cell_type": "code",
   "execution_count": 56,
   "metadata": {},
   "outputs": [
    {
     "data": {
      "text/plain": [
       "array([5.1, 3.5, 4.9, 3. , 4.7, 3.2, 4.6, 3.1, 5. , 3.6, 5.4, 3.9, 4.6,\n",
       "       3.4, 5. , 3.4, 4.4, 2.9, 4.9, 3.1, 5.4, 3.7, 4.8, 3.4, 4.8, 3. ,\n",
       "       4.3, 3. , 5.8, 4. , 5.7, 4.4, 5.4, 3.9, 5.1, 3.5, 5.7, 3.8, 5.1,\n",
       "       3.8, 5.4, 3.4, 5.1, 3.7, 4.6, 3.6, 5.1, 3.3, 4.8, 3.4, 5. , 3. ,\n",
       "       5. , 3.4, 5.2, 3.5, 5.2, 3.4, 4.7, 3.2, 4.8, 3.1, 5.4, 3.4, 5.2,\n",
       "       4.1, 5.5, 4.2, 4.9, 3.1, 5. , 3.2, 5.5, 3.5, 4.9, 3.6, 4.4, 3. ,\n",
       "       5.1, 3.4, 5. , 3.5, 4.5, 2.3, 4.4, 3.2, 5. , 3.5, 5.1, 3.8, 4.8,\n",
       "       3. , 5.1, 3.8, 4.6, 3.2, 5.3, 3.7, 5. , 3.3, 7. , 3.2, 4.7, 6.4,\n",
       "       3.2, 4.5, 6.9, 3.1, 4.9, 5.5, 2.3, 4. , 6.5, 2.8, 4.6, 5.7, 2.8,\n",
       "       4.5, 6.3, 3.3, 4.7, 4.9, 2.4, 3.3, 6.6, 2.9, 4.6, 5.2, 2.7, 3.9,\n",
       "       5. , 3.5, 5.9, 3. , 4.2, 6. , 2.2, 4. , 6.1, 2.9, 4.7, 5.6, 2.9,\n",
       "       3.6, 6.7, 3.1, 4.4, 5.6, 3. , 4.5, 5.8, 2.7, 4.1, 6.2, 2.2, 4.5,\n",
       "       5.6, 2.5, 3.9, 5.9, 3.2, 4.8, 6.1, 2.8, 4. , 6.3, 2.5, 4.9, 6.1,\n",
       "       2.8, 4.7, 6.4, 2.9, 4.3, 6.6, 3. , 4.4, 6.8, 2.8, 4.8, 6.7, 3. ,\n",
       "       5. , 6. , 2.9, 4.5, 5.7, 2.6, 3.5, 5.5, 2.4, 3.8, 5.5, 2.4, 3.7,\n",
       "       5.8, 2.7, 3.9, 6. , 2.7, 5.1, 5.4, 3. , 4.5, 6. , 3.4, 4.5, 6.7,\n",
       "       3.1, 4.7, 6.3, 2.3, 4.4, 5.6, 3. , 4.1, 5.5, 2.5, 4. , 5.5, 2.6,\n",
       "       4.4, 6.1, 3. , 4.6, 5.8, 2.6, 4. , 5. , 2.3, 3.3, 5.6, 2.7, 4.2,\n",
       "       5.7, 3. , 4.2, 5.7, 2.9, 4.2, 6.2, 2.9, 4.3, 5.1, 2.5, 3. , 5.7,\n",
       "       2.8, 4.1, 6.3, 3.3, 6. , 2.5, 5.8, 2.7, 5.1, 7.1, 3. , 5.9, 2.1,\n",
       "       6.3, 2.9, 5.6, 6.5, 3. , 5.8, 2.2, 7.6, 3. , 6.6, 2.1, 4.9, 2.5,\n",
       "       4.5, 7.3, 2.9, 6.3, 6.7, 2.5, 5.8, 7.2, 3.6, 6.1, 2.5, 6.5, 3.2,\n",
       "       5.1, 6.4, 2.7, 5.3, 6.8, 3. , 5.5, 2.1, 5.7, 2.5, 5. , 5.8, 2.8,\n",
       "       5.1, 2.4, 6.4, 3.2, 5.3, 2.3, 6.5, 3. , 5.5, 7.7, 3.8, 6.7, 2.2,\n",
       "       7.7, 2.6, 6.9, 2.3, 6. , 2.2, 5. , 6.9, 3.2, 5.7, 2.3, 5.6, 2.8,\n",
       "       4.9, 7.7, 2.8, 6.7, 6.3, 2.7, 4.9, 6.7, 3.3, 5.7, 2.1, 7.2, 3.2,\n",
       "       6. , 6.2, 2.8, 4.8, 6.1, 3. , 4.9, 6.4, 2.8, 5.6, 2.1, 7.2, 3. ,\n",
       "       5.8, 7.4, 2.8, 6.1, 7.9, 3.8, 6.4, 6.4, 2.8, 5.6, 2.2, 6.3, 2.8,\n",
       "       5.1, 6.1, 2.6, 5.6, 7.7, 3. , 6.1, 2.3, 6.3, 3.4, 5.6, 2.4, 6.4,\n",
       "       3.1, 5.5, 6. , 3. , 4.8, 6.9, 3.1, 5.4, 2.1, 6.7, 3.1, 5.6, 2.4,\n",
       "       6.9, 3.1, 5.1, 2.3, 5.8, 2.7, 5.1, 6.8, 3.2, 5.9, 2.3, 6.7, 3.3,\n",
       "       5.7, 2.5, 6.7, 3. , 5.2, 2.3, 6.3, 2.5, 5. , 6.5, 3. , 5.2, 6.2,\n",
       "       3.4, 5.4, 2.3, 5.9, 3. , 5.1])"
      ]
     },
     "execution_count": 56,
     "metadata": {},
     "output_type": "execute_result"
    }
   ],
   "source": [
    "data_iris[data_iris>2]"
   ]
  },
  {
   "cell_type": "code",
   "execution_count": 57,
   "metadata": {},
   "outputs": [
    {
     "data": {
      "text/plain": [
       "(422,)"
      ]
     },
     "execution_count": 57,
     "metadata": {},
     "output_type": "execute_result"
    }
   ],
   "source": [
    "data_iris[data_iris>2].shape"
   ]
  },
  {
   "cell_type": "code",
   "execution_count": 58,
   "metadata": {},
   "outputs": [
    {
     "data": {
      "text/plain": [
       "422"
      ]
     },
     "execution_count": 58,
     "metadata": {},
     "output_type": "execute_result"
    }
   ],
   "source": [
    "data_iris[data_iris>2].shape[0]"
   ]
  },
  {
   "cell_type": "code",
   "execution_count": 59,
   "metadata": {},
   "outputs": [
    {
     "data": {
      "text/plain": [
       "array([[ True,  True, False, False],\n",
       "       [ True,  True, False, False],\n",
       "       [ True,  True, False, False],\n",
       "       [ True,  True, False, False],\n",
       "       [ True,  True, False, False],\n",
       "       [ True,  True, False, False],\n",
       "       [ True,  True, False, False],\n",
       "       [ True,  True, False, False],\n",
       "       [ True,  True, False, False],\n",
       "       [ True,  True, False, False],\n",
       "       [ True,  True, False, False],\n",
       "       [ True,  True, False, False],\n",
       "       [ True,  True, False, False],\n",
       "       [ True,  True, False, False],\n",
       "       [ True,  True, False, False],\n",
       "       [ True,  True, False, False],\n",
       "       [ True,  True, False, False],\n",
       "       [ True,  True, False, False],\n",
       "       [ True,  True, False, False],\n",
       "       [ True,  True, False, False],\n",
       "       [ True,  True, False, False],\n",
       "       [ True,  True, False, False],\n",
       "       [ True,  True, False, False],\n",
       "       [ True,  True, False, False],\n",
       "       [ True,  True, False, False],\n",
       "       [ True,  True, False, False],\n",
       "       [ True,  True, False, False],\n",
       "       [ True,  True, False, False],\n",
       "       [ True,  True, False, False],\n",
       "       [ True,  True, False, False],\n",
       "       [ True,  True, False, False],\n",
       "       [ True,  True, False, False],\n",
       "       [ True,  True, False, False],\n",
       "       [ True,  True, False, False],\n",
       "       [ True,  True, False, False],\n",
       "       [ True,  True, False, False],\n",
       "       [ True,  True, False, False],\n",
       "       [ True,  True, False, False],\n",
       "       [ True,  True, False, False],\n",
       "       [ True,  True, False, False],\n",
       "       [ True,  True, False, False],\n",
       "       [ True,  True, False, False],\n",
       "       [ True,  True, False, False],\n",
       "       [ True,  True, False, False],\n",
       "       [ True,  True, False, False],\n",
       "       [ True,  True, False, False],\n",
       "       [ True,  True, False, False],\n",
       "       [ True,  True, False, False],\n",
       "       [ True,  True, False, False],\n",
       "       [ True,  True, False, False],\n",
       "       [ True,  True,  True, False],\n",
       "       [ True,  True,  True, False],\n",
       "       [ True,  True,  True, False],\n",
       "       [ True,  True,  True, False],\n",
       "       [ True,  True,  True, False],\n",
       "       [ True,  True,  True, False],\n",
       "       [ True,  True,  True, False],\n",
       "       [ True,  True,  True, False],\n",
       "       [ True,  True,  True, False],\n",
       "       [ True,  True,  True, False],\n",
       "       [ True, False,  True, False],\n",
       "       [ True,  True,  True, False],\n",
       "       [ True,  True,  True, False],\n",
       "       [ True,  True,  True, False],\n",
       "       [ True,  True,  True, False],\n",
       "       [ True,  True,  True, False],\n",
       "       [ True,  True,  True, False],\n",
       "       [ True,  True,  True, False],\n",
       "       [ True,  True,  True, False],\n",
       "       [ True,  True,  True, False],\n",
       "       [ True,  True,  True, False],\n",
       "       [ True,  True,  True, False],\n",
       "       [ True,  True,  True, False],\n",
       "       [ True,  True,  True, False],\n",
       "       [ True,  True,  True, False],\n",
       "       [ True,  True,  True, False],\n",
       "       [ True,  True,  True, False],\n",
       "       [ True,  True,  True, False],\n",
       "       [ True,  True,  True, False],\n",
       "       [ True,  True,  True, False],\n",
       "       [ True,  True,  True, False],\n",
       "       [ True,  True,  True, False],\n",
       "       [ True,  True,  True, False],\n",
       "       [ True,  True,  True, False],\n",
       "       [ True,  True,  True, False],\n",
       "       [ True,  True,  True, False],\n",
       "       [ True,  True,  True, False],\n",
       "       [ True,  True,  True, False],\n",
       "       [ True,  True,  True, False],\n",
       "       [ True,  True,  True, False],\n",
       "       [ True,  True,  True, False],\n",
       "       [ True,  True,  True, False],\n",
       "       [ True,  True,  True, False],\n",
       "       [ True,  True,  True, False],\n",
       "       [ True,  True,  True, False],\n",
       "       [ True,  True,  True, False],\n",
       "       [ True,  True,  True, False],\n",
       "       [ True,  True,  True, False],\n",
       "       [ True,  True,  True, False],\n",
       "       [ True,  True,  True, False],\n",
       "       [ True,  True,  True,  True],\n",
       "       [ True,  True,  True, False],\n",
       "       [ True,  True,  True,  True],\n",
       "       [ True,  True,  True, False],\n",
       "       [ True,  True,  True,  True],\n",
       "       [ True,  True,  True,  True],\n",
       "       [ True,  True,  True, False],\n",
       "       [ True,  True,  True, False],\n",
       "       [ True,  True,  True, False],\n",
       "       [ True,  True,  True,  True],\n",
       "       [ True,  True,  True, False],\n",
       "       [ True,  True,  True, False],\n",
       "       [ True,  True,  True,  True],\n",
       "       [ True,  True,  True, False],\n",
       "       [ True,  True,  True,  True],\n",
       "       [ True,  True,  True,  True],\n",
       "       [ True,  True,  True, False],\n",
       "       [ True,  True,  True,  True],\n",
       "       [ True,  True,  True,  True],\n",
       "       [ True,  True,  True, False],\n",
       "       [ True,  True,  True,  True],\n",
       "       [ True,  True,  True, False],\n",
       "       [ True,  True,  True, False],\n",
       "       [ True,  True,  True, False],\n",
       "       [ True,  True,  True,  True],\n",
       "       [ True,  True,  True, False],\n",
       "       [ True,  True,  True, False],\n",
       "       [ True,  True,  True, False],\n",
       "       [ True,  True,  True,  True],\n",
       "       [ True,  True,  True, False],\n",
       "       [ True,  True,  True, False],\n",
       "       [ True,  True,  True, False],\n",
       "       [ True,  True,  True,  True],\n",
       "       [ True,  True,  True, False],\n",
       "       [ True,  True,  True, False],\n",
       "       [ True,  True,  True,  True],\n",
       "       [ True,  True,  True,  True],\n",
       "       [ True,  True,  True, False],\n",
       "       [ True,  True,  True, False],\n",
       "       [ True,  True,  True,  True],\n",
       "       [ True,  True,  True,  True],\n",
       "       [ True,  True,  True,  True],\n",
       "       [ True,  True,  True, False],\n",
       "       [ True,  True,  True,  True],\n",
       "       [ True,  True,  True,  True],\n",
       "       [ True,  True,  True,  True],\n",
       "       [ True,  True,  True, False],\n",
       "       [ True,  True,  True, False],\n",
       "       [ True,  True,  True,  True],\n",
       "       [ True,  True,  True, False]])"
      ]
     },
     "execution_count": 59,
     "metadata": {},
     "output_type": "execute_result"
    }
   ],
   "source": [
    "data_iris > 2"
   ]
  },
  {
   "cell_type": "code",
   "execution_count": 60,
   "metadata": {},
   "outputs": [
    {
     "data": {
      "text/plain": [
       "array([[5.1, 3.5, 1.4, 0.2],\n",
       "       [4.7, 3.2, 1.3, 0.2],\n",
       "       [4.6, 3.1, 1.5, 0.2],\n",
       "       [5. , 3.6, 1.4, 0.2],\n",
       "       [5.4, 3.9, 1.7, 0.4],\n",
       "       [4.6, 3.4, 1.4, 0.3],\n",
       "       [5. , 3.4, 1.5, 0.2],\n",
       "       [4.9, 3.1, 1.5, 0.1],\n",
       "       [5.4, 3.7, 1.5, 0.2],\n",
       "       [4.8, 3.4, 1.6, 0.2],\n",
       "       [5.8, 4. , 1.2, 0.2],\n",
       "       [5.7, 4.4, 1.5, 0.4],\n",
       "       [5.4, 3.9, 1.3, 0.4],\n",
       "       [5.1, 3.5, 1.4, 0.3],\n",
       "       [5.7, 3.8, 1.7, 0.3],\n",
       "       [5.1, 3.8, 1.5, 0.3],\n",
       "       [5.4, 3.4, 1.7, 0.2],\n",
       "       [5.1, 3.7, 1.5, 0.4],\n",
       "       [4.6, 3.6, 1. , 0.2],\n",
       "       [5.1, 3.3, 1.7, 0.5],\n",
       "       [4.8, 3.4, 1.9, 0.2],\n",
       "       [5. , 3.4, 1.6, 0.4],\n",
       "       [5.2, 3.5, 1.5, 0.2],\n",
       "       [5.2, 3.4, 1.4, 0.2],\n",
       "       [4.7, 3.2, 1.6, 0.2],\n",
       "       [4.8, 3.1, 1.6, 0.2],\n",
       "       [5.4, 3.4, 1.5, 0.4],\n",
       "       [5.2, 4.1, 1.5, 0.1],\n",
       "       [5.5, 4.2, 1.4, 0.2],\n",
       "       [4.9, 3.1, 1.5, 0.2],\n",
       "       [5. , 3.2, 1.2, 0.2],\n",
       "       [5.5, 3.5, 1.3, 0.2],\n",
       "       [4.9, 3.6, 1.4, 0.1],\n",
       "       [5.1, 3.4, 1.5, 0.2],\n",
       "       [5. , 3.5, 1.3, 0.3],\n",
       "       [4.4, 3.2, 1.3, 0.2],\n",
       "       [5. , 3.5, 1.6, 0.6],\n",
       "       [5.1, 3.8, 1.9, 0.4],\n",
       "       [5.1, 3.8, 1.6, 0.2],\n",
       "       [4.6, 3.2, 1.4, 0.2],\n",
       "       [5.3, 3.7, 1.5, 0.2],\n",
       "       [5. , 3.3, 1.4, 0.2],\n",
       "       [7. , 3.2, 4.7, 1.4],\n",
       "       [6.4, 3.2, 4.5, 1.5],\n",
       "       [6.9, 3.1, 4.9, 1.5],\n",
       "       [6.3, 3.3, 4.7, 1.6],\n",
       "       [6.7, 3.1, 4.4, 1.4],\n",
       "       [5.9, 3.2, 4.8, 1.8],\n",
       "       [6. , 3.4, 4.5, 1.6],\n",
       "       [6.7, 3.1, 4.7, 1.5],\n",
       "       [6.3, 3.3, 6. , 2.5],\n",
       "       [7.2, 3.6, 6.1, 2.5],\n",
       "       [6.5, 3.2, 5.1, 2. ],\n",
       "       [6.4, 3.2, 5.3, 2.3],\n",
       "       [7.7, 3.8, 6.7, 2.2],\n",
       "       [6.9, 3.2, 5.7, 2.3],\n",
       "       [6.7, 3.3, 5.7, 2.1],\n",
       "       [7.2, 3.2, 6. , 1.8],\n",
       "       [7.9, 3.8, 6.4, 2. ],\n",
       "       [6.3, 3.4, 5.6, 2.4],\n",
       "       [6.4, 3.1, 5.5, 1.8],\n",
       "       [6.9, 3.1, 5.4, 2.1],\n",
       "       [6.7, 3.1, 5.6, 2.4],\n",
       "       [6.9, 3.1, 5.1, 2.3],\n",
       "       [6.8, 3.2, 5.9, 2.3],\n",
       "       [6.7, 3.3, 5.7, 2.5],\n",
       "       [6.2, 3.4, 5.4, 2.3]])"
      ]
     },
     "execution_count": 60,
     "metadata": {},
     "output_type": "execute_result"
    }
   ],
   "source": [
    "data_iris[data_iris[:,1]>3]"
   ]
  },
  {
   "cell_type": "code",
   "execution_count": null,
   "metadata": {},
   "outputs": [],
   "source": []
  },
  {
   "cell_type": "code",
   "execution_count": 61,
   "metadata": {},
   "outputs": [
    {
     "name": "stdout",
     "output_type": "stream",
     "text": [
      "Conetenu de notre_tableau :\n",
      "[ 1  2  3  4  5  6  7  8  9 10 11 12 13 14 15 16 17 18 19 20]\n",
      "Nouveau tableau après fancy indexing :\n",
      "[[ 5 11  6]\n",
      " [13  9 10]]\n",
      "6\n"
     ]
    }
   ],
   "source": [
    "notre_tableau= np.array([1,2,3,4,5,6,7,8,9,10,11,12,13,14,15,16,17,18,19,20])\n",
    "print(\"Conetenu de notre_tableau :\")\n",
    "print(notre_tableau)\n",
    "print(\"Nouveau tableau après fancy indexing :\")\n",
    "indice = np.array([[4,10,5],[12,8,9]])\n",
    "A = notre_tableau[indice]\n",
    "print(A)\n",
    "print(A[0,2])"
   ]
  },
  {
   "cell_type": "code",
   "execution_count": 62,
   "metadata": {},
   "outputs": [
    {
     "data": {
      "text/plain": [
       "array([1, 2, 3])"
      ]
     },
     "execution_count": 62,
     "metadata": {},
     "output_type": "execute_result"
    }
   ],
   "source": [
    "notre_tableau[:3]"
   ]
  },
  {
   "cell_type": "code",
   "execution_count": 63,
   "metadata": {},
   "outputs": [
    {
     "data": {
      "text/plain": [
       "array([11, 12, 13, 14, 15, 16, 17, 18, 19, 20])"
      ]
     },
     "execution_count": 63,
     "metadata": {},
     "output_type": "execute_result"
    }
   ],
   "source": [
    "notre_tableau[10:]"
   ]
  },
  {
   "cell_type": "code",
   "execution_count": 64,
   "metadata": {},
   "outputs": [
    {
     "data": {
      "text/plain": [
       "array([4, 5, 6, 7])"
      ]
     },
     "execution_count": 64,
     "metadata": {},
     "output_type": "execute_result"
    }
   ],
   "source": [
    "notre_tableau[3:7]"
   ]
  },
  {
   "cell_type": "code",
   "execution_count": 65,
   "metadata": {},
   "outputs": [
    {
     "data": {
      "text/plain": [
       "array([ 1,  3,  5,  7,  9, 11, 13, 15, 17, 19])"
      ]
     },
     "execution_count": 65,
     "metadata": {},
     "output_type": "execute_result"
    }
   ],
   "source": [
    "notre_tableau[::2]"
   ]
  },
  {
   "cell_type": "code",
   "execution_count": 66,
   "metadata": {},
   "outputs": [
    {
     "data": {
      "text/plain": [
       "array([4, 7])"
      ]
     },
     "execution_count": 66,
     "metadata": {},
     "output_type": "execute_result"
    }
   ],
   "source": [
    "notre_tableau[3:8:3]"
   ]
  },
  {
   "cell_type": "code",
   "execution_count": 67,
   "metadata": {},
   "outputs": [
    {
     "data": {
      "text/plain": [
       "array([ 3,  5,  7,  9, 11, 13, 15, 17, 19])"
      ]
     },
     "execution_count": 67,
     "metadata": {},
     "output_type": "execute_result"
    }
   ],
   "source": [
    "notre_tableau[2::2]"
   ]
  },
  {
   "cell_type": "code",
   "execution_count": 68,
   "metadata": {},
   "outputs": [
    {
     "data": {
      "text/plain": [
       "array([[5.1, 3.5, 1.4, 0.2],\n",
       "       [4.9, 3. , 1.4, 0.2]])"
      ]
     },
     "execution_count": 68,
     "metadata": {},
     "output_type": "execute_result"
    }
   ],
   "source": [
    "data_iris[:2,:4]"
   ]
  },
  {
   "cell_type": "code",
   "execution_count": 69,
   "metadata": {},
   "outputs": [
    {
     "data": {
      "text/plain": [
       "array([[5.2, 2.3],\n",
       "       [5. , 1.9],\n",
       "       [5.2, 2. ],\n",
       "       [5.4, 2.3],\n",
       "       [5.1, 1.8]])"
      ]
     },
     "execution_count": 69,
     "metadata": {},
     "output_type": "execute_result"
    }
   ],
   "source": [
    "data_iris[145:,2:]"
   ]
  },
  {
   "cell_type": "code",
   "execution_count": 70,
   "metadata": {},
   "outputs": [
    {
     "data": {
      "text/plain": [
       "array([5.1, 3.5, 1.4, 0.2])"
      ]
     },
     "execution_count": 70,
     "metadata": {},
     "output_type": "execute_result"
    }
   ],
   "source": [
    "data_iris[0,:]"
   ]
  },
  {
   "cell_type": "code",
   "execution_count": 71,
   "metadata": {},
   "outputs": [
    {
     "data": {
      "text/plain": [
       "array([5.1, 4.9, 4.7, 4.6, 5. , 5.4, 4.6, 5. , 4.4, 4.9, 5.4, 4.8, 4.8,\n",
       "       4.3, 5.8, 5.7, 5.4, 5.1, 5.7, 5.1, 5.4, 5.1, 4.6, 5.1, 4.8, 5. ,\n",
       "       5. , 5.2, 5.2, 4.7, 4.8, 5.4, 5.2, 5.5, 4.9, 5. , 5.5, 4.9, 4.4,\n",
       "       5.1, 5. , 4.5, 4.4, 5. , 5.1, 4.8, 5.1, 4.6, 5.3, 5. , 7. , 6.4,\n",
       "       6.9, 5.5, 6.5, 5.7, 6.3, 4.9, 6.6, 5.2, 5. , 5.9, 6. , 6.1, 5.6,\n",
       "       6.7, 5.6, 5.8, 6.2, 5.6, 5.9, 6.1, 6.3, 6.1, 6.4, 6.6, 6.8, 6.7,\n",
       "       6. , 5.7, 5.5, 5.5, 5.8, 6. , 5.4, 6. , 6.7, 6.3, 5.6, 5.5, 5.5,\n",
       "       6.1, 5.8, 5. , 5.6, 5.7, 5.7, 6.2, 5.1, 5.7, 6.3, 5.8, 7.1, 6.3,\n",
       "       6.5, 7.6, 4.9, 7.3, 6.7, 7.2, 6.5, 6.4, 6.8, 5.7, 5.8, 6.4, 6.5,\n",
       "       7.7, 7.7, 6. , 6.9, 5.6, 7.7, 6.3, 6.7, 7.2, 6.2, 6.1, 6.4, 7.2,\n",
       "       7.4, 7.9, 6.4, 6.3, 6.1, 7.7, 6.3, 6.4, 6. , 6.9, 6.7, 6.9, 5.8,\n",
       "       6.8, 6.7, 6.7, 6.3, 6.5, 6.2, 5.9])"
      ]
     },
     "execution_count": 71,
     "metadata": {},
     "output_type": "execute_result"
    }
   ],
   "source": [
    "data_iris[:,0]"
   ]
  },
  {
   "cell_type": "code",
   "execution_count": 72,
   "metadata": {},
   "outputs": [
    {
     "data": {
      "text/plain": [
       "array([5.9, 3. , 5.1, 1.8])"
      ]
     },
     "execution_count": 72,
     "metadata": {},
     "output_type": "execute_result"
    }
   ],
   "source": [
    "data_iris[-1,:]"
   ]
  },
  {
   "cell_type": "code",
   "execution_count": 73,
   "metadata": {},
   "outputs": [
    {
     "data": {
      "text/plain": [
       "array([1, 2, 3, 4, 5])"
      ]
     },
     "execution_count": 73,
     "metadata": {},
     "output_type": "execute_result"
    }
   ],
   "source": [
    "sous_tableau = notre_tableau[:5]\n",
    "sous_tableau"
   ]
  },
  {
   "cell_type": "code",
   "execution_count": 74,
   "metadata": {},
   "outputs": [
    {
     "data": {
      "text/plain": [
       "array([10,  2,  3,  4,  5])"
      ]
     },
     "execution_count": 74,
     "metadata": {},
     "output_type": "execute_result"
    }
   ],
   "source": [
    "sous_tableau[0] = 10\n",
    "sous_tableau"
   ]
  },
  {
   "cell_type": "code",
   "execution_count": 75,
   "metadata": {},
   "outputs": [
    {
     "data": {
      "text/plain": [
       "array([10,  2,  3,  4,  5,  6,  7,  8,  9, 10, 11, 12, 13, 14, 15, 16, 17,\n",
       "       18, 19, 20])"
      ]
     },
     "execution_count": 75,
     "metadata": {},
     "output_type": "execute_result"
    }
   ],
   "source": [
    "notre_tableau"
   ]
  },
  {
   "cell_type": "code",
   "execution_count": 76,
   "metadata": {},
   "outputs": [
    {
     "name": "stdout",
     "output_type": "stream",
     "text": [
      "[10  2  3  4  5]\n",
      "[ 1  2  3  4  5  6  7  8  9 10 11 12 13 14 15 16 17 18 19 20]\n"
     ]
    }
   ],
   "source": [
    "notre_tableau= np.array([1,2,3,4,5,6,7,8,9,10,11,12,13,14,15,16,17,18,19,20])\n",
    "\n",
    "sous_tableau = notre_tableau[:5].copy()\n",
    "sous_tableau[0] = 10\n",
    "print(sous_tableau)\n",
    "print(notre_tableau)"
   ]
  },
  {
   "cell_type": "code",
   "execution_count": 77,
   "metadata": {},
   "outputs": [
    {
     "data": {
      "text/plain": [
       "array([[10, 11, 12],\n",
       "       [13, 14, 15],\n",
       "       [16, 17, 18]])"
      ]
     },
     "execution_count": 77,
     "metadata": {},
     "output_type": "execute_result"
    }
   ],
   "source": [
    "mon_tableau = np.array([[10,11,12],[13,14,15],[16,17,18]])\n",
    "mon_tableau"
   ]
  },
  {
   "cell_type": "code",
   "execution_count": 78,
   "metadata": {},
   "outputs": [
    {
     "data": {
      "text/plain": [
       "array([[20, 21, 22],\n",
       "       [23, 24, 25],\n",
       "       [26, 27, 28]])"
      ]
     },
     "execution_count": 78,
     "metadata": {},
     "output_type": "execute_result"
    }
   ],
   "source": [
    "np.add(mon_tableau,10)"
   ]
  },
  {
   "cell_type": "code",
   "execution_count": 79,
   "metadata": {},
   "outputs": [
    {
     "name": "stdout",
     "output_type": "stream",
     "text": [
      "[[200 220 240]\n",
      " [260 280 300]\n",
      " [320 340 360]]\n",
      "[[10 11 12]\n",
      " [13 14 15]\n",
      " [16 17 18]]\n"
     ]
    }
   ],
   "source": [
    "A = np.multiply(mon_tableau,20)\n",
    "print(A)\n",
    "print(mon_tableau)"
   ]
  },
  {
   "cell_type": "code",
   "execution_count": 80,
   "metadata": {},
   "outputs": [
    {
     "name": "stdout",
     "output_type": "stream",
     "text": [
      "[10 20 30]\n",
      "[[10 11 12]\n",
      " [13 14 15]\n",
      " [16 17 18]]\n"
     ]
    }
   ],
   "source": [
    "mon_tableau_2 = np.array([10,20,30])\n",
    "print(mon_tableau_2)\n",
    "print(mon_tableau)"
   ]
  },
  {
   "cell_type": "code",
   "execution_count": 81,
   "metadata": {},
   "outputs": [
    {
     "data": {
      "text/plain": [
       "array([[  0,  -9, -18],\n",
       "       [  3,  -6, -15],\n",
       "       [  6,  -3, -12]])"
      ]
     },
     "execution_count": 81,
     "metadata": {},
     "output_type": "execute_result"
    }
   ],
   "source": [
    "np.subtract(mon_tableau,mon_tableau_2)"
   ]
  },
  {
   "cell_type": "code",
   "execution_count": 82,
   "metadata": {},
   "outputs": [
    {
     "data": {
      "text/plain": [
       "array([10, 20, 30])"
      ]
     },
     "execution_count": 82,
     "metadata": {},
     "output_type": "execute_result"
    }
   ],
   "source": [
    "mon_tableau_2"
   ]
  },
  {
   "cell_type": "code",
   "execution_count": 83,
   "metadata": {},
   "outputs": [
    {
     "data": {
      "text/plain": [
       "array([[1, 2, 3],\n",
       "       [4, 5, 6],\n",
       "       [7, 8, 9]])"
      ]
     },
     "execution_count": 83,
     "metadata": {},
     "output_type": "execute_result"
    }
   ],
   "source": [
    "mon_tableau_3 = np.array([[1,2,3],[4,5,6],[7,8,9]])\n",
    "mon_tableau_3"
   ]
  },
  {
   "cell_type": "code",
   "execution_count": 84,
   "metadata": {},
   "outputs": [
    {
     "data": {
      "text/plain": [
       "array([[ 10,  22,  36],\n",
       "       [ 52,  70,  90],\n",
       "       [112, 136, 162]])"
      ]
     },
     "execution_count": 84,
     "metadata": {},
     "output_type": "execute_result"
    }
   ],
   "source": [
    "np.multiply(mon_tableau,mon_tableau_3)"
   ]
  },
  {
   "cell_type": "code",
   "execution_count": 85,
   "metadata": {},
   "outputs": [
    {
     "name": "stdout",
     "output_type": "stream",
     "text": [
      "Somme sur l'ensemble des éléments :\n",
      "[876.5 458.6 563.7 179.9]\n",
      "somme par ligne: \n",
      "[10.2  9.5  9.4  9.4 10.2 11.4  9.7 10.1  8.9  9.6 10.8 10.   9.3  8.5\n",
      " 11.2 12.  11.  10.3 11.5 10.7 10.7 10.7  9.4 10.6 10.3  9.8 10.4 10.4\n",
      " 10.2  9.7  9.7 10.7 10.9 11.3  9.7  9.6 10.5 10.   8.9 10.2 10.1  8.4\n",
      "  9.1 10.7 11.2  9.5 10.7  9.4 10.7  9.9 16.3 15.6 16.4 13.1 15.4 14.3\n",
      " 15.9 11.6 15.4 13.2 11.5 14.6 13.2 15.1 13.4 15.6 14.6 13.6 14.4 13.1\n",
      " 15.7 14.2 15.2 14.8 14.9 15.4 15.8 16.4 14.9 12.8 12.8 12.6 13.6 15.4\n",
      " 14.4 15.5 16.  14.3 14.  13.3 13.7 15.1 13.6 11.6 13.8 14.1 14.1 14.7\n",
      " 11.7 13.9 18.1 15.5 18.1 16.6 17.5 19.3 13.6 18.3 16.8 19.4 16.8 16.3\n",
      " 17.4 15.2 16.1 17.2 16.8 20.4 19.5 14.7 18.1 15.3 19.2 15.7 17.8 18.2\n",
      " 15.6 15.8 16.9 17.6 18.2 20.1 17.  15.7 15.7 19.1 17.7 16.8 15.6 17.5\n",
      " 17.8 17.4 15.5 18.2 18.2 17.2 15.7 16.7 17.3 15.8]\n"
     ]
    }
   ],
   "source": [
    "print(\"Somme sur l'ensemble des éléments :\")\n",
    "print(np.sum(data_iris, axis=0))\n",
    "print(\"somme par ligne: \")\n",
    "print(np.sum(data_iris, axis=1))"
   ]
  },
  {
   "cell_type": "code",
   "execution_count": 86,
   "metadata": {},
   "outputs": [
    {
     "name": "stdout",
     "output_type": "stream",
     "text": [
      "[5.84333333 3.05733333 3.758      1.19933333]\n",
      "[0.82530129 0.43441097 1.75940407 0.75969263]\n"
     ]
    }
   ],
   "source": [
    "print(np.mean(data_iris, axis=0))\n",
    "print(np.std(data_iris, axis=0))"
   ]
  },
  {
   "cell_type": "code",
   "execution_count": 87,
   "metadata": {},
   "outputs": [
    {
     "name": "stdout",
     "output_type": "stream",
     "text": [
      "[7.9 4.4 6.9 2.5]\n"
     ]
    }
   ],
   "source": [
    "print(np.max(data_iris, axis=0))"
   ]
  },
  {
   "cell_type": "code",
   "execution_count": 88,
   "metadata": {},
   "outputs": [
    {
     "name": "stdout",
     "output_type": "stream",
     "text": [
      "[5.1 4.9 4.7 4.6 5.  5.4 4.6 5.  4.4 4.9 5.4 4.8 4.8 4.3 5.8 5.7 5.4 5.1\n",
      " 5.7 5.1 5.4 5.1 4.6 5.1 4.8 5.  5.  5.2 5.2 4.7 4.8 5.4 5.2 5.5 4.9 5.\n",
      " 5.5 4.9 4.4 5.1 5.  4.5 4.4 5.  5.1 4.8 5.1 4.6 5.3 5.  7.  6.4 6.9 5.5\n",
      " 6.5 5.7 6.3 4.9 6.6 5.2 5.  5.9 6.  6.1 5.6 6.7 5.6 5.8 6.2 5.6 5.9 6.1\n",
      " 6.3 6.1 6.4 6.6 6.8 6.7 6.  5.7 5.5 5.5 5.8 6.  5.4 6.  6.7 6.3 5.6 5.5\n",
      " 5.5 6.1 5.8 5.  5.6 5.7 5.7 6.2 5.1 5.7 6.3 5.8 7.1 6.3 6.5 7.6 4.9 7.3\n",
      " 6.7 7.2 6.5 6.4 6.8 5.7 5.8 6.4 6.5 7.7 7.7 6.  6.9 5.6 7.7 6.3 6.7 7.2\n",
      " 6.2 6.1 6.4 7.2 7.4 7.9 6.4 6.3 6.1 7.7 6.3 6.4 6.  6.9 6.7 6.9 5.8 6.8\n",
      " 6.7 6.7 6.3 6.5 6.2 5.9]\n"
     ]
    }
   ],
   "source": [
    "print(np.max(data_iris,axis=1))"
   ]
  },
  {
   "cell_type": "code",
   "execution_count": 89,
   "metadata": {},
   "outputs": [
    {
     "ename": "IndexError",
     "evalue": "index 4 is out of bounds for axis 1 with size 4",
     "output_type": "error",
     "traceback": [
      "\u001b[1;31m---------------------------------------------------------------------------\u001b[0m",
      "\u001b[1;31mIndexError\u001b[0m                                Traceback (most recent call last)",
      "\u001b[1;32m<ipython-input-89-412b5dc26050>\u001b[0m in \u001b[0;36m<module>\u001b[1;34m\u001b[0m\n\u001b[1;32m----> 1\u001b[1;33m \u001b[0mcolonne_1\u001b[0m \u001b[1;33m=\u001b[0m \u001b[0mdata_iris\u001b[0m\u001b[1;33m[\u001b[0m\u001b[0mdata_iris\u001b[0m\u001b[1;33m[\u001b[0m\u001b[1;33m:\u001b[0m\u001b[1;33m,\u001b[0m\u001b[1;36m4\u001b[0m\u001b[1;33m]\u001b[0m\u001b[1;33m==\u001b[0m\u001b[1;36m1\u001b[0m\u001b[1;33m]\u001b[0m\u001b[1;33m\u001b[0m\u001b[1;33m\u001b[0m\u001b[0m\n\u001b[0m\u001b[0;32m      2\u001b[0m \u001b[0mcolonne_2\u001b[0m \u001b[1;33m=\u001b[0m \u001b[0mdata_iris\u001b[0m\u001b[1;33m[\u001b[0m\u001b[0mdata_iris\u001b[0m\u001b[1;33m[\u001b[0m\u001b[1;33m:\u001b[0m\u001b[1;33m,\u001b[0m\u001b[1;36m4\u001b[0m\u001b[1;33m]\u001b[0m\u001b[1;33m==\u001b[0m\u001b[1;36m2\u001b[0m\u001b[1;33m]\u001b[0m\u001b[1;33m\u001b[0m\u001b[1;33m\u001b[0m\u001b[0m\n\u001b[0;32m      3\u001b[0m \u001b[0mcolonne_3\u001b[0m \u001b[1;33m=\u001b[0m \u001b[0mdata_iris\u001b[0m\u001b[1;33m[\u001b[0m\u001b[0mdata_iris\u001b[0m\u001b[1;33m[\u001b[0m\u001b[1;33m:\u001b[0m\u001b[1;33m,\u001b[0m\u001b[1;36m4\u001b[0m\u001b[1;33m]\u001b[0m\u001b[1;33m==\u001b[0m\u001b[1;36m3\u001b[0m\u001b[1;33m]\u001b[0m\u001b[1;33m\u001b[0m\u001b[1;33m\u001b[0m\u001b[0m\n\u001b[0;32m      4\u001b[0m \u001b[1;33m\u001b[0m\u001b[0m\n\u001b[0;32m      5\u001b[0m \u001b[0mprint\u001b[0m\u001b[1;33m(\u001b[0m\u001b[0mnp\u001b[0m\u001b[1;33m.\u001b[0m\u001b[0mmean\u001b[0m\u001b[1;33m(\u001b[0m\u001b[0mcolonne_1\u001b[0m\u001b[1;33m,\u001b[0m\u001b[0maxis\u001b[0m\u001b[1;33m=\u001b[0m\u001b[1;36m0\u001b[0m\u001b[1;33m)\u001b[0m\u001b[1;33m)\u001b[0m\u001b[1;33m\u001b[0m\u001b[1;33m\u001b[0m\u001b[0m\n",
      "\u001b[1;31mIndexError\u001b[0m: index 4 is out of bounds for axis 1 with size 4"
     ]
    }
   ],
   "source": [
    "colonne_1 = data_iris[data_iris[:,4]==1]\n",
    "colonne_2 = data_iris[data_iris[:,4]==2]\n",
    "colonne_3 = data_iris[data_iris[:,4]==3]\n",
    "\n",
    "print(np.mean(colonne_1,axis=0))\n",
    "print(np.mean(colonne_2,axis=0))\n",
    "print(np.mean(colonne_3,axis=0))"
   ]
  },
  {
   "cell_type": "code",
   "execution_count": 90,
   "metadata": {},
   "outputs": [
    {
     "name": "stdout",
     "output_type": "stream",
     "text": [
      "Attribut size\n",
      "600\n",
      "Attribut shape\n",
      "(150, 4)\n",
      "Attribut dtype\n",
      "float64\n",
      "Attribut ndim\n",
      "2\n"
     ]
    }
   ],
   "source": [
    "print(\"Attribut size\")\n",
    "print(data_iris.size)\n",
    "print(\"Attribut shape\")\n",
    "print(data_iris.shape)\n",
    "print(\"Attribut dtype\")\n",
    "print(data_iris.dtype)\n",
    "print(\"Attribut ndim\")\n",
    "print(data_iris.ndim)"
   ]
  },
  {
   "cell_type": "code",
   "execution_count": 91,
   "metadata": {},
   "outputs": [
    {
     "data": {
      "text/plain": [
       "array([[5.1, 4.9, 4.7, 4.6, 5. , 5.4, 4.6, 5. , 4.4, 4.9, 5.4, 4.8, 4.8,\n",
       "        4.3, 5.8, 5.7, 5.4, 5.1, 5.7, 5.1, 5.4, 5.1, 4.6, 5.1, 4.8, 5. ,\n",
       "        5. , 5.2, 5.2, 4.7, 4.8, 5.4, 5.2, 5.5, 4.9, 5. , 5.5, 4.9, 4.4,\n",
       "        5.1, 5. , 4.5, 4.4, 5. , 5.1, 4.8, 5.1, 4.6, 5.3, 5. , 7. , 6.4,\n",
       "        6.9, 5.5, 6.5, 5.7, 6.3, 4.9, 6.6, 5.2, 5. , 5.9, 6. , 6.1, 5.6,\n",
       "        6.7, 5.6, 5.8, 6.2, 5.6, 5.9, 6.1, 6.3, 6.1, 6.4, 6.6, 6.8, 6.7,\n",
       "        6. , 5.7, 5.5, 5.5, 5.8, 6. , 5.4, 6. , 6.7, 6.3, 5.6, 5.5, 5.5,\n",
       "        6.1, 5.8, 5. , 5.6, 5.7, 5.7, 6.2, 5.1, 5.7, 6.3, 5.8, 7.1, 6.3,\n",
       "        6.5, 7.6, 4.9, 7.3, 6.7, 7.2, 6.5, 6.4, 6.8, 5.7, 5.8, 6.4, 6.5,\n",
       "        7.7, 7.7, 6. , 6.9, 5.6, 7.7, 6.3, 6.7, 7.2, 6.2, 6.1, 6.4, 7.2,\n",
       "        7.4, 7.9, 6.4, 6.3, 6.1, 7.7, 6.3, 6.4, 6. , 6.9, 6.7, 6.9, 5.8,\n",
       "        6.8, 6.7, 6.7, 6.3, 6.5, 6.2, 5.9],\n",
       "       [3.5, 3. , 3.2, 3.1, 3.6, 3.9, 3.4, 3.4, 2.9, 3.1, 3.7, 3.4, 3. ,\n",
       "        3. , 4. , 4.4, 3.9, 3.5, 3.8, 3.8, 3.4, 3.7, 3.6, 3.3, 3.4, 3. ,\n",
       "        3.4, 3.5, 3.4, 3.2, 3.1, 3.4, 4.1, 4.2, 3.1, 3.2, 3.5, 3.6, 3. ,\n",
       "        3.4, 3.5, 2.3, 3.2, 3.5, 3.8, 3. , 3.8, 3.2, 3.7, 3.3, 3.2, 3.2,\n",
       "        3.1, 2.3, 2.8, 2.8, 3.3, 2.4, 2.9, 2.7, 2. , 3. , 2.2, 2.9, 2.9,\n",
       "        3.1, 3. , 2.7, 2.2, 2.5, 3.2, 2.8, 2.5, 2.8, 2.9, 3. , 2.8, 3. ,\n",
       "        2.9, 2.6, 2.4, 2.4, 2.7, 2.7, 3. , 3.4, 3.1, 2.3, 3. , 2.5, 2.6,\n",
       "        3. , 2.6, 2.3, 2.7, 3. , 2.9, 2.9, 2.5, 2.8, 3.3, 2.7, 3. , 2.9,\n",
       "        3. , 3. , 2.5, 2.9, 2.5, 3.6, 3.2, 2.7, 3. , 2.5, 2.8, 3.2, 3. ,\n",
       "        3.8, 2.6, 2.2, 3.2, 2.8, 2.8, 2.7, 3.3, 3.2, 2.8, 3. , 2.8, 3. ,\n",
       "        2.8, 3.8, 2.8, 2.8, 2.6, 3. , 3.4, 3.1, 3. , 3.1, 3.1, 3.1, 2.7,\n",
       "        3.2, 3.3, 3. , 2.5, 3. , 3.4, 3. ],\n",
       "       [1.4, 1.4, 1.3, 1.5, 1.4, 1.7, 1.4, 1.5, 1.4, 1.5, 1.5, 1.6, 1.4,\n",
       "        1.1, 1.2, 1.5, 1.3, 1.4, 1.7, 1.5, 1.7, 1.5, 1. , 1.7, 1.9, 1.6,\n",
       "        1.6, 1.5, 1.4, 1.6, 1.6, 1.5, 1.5, 1.4, 1.5, 1.2, 1.3, 1.4, 1.3,\n",
       "        1.5, 1.3, 1.3, 1.3, 1.6, 1.9, 1.4, 1.6, 1.4, 1.5, 1.4, 4.7, 4.5,\n",
       "        4.9, 4. , 4.6, 4.5, 4.7, 3.3, 4.6, 3.9, 3.5, 4.2, 4. , 4.7, 3.6,\n",
       "        4.4, 4.5, 4.1, 4.5, 3.9, 4.8, 4. , 4.9, 4.7, 4.3, 4.4, 4.8, 5. ,\n",
       "        4.5, 3.5, 3.8, 3.7, 3.9, 5.1, 4.5, 4.5, 4.7, 4.4, 4.1, 4. , 4.4,\n",
       "        4.6, 4. , 3.3, 4.2, 4.2, 4.2, 4.3, 3. , 4.1, 6. , 5.1, 5.9, 5.6,\n",
       "        5.8, 6.6, 4.5, 6.3, 5.8, 6.1, 5.1, 5.3, 5.5, 5. , 5.1, 5.3, 5.5,\n",
       "        6.7, 6.9, 5. , 5.7, 4.9, 6.7, 4.9, 5.7, 6. , 4.8, 4.9, 5.6, 5.8,\n",
       "        6.1, 6.4, 5.6, 5.1, 5.6, 6.1, 5.6, 5.5, 4.8, 5.4, 5.6, 5.1, 5.1,\n",
       "        5.9, 5.7, 5.2, 5. , 5.2, 5.4, 5.1],\n",
       "       [0.2, 0.2, 0.2, 0.2, 0.2, 0.4, 0.3, 0.2, 0.2, 0.1, 0.2, 0.2, 0.1,\n",
       "        0.1, 0.2, 0.4, 0.4, 0.3, 0.3, 0.3, 0.2, 0.4, 0.2, 0.5, 0.2, 0.2,\n",
       "        0.4, 0.2, 0.2, 0.2, 0.2, 0.4, 0.1, 0.2, 0.2, 0.2, 0.2, 0.1, 0.2,\n",
       "        0.2, 0.3, 0.3, 0.2, 0.6, 0.4, 0.3, 0.2, 0.2, 0.2, 0.2, 1.4, 1.5,\n",
       "        1.5, 1.3, 1.5, 1.3, 1.6, 1. , 1.3, 1.4, 1. , 1.5, 1. , 1.4, 1.3,\n",
       "        1.4, 1.5, 1. , 1.5, 1.1, 1.8, 1.3, 1.5, 1.2, 1.3, 1.4, 1.4, 1.7,\n",
       "        1.5, 1. , 1.1, 1. , 1.2, 1.6, 1.5, 1.6, 1.5, 1.3, 1.3, 1.3, 1.2,\n",
       "        1.4, 1.2, 1. , 1.3, 1.2, 1.3, 1.3, 1.1, 1.3, 2.5, 1.9, 2.1, 1.8,\n",
       "        2.2, 2.1, 1.7, 1.8, 1.8, 2.5, 2. , 1.9, 2.1, 2. , 2.4, 2.3, 1.8,\n",
       "        2.2, 2.3, 1.5, 2.3, 2. , 2. , 1.8, 2.1, 1.8, 1.8, 1.8, 2.1, 1.6,\n",
       "        1.9, 2. , 2.2, 1.5, 1.4, 2.3, 2.4, 1.8, 1.8, 2.1, 2.4, 2.3, 1.9,\n",
       "        2.3, 2.5, 2.3, 1.9, 2. , 2.3, 1.8]])"
      ]
     },
     "execution_count": 91,
     "metadata": {},
     "output_type": "execute_result"
    }
   ],
   "source": [
    "data_iris.T"
   ]
  },
  {
   "cell_type": "code",
   "execution_count": 92,
   "metadata": {},
   "outputs": [
    {
     "ename": "IndexError",
     "evalue": "index 4 is out of bounds for axis 1 with size 4",
     "output_type": "error",
     "traceback": [
      "\u001b[1;31m---------------------------------------------------------------------------\u001b[0m",
      "\u001b[1;31mIndexError\u001b[0m                                Traceback (most recent call last)",
      "\u001b[1;32m<ipython-input-92-de660727e578>\u001b[0m in \u001b[0;36m<module>\u001b[1;34m\u001b[0m\n\u001b[1;32m----> 1\u001b[1;33m \u001b[0mprint\u001b[0m\u001b[1;33m(\u001b[0m\u001b[0mdata_iris\u001b[0m\u001b[1;33m[\u001b[0m\u001b[1;33m(\u001b[0m\u001b[0mdata_iris\u001b[0m\u001b[1;33m[\u001b[0m\u001b[1;33m:\u001b[0m\u001b[1;33m,\u001b[0m\u001b[1;36m4\u001b[0m\u001b[1;33m]\u001b[0m \u001b[1;33m==\u001b[0m \u001b[1;36m3\u001b[0m\u001b[1;33m)\u001b[0m \u001b[1;33m&\u001b[0m \u001b[1;33m(\u001b[0m\u001b[0mdata_iris\u001b[0m\u001b[1;33m[\u001b[0m\u001b[1;33m:\u001b[0m\u001b[1;33m,\u001b[0m \u001b[1;36m3\u001b[0m\u001b[1;33m]\u001b[0m \u001b[1;33m>\u001b[0m \u001b[1;36m2\u001b[0m\u001b[1;33m)\u001b[0m\u001b[1;33m]\u001b[0m\u001b[1;33m)\u001b[0m\u001b[1;33m\u001b[0m\u001b[1;33m\u001b[0m\u001b[0m\n\u001b[0m",
      "\u001b[1;31mIndexError\u001b[0m: index 4 is out of bounds for axis 1 with size 4"
     ]
    }
   ],
   "source": [
    "print(data_iris[(data_iris[:,4] == 3) & (data_iris[:, 3] > 2)])"
   ]
  },
  {
   "cell_type": "code",
   "execution_count": 93,
   "metadata": {},
   "outputs": [
    {
     "data": {
      "text/plain": [
       "array([ 1,  2,  3,  4,  5,  6,  7,  8,  9, 10, 11, 12, 13, 14, 15, 16, 17,\n",
       "       18, 19, 20, 21, 22, 23, 24, 25])"
      ]
     },
     "execution_count": 93,
     "metadata": {},
     "output_type": "execute_result"
    }
   ],
   "source": [
    "np.append(notre_tableau,[21,22,23,24,25])"
   ]
  },
  {
   "cell_type": "code",
   "execution_count": 94,
   "metadata": {},
   "outputs": [
    {
     "ename": "ValueError",
     "evalue": "all the input array dimensions for the concatenation axis must match exactly, but along dimension 1, the array at index 0 has size 4 and the array at index 1 has size 5",
     "output_type": "error",
     "traceback": [
      "\u001b[1;31m---------------------------------------------------------------------------\u001b[0m",
      "\u001b[1;31mValueError\u001b[0m                                Traceback (most recent call last)",
      "\u001b[1;32m<ipython-input-94-c1d9f9ac9b32>\u001b[0m in \u001b[0;36m<module>\u001b[1;34m\u001b[0m\n\u001b[1;32m----> 1\u001b[1;33m \u001b[0mnp\u001b[0m\u001b[1;33m.\u001b[0m\u001b[0mappend\u001b[0m\u001b[1;33m(\u001b[0m\u001b[0mdata_iris\u001b[0m\u001b[1;33m,\u001b[0m\u001b[1;33m[\u001b[0m\u001b[1;33m[\u001b[0m\u001b[1;36m10\u001b[0m\u001b[1;33m,\u001b[0m\u001b[1;36m10\u001b[0m\u001b[1;33m,\u001b[0m\u001b[1;36m10\u001b[0m\u001b[1;33m,\u001b[0m\u001b[1;36m10\u001b[0m\u001b[1;33m,\u001b[0m\u001b[1;36m10\u001b[0m\u001b[1;33m]\u001b[0m\u001b[1;33m]\u001b[0m\u001b[1;33m,\u001b[0m\u001b[0maxis\u001b[0m\u001b[1;33m=\u001b[0m\u001b[1;36m0\u001b[0m\u001b[1;33m)\u001b[0m\u001b[1;33m\u001b[0m\u001b[1;33m\u001b[0m\u001b[0m\n\u001b[0m",
      "\u001b[1;32m<__array_function__ internals>\u001b[0m in \u001b[0;36mappend\u001b[1;34m(*args, **kwargs)\u001b[0m\n",
      "\u001b[1;32m~\\anaconda3\\lib\\site-packages\\numpy\\lib\\function_base.py\u001b[0m in \u001b[0;36mappend\u001b[1;34m(arr, values, axis)\u001b[0m\n\u001b[0;32m   4669\u001b[0m         \u001b[0mvalues\u001b[0m \u001b[1;33m=\u001b[0m \u001b[0mravel\u001b[0m\u001b[1;33m(\u001b[0m\u001b[0mvalues\u001b[0m\u001b[1;33m)\u001b[0m\u001b[1;33m\u001b[0m\u001b[1;33m\u001b[0m\u001b[0m\n\u001b[0;32m   4670\u001b[0m         \u001b[0maxis\u001b[0m \u001b[1;33m=\u001b[0m \u001b[0marr\u001b[0m\u001b[1;33m.\u001b[0m\u001b[0mndim\u001b[0m\u001b[1;33m-\u001b[0m\u001b[1;36m1\u001b[0m\u001b[1;33m\u001b[0m\u001b[1;33m\u001b[0m\u001b[0m\n\u001b[1;32m-> 4671\u001b[1;33m     \u001b[1;32mreturn\u001b[0m \u001b[0mconcatenate\u001b[0m\u001b[1;33m(\u001b[0m\u001b[1;33m(\u001b[0m\u001b[0marr\u001b[0m\u001b[1;33m,\u001b[0m \u001b[0mvalues\u001b[0m\u001b[1;33m)\u001b[0m\u001b[1;33m,\u001b[0m \u001b[0maxis\u001b[0m\u001b[1;33m=\u001b[0m\u001b[0maxis\u001b[0m\u001b[1;33m)\u001b[0m\u001b[1;33m\u001b[0m\u001b[1;33m\u001b[0m\u001b[0m\n\u001b[0m\u001b[0;32m   4672\u001b[0m \u001b[1;33m\u001b[0m\u001b[0m\n\u001b[0;32m   4673\u001b[0m \u001b[1;33m\u001b[0m\u001b[0m\n",
      "\u001b[1;32m<__array_function__ internals>\u001b[0m in \u001b[0;36mconcatenate\u001b[1;34m(*args, **kwargs)\u001b[0m\n",
      "\u001b[1;31mValueError\u001b[0m: all the input array dimensions for the concatenation axis must match exactly, but along dimension 1, the array at index 0 has size 4 and the array at index 1 has size 5"
     ]
    }
   ],
   "source": [
    "np.append(data_iris,[[10,10,10,10,10]],axis=0)"
   ]
  },
  {
   "cell_type": "code",
   "execution_count": 95,
   "metadata": {},
   "outputs": [
    {
     "data": {
      "text/plain": [
       "array([ 1, 42,  2,  3,  4,  5,  6,  7,  8,  9, 10, 11, 12, 13, 14, 15, 16,\n",
       "       17, 18, 19, 20])"
      ]
     },
     "execution_count": 95,
     "metadata": {},
     "output_type": "execute_result"
    }
   ],
   "source": [
    "np.insert(notre_tableau,1,42)"
   ]
  },
  {
   "cell_type": "code",
   "execution_count": 96,
   "metadata": {},
   "outputs": [
    {
     "data": {
      "text/plain": [
       "array([ 1, 42, 43, 44, 45, 46,  2,  3,  4,  5,  6,  7,  8,  9, 10, 11, 12,\n",
       "       13, 14, 15, 16, 17, 18, 19, 20])"
      ]
     },
     "execution_count": 96,
     "metadata": {},
     "output_type": "execute_result"
    }
   ],
   "source": [
    "np.insert(notre_tableau, 1, [42,43,44,45,46])"
   ]
  },
  {
   "cell_type": "code",
   "execution_count": 97,
   "metadata": {},
   "outputs": [
    {
     "ename": "ValueError",
     "evalue": "could not broadcast input array from shape (1,5) into shape (1,4)",
     "output_type": "error",
     "traceback": [
      "\u001b[1;31m---------------------------------------------------------------------------\u001b[0m",
      "\u001b[1;31mValueError\u001b[0m                                Traceback (most recent call last)",
      "\u001b[1;32m<ipython-input-97-9a59ec8d7bfc>\u001b[0m in \u001b[0;36m<module>\u001b[1;34m\u001b[0m\n\u001b[1;32m----> 1\u001b[1;33m \u001b[0mnp\u001b[0m\u001b[1;33m.\u001b[0m\u001b[0minsert\u001b[0m\u001b[1;33m(\u001b[0m\u001b[0mdata_iris\u001b[0m\u001b[1;33m,\u001b[0m \u001b[1;36m1\u001b[0m\u001b[1;33m,\u001b[0m \u001b[1;33m[\u001b[0m\u001b[1;36m10\u001b[0m\u001b[1;33m,\u001b[0m\u001b[1;36m10\u001b[0m\u001b[1;33m,\u001b[0m\u001b[1;36m10\u001b[0m\u001b[1;33m,\u001b[0m\u001b[1;36m10\u001b[0m\u001b[1;33m,\u001b[0m\u001b[1;36m10\u001b[0m\u001b[1;33m]\u001b[0m\u001b[1;33m,\u001b[0m \u001b[0maxis\u001b[0m \u001b[1;33m=\u001b[0m \u001b[1;36m0\u001b[0m\u001b[1;33m)\u001b[0m\u001b[1;33m\u001b[0m\u001b[1;33m\u001b[0m\u001b[0m\n\u001b[0m",
      "\u001b[1;32m<__array_function__ internals>\u001b[0m in \u001b[0;36minsert\u001b[1;34m(*args, **kwargs)\u001b[0m\n",
      "\u001b[1;32m~\\anaconda3\\lib\\site-packages\\numpy\\lib\\function_base.py\u001b[0m in \u001b[0;36minsert\u001b[1;34m(arr, obj, values, axis)\u001b[0m\n\u001b[0;32m   4576\u001b[0m         \u001b[0mnew\u001b[0m\u001b[1;33m[\u001b[0m\u001b[0mtuple\u001b[0m\u001b[1;33m(\u001b[0m\u001b[0mslobj\u001b[0m\u001b[1;33m)\u001b[0m\u001b[1;33m]\u001b[0m \u001b[1;33m=\u001b[0m \u001b[0marr\u001b[0m\u001b[1;33m[\u001b[0m\u001b[0mtuple\u001b[0m\u001b[1;33m(\u001b[0m\u001b[0mslobj\u001b[0m\u001b[1;33m)\u001b[0m\u001b[1;33m]\u001b[0m\u001b[1;33m\u001b[0m\u001b[1;33m\u001b[0m\u001b[0m\n\u001b[0;32m   4577\u001b[0m         \u001b[0mslobj\u001b[0m\u001b[1;33m[\u001b[0m\u001b[0maxis\u001b[0m\u001b[1;33m]\u001b[0m \u001b[1;33m=\u001b[0m \u001b[0mslice\u001b[0m\u001b[1;33m(\u001b[0m\u001b[0mindex\u001b[0m\u001b[1;33m,\u001b[0m \u001b[0mindex\u001b[0m\u001b[1;33m+\u001b[0m\u001b[0mnumnew\u001b[0m\u001b[1;33m)\u001b[0m\u001b[1;33m\u001b[0m\u001b[1;33m\u001b[0m\u001b[0m\n\u001b[1;32m-> 4578\u001b[1;33m         \u001b[0mnew\u001b[0m\u001b[1;33m[\u001b[0m\u001b[0mtuple\u001b[0m\u001b[1;33m(\u001b[0m\u001b[0mslobj\u001b[0m\u001b[1;33m)\u001b[0m\u001b[1;33m]\u001b[0m \u001b[1;33m=\u001b[0m \u001b[0mvalues\u001b[0m\u001b[1;33m\u001b[0m\u001b[1;33m\u001b[0m\u001b[0m\n\u001b[0m\u001b[0;32m   4579\u001b[0m         \u001b[0mslobj\u001b[0m\u001b[1;33m[\u001b[0m\u001b[0maxis\u001b[0m\u001b[1;33m]\u001b[0m \u001b[1;33m=\u001b[0m \u001b[0mslice\u001b[0m\u001b[1;33m(\u001b[0m\u001b[0mindex\u001b[0m\u001b[1;33m+\u001b[0m\u001b[0mnumnew\u001b[0m\u001b[1;33m,\u001b[0m \u001b[1;32mNone\u001b[0m\u001b[1;33m)\u001b[0m\u001b[1;33m\u001b[0m\u001b[1;33m\u001b[0m\u001b[0m\n\u001b[0;32m   4580\u001b[0m         \u001b[0mslobj2\u001b[0m \u001b[1;33m=\u001b[0m \u001b[1;33m[\u001b[0m\u001b[0mslice\u001b[0m\u001b[1;33m(\u001b[0m\u001b[1;32mNone\u001b[0m\u001b[1;33m)\u001b[0m\u001b[1;33m]\u001b[0m \u001b[1;33m*\u001b[0m \u001b[0mndim\u001b[0m\u001b[1;33m\u001b[0m\u001b[1;33m\u001b[0m\u001b[0m\n",
      "\u001b[1;31mValueError\u001b[0m: could not broadcast input array from shape (1,5) into shape (1,4)"
     ]
    }
   ],
   "source": [
    "np.insert(data_iris, 1, [10,10,10,10,10], axis = 0)"
   ]
  },
  {
   "cell_type": "code",
   "execution_count": 98,
   "metadata": {},
   "outputs": [
    {
     "data": {
      "text/plain": [
       "array([[5.1, 1.4, 0.2],\n",
       "       [4.9, 1.4, 0.2],\n",
       "       [4.7, 1.3, 0.2],\n",
       "       [4.6, 1.5, 0.2],\n",
       "       [5. , 1.4, 0.2],\n",
       "       [5.4, 1.7, 0.4],\n",
       "       [4.6, 1.4, 0.3],\n",
       "       [5. , 1.5, 0.2],\n",
       "       [4.4, 1.4, 0.2],\n",
       "       [4.9, 1.5, 0.1],\n",
       "       [5.4, 1.5, 0.2],\n",
       "       [4.8, 1.6, 0.2],\n",
       "       [4.8, 1.4, 0.1],\n",
       "       [4.3, 1.1, 0.1],\n",
       "       [5.8, 1.2, 0.2],\n",
       "       [5.7, 1.5, 0.4],\n",
       "       [5.4, 1.3, 0.4],\n",
       "       [5.1, 1.4, 0.3],\n",
       "       [5.7, 1.7, 0.3],\n",
       "       [5.1, 1.5, 0.3],\n",
       "       [5.4, 1.7, 0.2],\n",
       "       [5.1, 1.5, 0.4],\n",
       "       [4.6, 1. , 0.2],\n",
       "       [5.1, 1.7, 0.5],\n",
       "       [4.8, 1.9, 0.2],\n",
       "       [5. , 1.6, 0.2],\n",
       "       [5. , 1.6, 0.4],\n",
       "       [5.2, 1.5, 0.2],\n",
       "       [5.2, 1.4, 0.2],\n",
       "       [4.7, 1.6, 0.2],\n",
       "       [4.8, 1.6, 0.2],\n",
       "       [5.4, 1.5, 0.4],\n",
       "       [5.2, 1.5, 0.1],\n",
       "       [5.5, 1.4, 0.2],\n",
       "       [4.9, 1.5, 0.2],\n",
       "       [5. , 1.2, 0.2],\n",
       "       [5.5, 1.3, 0.2],\n",
       "       [4.9, 1.4, 0.1],\n",
       "       [4.4, 1.3, 0.2],\n",
       "       [5.1, 1.5, 0.2],\n",
       "       [5. , 1.3, 0.3],\n",
       "       [4.5, 1.3, 0.3],\n",
       "       [4.4, 1.3, 0.2],\n",
       "       [5. , 1.6, 0.6],\n",
       "       [5.1, 1.9, 0.4],\n",
       "       [4.8, 1.4, 0.3],\n",
       "       [5.1, 1.6, 0.2],\n",
       "       [4.6, 1.4, 0.2],\n",
       "       [5.3, 1.5, 0.2],\n",
       "       [5. , 1.4, 0.2],\n",
       "       [7. , 4.7, 1.4],\n",
       "       [6.4, 4.5, 1.5],\n",
       "       [6.9, 4.9, 1.5],\n",
       "       [5.5, 4. , 1.3],\n",
       "       [6.5, 4.6, 1.5],\n",
       "       [5.7, 4.5, 1.3],\n",
       "       [6.3, 4.7, 1.6],\n",
       "       [4.9, 3.3, 1. ],\n",
       "       [6.6, 4.6, 1.3],\n",
       "       [5.2, 3.9, 1.4],\n",
       "       [5. , 3.5, 1. ],\n",
       "       [5.9, 4.2, 1.5],\n",
       "       [6. , 4. , 1. ],\n",
       "       [6.1, 4.7, 1.4],\n",
       "       [5.6, 3.6, 1.3],\n",
       "       [6.7, 4.4, 1.4],\n",
       "       [5.6, 4.5, 1.5],\n",
       "       [5.8, 4.1, 1. ],\n",
       "       [6.2, 4.5, 1.5],\n",
       "       [5.6, 3.9, 1.1],\n",
       "       [5.9, 4.8, 1.8],\n",
       "       [6.1, 4. , 1.3],\n",
       "       [6.3, 4.9, 1.5],\n",
       "       [6.1, 4.7, 1.2],\n",
       "       [6.4, 4.3, 1.3],\n",
       "       [6.6, 4.4, 1.4],\n",
       "       [6.8, 4.8, 1.4],\n",
       "       [6.7, 5. , 1.7],\n",
       "       [6. , 4.5, 1.5],\n",
       "       [5.7, 3.5, 1. ],\n",
       "       [5.5, 3.8, 1.1],\n",
       "       [5.5, 3.7, 1. ],\n",
       "       [5.8, 3.9, 1.2],\n",
       "       [6. , 5.1, 1.6],\n",
       "       [5.4, 4.5, 1.5],\n",
       "       [6. , 4.5, 1.6],\n",
       "       [6.7, 4.7, 1.5],\n",
       "       [6.3, 4.4, 1.3],\n",
       "       [5.6, 4.1, 1.3],\n",
       "       [5.5, 4. , 1.3],\n",
       "       [5.5, 4.4, 1.2],\n",
       "       [6.1, 4.6, 1.4],\n",
       "       [5.8, 4. , 1.2],\n",
       "       [5. , 3.3, 1. ],\n",
       "       [5.6, 4.2, 1.3],\n",
       "       [5.7, 4.2, 1.2],\n",
       "       [5.7, 4.2, 1.3],\n",
       "       [6.2, 4.3, 1.3],\n",
       "       [5.1, 3. , 1.1],\n",
       "       [5.7, 4.1, 1.3],\n",
       "       [6.3, 6. , 2.5],\n",
       "       [5.8, 5.1, 1.9],\n",
       "       [7.1, 5.9, 2.1],\n",
       "       [6.3, 5.6, 1.8],\n",
       "       [6.5, 5.8, 2.2],\n",
       "       [7.6, 6.6, 2.1],\n",
       "       [4.9, 4.5, 1.7],\n",
       "       [7.3, 6.3, 1.8],\n",
       "       [6.7, 5.8, 1.8],\n",
       "       [7.2, 6.1, 2.5],\n",
       "       [6.5, 5.1, 2. ],\n",
       "       [6.4, 5.3, 1.9],\n",
       "       [6.8, 5.5, 2.1],\n",
       "       [5.7, 5. , 2. ],\n",
       "       [5.8, 5.1, 2.4],\n",
       "       [6.4, 5.3, 2.3],\n",
       "       [6.5, 5.5, 1.8],\n",
       "       [7.7, 6.7, 2.2],\n",
       "       [7.7, 6.9, 2.3],\n",
       "       [6. , 5. , 1.5],\n",
       "       [6.9, 5.7, 2.3],\n",
       "       [5.6, 4.9, 2. ],\n",
       "       [7.7, 6.7, 2. ],\n",
       "       [6.3, 4.9, 1.8],\n",
       "       [6.7, 5.7, 2.1],\n",
       "       [7.2, 6. , 1.8],\n",
       "       [6.2, 4.8, 1.8],\n",
       "       [6.1, 4.9, 1.8],\n",
       "       [6.4, 5.6, 2.1],\n",
       "       [7.2, 5.8, 1.6],\n",
       "       [7.4, 6.1, 1.9],\n",
       "       [7.9, 6.4, 2. ],\n",
       "       [6.4, 5.6, 2.2],\n",
       "       [6.3, 5.1, 1.5],\n",
       "       [6.1, 5.6, 1.4],\n",
       "       [7.7, 6.1, 2.3],\n",
       "       [6.3, 5.6, 2.4],\n",
       "       [6.4, 5.5, 1.8],\n",
       "       [6. , 4.8, 1.8],\n",
       "       [6.9, 5.4, 2.1],\n",
       "       [6.7, 5.6, 2.4],\n",
       "       [6.9, 5.1, 2.3],\n",
       "       [5.8, 5.1, 1.9],\n",
       "       [6.8, 5.9, 2.3],\n",
       "       [6.7, 5.7, 2.5],\n",
       "       [6.7, 5.2, 2.3],\n",
       "       [6.3, 5. , 1.9],\n",
       "       [6.5, 5.2, 2. ],\n",
       "       [6.2, 5.4, 2.3],\n",
       "       [5.9, 5.1, 1.8]])"
      ]
     },
     "execution_count": 98,
     "metadata": {},
     "output_type": "execute_result"
    }
   ],
   "source": [
    "np.delete(data_iris, 1, axis = 1)"
   ]
  },
  {
   "cell_type": "code",
   "execution_count": 99,
   "metadata": {},
   "outputs": [
    {
     "data": {
      "text/plain": [
       "array([[5.1, 3.5, 1.4, 0.2],\n",
       "       [5.4, 3.9, 1.7, 0.4],\n",
       "       [4.6, 3.4, 1.4, 0.3],\n",
       "       [5. , 3.4, 1.5, 0.2],\n",
       "       [4.4, 2.9, 1.4, 0.2],\n",
       "       [4.9, 3.1, 1.5, 0.1],\n",
       "       [5.4, 3.7, 1.5, 0.2],\n",
       "       [4.8, 3.4, 1.6, 0.2],\n",
       "       [4.8, 3. , 1.4, 0.1],\n",
       "       [4.3, 3. , 1.1, 0.1],\n",
       "       [5.8, 4. , 1.2, 0.2],\n",
       "       [5.7, 4.4, 1.5, 0.4],\n",
       "       [5.4, 3.9, 1.3, 0.4],\n",
       "       [5.1, 3.5, 1.4, 0.3],\n",
       "       [5.7, 3.8, 1.7, 0.3],\n",
       "       [5.1, 3.8, 1.5, 0.3],\n",
       "       [5.4, 3.4, 1.7, 0.2],\n",
       "       [5.1, 3.7, 1.5, 0.4],\n",
       "       [4.6, 3.6, 1. , 0.2],\n",
       "       [5.1, 3.3, 1.7, 0.5],\n",
       "       [4.8, 3.4, 1.9, 0.2],\n",
       "       [5. , 3. , 1.6, 0.2],\n",
       "       [5. , 3.4, 1.6, 0.4],\n",
       "       [5.2, 3.5, 1.5, 0.2],\n",
       "       [5.2, 3.4, 1.4, 0.2],\n",
       "       [4.7, 3.2, 1.6, 0.2],\n",
       "       [4.8, 3.1, 1.6, 0.2],\n",
       "       [5.4, 3.4, 1.5, 0.4],\n",
       "       [5.2, 4.1, 1.5, 0.1],\n",
       "       [5.5, 4.2, 1.4, 0.2],\n",
       "       [4.9, 3.1, 1.5, 0.2],\n",
       "       [5. , 3.2, 1.2, 0.2],\n",
       "       [5.5, 3.5, 1.3, 0.2],\n",
       "       [4.9, 3.6, 1.4, 0.1],\n",
       "       [4.4, 3. , 1.3, 0.2],\n",
       "       [5.1, 3.4, 1.5, 0.2],\n",
       "       [5. , 3.5, 1.3, 0.3],\n",
       "       [4.5, 2.3, 1.3, 0.3],\n",
       "       [4.4, 3.2, 1.3, 0.2],\n",
       "       [5. , 3.5, 1.6, 0.6],\n",
       "       [5.1, 3.8, 1.9, 0.4],\n",
       "       [4.8, 3. , 1.4, 0.3],\n",
       "       [5.1, 3.8, 1.6, 0.2],\n",
       "       [4.6, 3.2, 1.4, 0.2],\n",
       "       [5.3, 3.7, 1.5, 0.2],\n",
       "       [5. , 3.3, 1.4, 0.2],\n",
       "       [7. , 3.2, 4.7, 1.4],\n",
       "       [6.4, 3.2, 4.5, 1.5],\n",
       "       [6.9, 3.1, 4.9, 1.5],\n",
       "       [5.5, 2.3, 4. , 1.3],\n",
       "       [6.5, 2.8, 4.6, 1.5],\n",
       "       [5.7, 2.8, 4.5, 1.3],\n",
       "       [6.3, 3.3, 4.7, 1.6],\n",
       "       [4.9, 2.4, 3.3, 1. ],\n",
       "       [6.6, 2.9, 4.6, 1.3],\n",
       "       [5.2, 2.7, 3.9, 1.4],\n",
       "       [5. , 2. , 3.5, 1. ],\n",
       "       [5.9, 3. , 4.2, 1.5],\n",
       "       [6. , 2.2, 4. , 1. ],\n",
       "       [6.1, 2.9, 4.7, 1.4],\n",
       "       [5.6, 2.9, 3.6, 1.3],\n",
       "       [6.7, 3.1, 4.4, 1.4],\n",
       "       [5.6, 3. , 4.5, 1.5],\n",
       "       [5.8, 2.7, 4.1, 1. ],\n",
       "       [6.2, 2.2, 4.5, 1.5],\n",
       "       [5.6, 2.5, 3.9, 1.1],\n",
       "       [5.9, 3.2, 4.8, 1.8],\n",
       "       [6.1, 2.8, 4. , 1.3],\n",
       "       [6.3, 2.5, 4.9, 1.5],\n",
       "       [6.1, 2.8, 4.7, 1.2],\n",
       "       [6.4, 2.9, 4.3, 1.3],\n",
       "       [6.6, 3. , 4.4, 1.4],\n",
       "       [6.8, 2.8, 4.8, 1.4],\n",
       "       [6.7, 3. , 5. , 1.7],\n",
       "       [6. , 2.9, 4.5, 1.5],\n",
       "       [5.7, 2.6, 3.5, 1. ],\n",
       "       [5.5, 2.4, 3.8, 1.1],\n",
       "       [5.5, 2.4, 3.7, 1. ],\n",
       "       [5.8, 2.7, 3.9, 1.2],\n",
       "       [6. , 2.7, 5.1, 1.6],\n",
       "       [5.4, 3. , 4.5, 1.5],\n",
       "       [6. , 3.4, 4.5, 1.6],\n",
       "       [6.7, 3.1, 4.7, 1.5],\n",
       "       [6.3, 2.3, 4.4, 1.3],\n",
       "       [5.6, 3. , 4.1, 1.3],\n",
       "       [5.5, 2.5, 4. , 1.3],\n",
       "       [5.5, 2.6, 4.4, 1.2],\n",
       "       [6.1, 3. , 4.6, 1.4],\n",
       "       [5.8, 2.6, 4. , 1.2],\n",
       "       [5. , 2.3, 3.3, 1. ],\n",
       "       [5.6, 2.7, 4.2, 1.3],\n",
       "       [5.7, 3. , 4.2, 1.2],\n",
       "       [5.7, 2.9, 4.2, 1.3],\n",
       "       [6.2, 2.9, 4.3, 1.3],\n",
       "       [5.1, 2.5, 3. , 1.1],\n",
       "       [5.7, 2.8, 4.1, 1.3],\n",
       "       [6.3, 3.3, 6. , 2.5],\n",
       "       [5.8, 2.7, 5.1, 1.9],\n",
       "       [7.1, 3. , 5.9, 2.1],\n",
       "       [6.3, 2.9, 5.6, 1.8],\n",
       "       [6.5, 3. , 5.8, 2.2],\n",
       "       [7.6, 3. , 6.6, 2.1],\n",
       "       [4.9, 2.5, 4.5, 1.7],\n",
       "       [7.3, 2.9, 6.3, 1.8],\n",
       "       [6.7, 2.5, 5.8, 1.8],\n",
       "       [7.2, 3.6, 6.1, 2.5],\n",
       "       [6.5, 3.2, 5.1, 2. ],\n",
       "       [6.4, 2.7, 5.3, 1.9],\n",
       "       [6.8, 3. , 5.5, 2.1],\n",
       "       [5.7, 2.5, 5. , 2. ],\n",
       "       [5.8, 2.8, 5.1, 2.4],\n",
       "       [6.4, 3.2, 5.3, 2.3],\n",
       "       [6.5, 3. , 5.5, 1.8],\n",
       "       [7.7, 3.8, 6.7, 2.2],\n",
       "       [7.7, 2.6, 6.9, 2.3],\n",
       "       [6. , 2.2, 5. , 1.5],\n",
       "       [6.9, 3.2, 5.7, 2.3],\n",
       "       [5.6, 2.8, 4.9, 2. ],\n",
       "       [7.7, 2.8, 6.7, 2. ],\n",
       "       [6.3, 2.7, 4.9, 1.8],\n",
       "       [6.7, 3.3, 5.7, 2.1],\n",
       "       [7.2, 3.2, 6. , 1.8],\n",
       "       [6.2, 2.8, 4.8, 1.8],\n",
       "       [6.1, 3. , 4.9, 1.8],\n",
       "       [6.4, 2.8, 5.6, 2.1],\n",
       "       [7.2, 3. , 5.8, 1.6],\n",
       "       [7.4, 2.8, 6.1, 1.9],\n",
       "       [7.9, 3.8, 6.4, 2. ],\n",
       "       [6.4, 2.8, 5.6, 2.2],\n",
       "       [6.3, 2.8, 5.1, 1.5],\n",
       "       [6.1, 2.6, 5.6, 1.4],\n",
       "       [7.7, 3. , 6.1, 2.3],\n",
       "       [6.3, 3.4, 5.6, 2.4],\n",
       "       [6.4, 3.1, 5.5, 1.8],\n",
       "       [6. , 3. , 4.8, 1.8],\n",
       "       [6.9, 3.1, 5.4, 2.1],\n",
       "       [6.7, 3.1, 5.6, 2.4],\n",
       "       [6.9, 3.1, 5.1, 2.3],\n",
       "       [5.8, 2.7, 5.1, 1.9],\n",
       "       [6.8, 3.2, 5.9, 2.3],\n",
       "       [6.7, 3.3, 5.7, 2.5],\n",
       "       [6.7, 3. , 5.2, 2.3],\n",
       "       [6.3, 2.5, 5. , 1.9],\n",
       "       [6.5, 3. , 5.2, 2. ],\n",
       "       [6.2, 3.4, 5.4, 2.3],\n",
       "       [5.9, 3. , 5.1, 1.8]])"
      ]
     },
     "execution_count": 99,
     "metadata": {},
     "output_type": "execute_result"
    }
   ],
   "source": [
    "np.delete(data_iris, [1,2,3,4], axis=0)"
   ]
  },
  {
   "cell_type": "code",
   "execution_count": 100,
   "metadata": {},
   "outputs": [
    {
     "data": {
      "text/plain": [
       "array([ 1,  3,  4,  5,  6,  7,  8,  9, 10, 11, 12, 13, 14, 15, 16, 17, 18,\n",
       "       19, 20])"
      ]
     },
     "execution_count": 100,
     "metadata": {},
     "output_type": "execute_result"
    }
   ],
   "source": [
    "np.delete(notre_tableau,1)"
   ]
  },
  {
   "cell_type": "code",
   "execution_count": 101,
   "metadata": {},
   "outputs": [
    {
     "data": {
      "text/plain": [
       "array([ 1,  2,  3,  4,  5,  6,  7,  8,  9, 10, 11, 12, 13, 14, 15, 16, 17,\n",
       "       18, 19, 20])"
      ]
     },
     "execution_count": 101,
     "metadata": {},
     "output_type": "execute_result"
    }
   ],
   "source": [
    "notre_tableau"
   ]
  },
  {
   "cell_type": "code",
   "execution_count": 102,
   "metadata": {},
   "outputs": [
    {
     "name": "stdout",
     "output_type": "stream",
     "text": [
      "[1 2] [3 4 5 6] [ 7  8  9 10 11 12 13 14 15 16 17 18] [19 20]\n"
     ]
    }
   ],
   "source": [
    "notre_tableau_1, notre_tableau_2, notre_tableau_3,notre_tableau_4 = np.split(notre_tableau, [2,6,18])\n",
    "print(notre_tableau_1, notre_tableau_2, notre_tableau_3,notre_tableau_4)"
   ]
  },
  {
   "cell_type": "code",
   "execution_count": 103,
   "metadata": {},
   "outputs": [
    {
     "name": "stdout",
     "output_type": "stream",
     "text": [
      "avant division\n",
      "[[ 2.  5.  6.]\n",
      " [ 9. 10. 11.]\n",
      " [ 5.  6.  9.]]\n",
      "Après division\n",
      "array1:  [[ 2.  5.  6.]\n",
      " [ 9. 10. 11.]]\n",
      "array2:  [[5. 6. 9.]]\n"
     ]
    }
   ],
   "source": [
    "array=np.array([[2,5,6],[9,10,11],[5,6,9]], dtype=\"float\")\n",
    "print(\"avant division\")\n",
    "print(array)\n",
    "array1, array2 = np.vsplit(array, [2])\n",
    "print(\"Après division\")\n",
    "print(\"array1: \",array1)\n",
    "print(\"array2: \",array2)"
   ]
  },
  {
   "cell_type": "code",
   "execution_count": 104,
   "metadata": {},
   "outputs": [
    {
     "name": "stdout",
     "output_type": "stream",
     "text": [
      "avant division\n",
      "[[ 2.  5.  6.]\n",
      " [ 9. 10. 11.]\n",
      " [ 5.  6.  9.]]\n",
      "Après division\n",
      "array1:  [[ 2.  5.]\n",
      " [ 9. 10.]\n",
      " [ 5.  6.]]\n",
      "array2:  [[ 6.]\n",
      " [11.]\n",
      " [ 9.]]\n"
     ]
    }
   ],
   "source": [
    "array=np.array([[2,5,6],[9,10,11],[5,6,9]], dtype=\"float\")\n",
    "print(\"avant division\")\n",
    "print(array)\n",
    "array1, array2 = np.hsplit(array, [2])\n",
    "print(\"Après division\")\n",
    "print(\"array1: \",array1)\n",
    "print(\"array2: \",array2)"
   ]
  },
  {
   "cell_type": "code",
   "execution_count": 105,
   "metadata": {},
   "outputs": [
    {
     "name": "stdout",
     "output_type": "stream",
     "text": [
      "[1 2 3 4 5]\n",
      "[6 7 8 9]\n"
     ]
    },
    {
     "data": {
      "text/plain": [
       "array([1, 2, 3, 4, 5, 6, 7, 8, 9, 6, 7, 8, 9])"
      ]
     },
     "execution_count": 105,
     "metadata": {},
     "output_type": "execute_result"
    }
   ],
   "source": [
    "array1 = np.array([1,2,3,4,5])\n",
    "array2 = np.array([6,7,8,9])\n",
    "array3 = np.array([6,7,8,9])\n",
    "print(array1)\n",
    "print(array2)\n",
    "np.concatenate([array1,array2,array3])"
   ]
  },
  {
   "cell_type": "code",
   "execution_count": 106,
   "metadata": {},
   "outputs": [
    {
     "name": "stdout",
     "output_type": "stream",
     "text": [
      "array1 : [[1. 2. 3.]\n",
      " [4. 5. 6.]\n",
      " [7. 8. 9.]]\n",
      "array2 : [[ 2.  5.  6.]\n",
      " [ 9. 10. 11.]\n",
      " [ 5.  6.  9.]]\n"
     ]
    },
    {
     "data": {
      "text/plain": [
       "array([[ 1.,  2.,  3.],\n",
       "       [ 4.,  5.,  6.],\n",
       "       [ 7.,  8.,  9.],\n",
       "       [ 2.,  5.,  6.],\n",
       "       [ 9., 10., 11.],\n",
       "       [ 5.,  6.,  9.]])"
      ]
     },
     "execution_count": 106,
     "metadata": {},
     "output_type": "execute_result"
    }
   ],
   "source": [
    "array1 = np.array([[1,2,3],[4,5,6],[7,8,9]], dtype = \"float\")\n",
    "array2 = np.array([[2,5,6],[9,10,11],[5,6,9]], dtype = \"float\")\n",
    "print(\"array1 :\",array1)\n",
    "print(\"array2 :\",array2)\n",
    "np.concatenate([array1,array2])"
   ]
  },
  {
   "cell_type": "code",
   "execution_count": 107,
   "metadata": {},
   "outputs": [
    {
     "data": {
      "text/plain": [
       "array([[ 1.,  2.,  3.],\n",
       "       [ 4.,  5.,  6.],\n",
       "       [ 7.,  8.,  9.],\n",
       "       [ 2.,  5.,  6.],\n",
       "       [ 9., 10., 11.],\n",
       "       [ 5.,  6.,  9.],\n",
       "       [ 4., 10., 13.],\n",
       "       [ 7., 14., 15.]])"
      ]
     },
     "execution_count": 107,
     "metadata": {},
     "output_type": "execute_result"
    }
   ],
   "source": [
    "array3 = np.array([[4,10,13],[7,14,15]],dtype=\"float\")\n",
    "np.concatenate([array1,array2,array3])"
   ]
  },
  {
   "cell_type": "code",
   "execution_count": 108,
   "metadata": {},
   "outputs": [
    {
     "name": "stdout",
     "output_type": "stream",
     "text": [
      "[15 16 47]\n",
      "-----\n",
      "[[1. 2. 3.]\n",
      " [4. 5. 6.]\n",
      " [7. 8. 9.]]\n",
      "-----\n",
      "[[15. 16. 47.]\n",
      " [ 1.  2.  3.]\n",
      " [ 4.  5.  6.]\n",
      " [ 7.  8.  9.]]\n",
      "-----\n"
     ]
    }
   ],
   "source": [
    "array1 = np.array([15,16,47])\n",
    "array2 = np.array([[1,2,3],[4,5,6],[7,8,9]],dtype=\"float\")\n",
    "print(array1)\n",
    "print(5*\"-\")\n",
    "print(array2)\n",
    "print(5*\"-\")\n",
    "print(np.vstack([array1,array2]))\n",
    "array1 = np.array([[15],[16],[47]])\n",
    "print(5*\"-\")"
   ]
  },
  {
   "cell_type": "code",
   "execution_count": 109,
   "metadata": {},
   "outputs": [
    {
     "name": "stdout",
     "output_type": "stream",
     "text": [
      "[[15]\n",
      " [16]\n",
      " [47]]\n",
      "-----\n",
      "[[1. 2. 3.]\n",
      " [4. 5. 6.]\n",
      " [7. 8. 9.]]\n",
      "-----\n",
      "[[15.  1.  2.  3.]\n",
      " [16.  4.  5.  6.]\n",
      " [47.  7.  8.  9.]]\n"
     ]
    }
   ],
   "source": [
    "print(array1)\n",
    "print(5*\"-\")\n",
    "print(array2)\n",
    "print(5*\"-\")\n",
    "print(np.hstack([array1,array2]))"
   ]
  },
  {
   "cell_type": "code",
   "execution_count": null,
   "metadata": {},
   "outputs": [],
   "source": []
  },
  {
   "cell_type": "code",
   "execution_count": 110,
   "metadata": {},
   "outputs": [
    {
     "data": {
      "text/plain": [
       "array([[ 1.,  4.,  9.],\n",
       "       [16., 25., 36.],\n",
       "       [49., 64., 81.]])"
      ]
     },
     "execution_count": 110,
     "metadata": {},
     "output_type": "execute_result"
    }
   ],
   "source": [
    "## multiplication de deux tableaux ndarrays\n",
    "array2*array2"
   ]
  },
  {
   "cell_type": "code",
   "execution_count": 111,
   "metadata": {},
   "outputs": [
    {
     "data": {
      "text/plain": [
       "matrix([[ 30.,  36.,  42.],\n",
       "        [ 66.,  81.,  96.],\n",
       "        [102., 126., 150.]])"
      ]
     },
     "execution_count": 111,
     "metadata": {},
     "output_type": "execute_result"
    }
   ],
   "source": [
    "# produit matriciel entre les deux matrices array2\n",
    "np.mat(array2)*np.mat(array2)"
   ]
  },
  {
   "cell_type": "code",
   "execution_count": 116,
   "metadata": {},
   "outputs": [
    {
     "name": "stdout",
     "output_type": "stream",
     "text": [
      "[[5.1        3.5        1.4        0.2        3.33333333]\n",
      " [4.9        3.         1.4        0.2        3.1       ]\n",
      " [4.7        3.2        1.3        0.2        3.06666667]\n",
      " [4.6        3.1        1.5        0.2        3.06666667]\n",
      " [5.         3.6        1.4        0.2        3.33333333]\n",
      " [5.4        3.9        1.7        0.4        3.66666667]\n",
      " [4.6        3.4        1.4        0.3        3.13333333]\n",
      " [5.         3.4        1.5        0.2        3.3       ]\n",
      " [4.4        2.9        1.4        0.2        2.9       ]\n",
      " [4.9        3.1        1.5        0.1        3.16666667]\n",
      " [5.4        3.7        1.5        0.2        3.53333333]\n",
      " [4.8        3.4        1.6        0.2        3.26666667]\n",
      " [4.8        3.         1.4        0.1        3.06666667]\n",
      " [4.3        3.         1.1        0.1        2.8       ]\n",
      " [5.8        4.         1.2        0.2        3.66666667]\n",
      " [5.7        4.4        1.5        0.4        3.86666667]\n",
      " [5.4        3.9        1.3        0.4        3.53333333]\n",
      " [5.1        3.5        1.4        0.3        3.33333333]\n",
      " [5.7        3.8        1.7        0.3        3.73333333]\n",
      " [5.1        3.8        1.5        0.3        3.46666667]\n",
      " [5.4        3.4        1.7        0.2        3.5       ]\n",
      " [5.1        3.7        1.5        0.4        3.43333333]\n",
      " [4.6        3.6        1.         0.2        3.06666667]\n",
      " [5.1        3.3        1.7        0.5        3.36666667]\n",
      " [4.8        3.4        1.9        0.2        3.36666667]\n",
      " [5.         3.         1.6        0.2        3.2       ]\n",
      " [5.         3.4        1.6        0.4        3.33333333]\n",
      " [5.2        3.5        1.5        0.2        3.4       ]\n",
      " [5.2        3.4        1.4        0.2        3.33333333]\n",
      " [4.7        3.2        1.6        0.2        3.16666667]\n",
      " [4.8        3.1        1.6        0.2        3.16666667]\n",
      " [5.4        3.4        1.5        0.4        3.43333333]\n",
      " [5.2        4.1        1.5        0.1        3.6       ]\n",
      " [5.5        4.2        1.4        0.2        3.7       ]\n",
      " [4.9        3.1        1.5        0.2        3.16666667]\n",
      " [5.         3.2        1.2        0.2        3.13333333]\n",
      " [5.5        3.5        1.3        0.2        3.43333333]\n",
      " [4.9        3.6        1.4        0.1        3.3       ]\n",
      " [4.4        3.         1.3        0.2        2.9       ]\n",
      " [5.1        3.4        1.5        0.2        3.33333333]\n",
      " [5.         3.5        1.3        0.3        3.26666667]\n",
      " [4.5        2.3        1.3        0.3        2.7       ]\n",
      " [4.4        3.2        1.3        0.2        2.96666667]\n",
      " [5.         3.5        1.6        0.6        3.36666667]\n",
      " [5.1        3.8        1.9        0.4        3.6       ]\n",
      " [4.8        3.         1.4        0.3        3.06666667]\n",
      " [5.1        3.8        1.6        0.2        3.5       ]\n",
      " [4.6        3.2        1.4        0.2        3.06666667]\n",
      " [5.3        3.7        1.5        0.2        3.5       ]\n",
      " [5.         3.3        1.4        0.2        3.23333333]\n",
      " [7.         3.2        4.7        1.4        4.96666667]\n",
      " [6.4        3.2        4.5        1.5        4.7       ]\n",
      " [6.9        3.1        4.9        1.5        4.96666667]\n",
      " [5.5        2.3        4.         1.3        3.93333333]\n",
      " [6.5        2.8        4.6        1.5        4.63333333]\n",
      " [5.7        2.8        4.5        1.3        4.33333333]\n",
      " [6.3        3.3        4.7        1.6        4.76666667]\n",
      " [4.9        2.4        3.3        1.         3.53333333]\n",
      " [6.6        2.9        4.6        1.3        4.7       ]\n",
      " [5.2        2.7        3.9        1.4        3.93333333]\n",
      " [5.         2.         3.5        1.         3.5       ]\n",
      " [5.9        3.         4.2        1.5        4.36666667]\n",
      " [6.         2.2        4.         1.         4.06666667]\n",
      " [6.1        2.9        4.7        1.4        4.56666667]\n",
      " [5.6        2.9        3.6        1.3        4.03333333]\n",
      " [6.7        3.1        4.4        1.4        4.73333333]\n",
      " [5.6        3.         4.5        1.5        4.36666667]\n",
      " [5.8        2.7        4.1        1.         4.2       ]\n",
      " [6.2        2.2        4.5        1.5        4.3       ]\n",
      " [5.6        2.5        3.9        1.1        4.        ]\n",
      " [5.9        3.2        4.8        1.8        4.63333333]\n",
      " [6.1        2.8        4.         1.3        4.3       ]\n",
      " [6.3        2.5        4.9        1.5        4.56666667]\n",
      " [6.1        2.8        4.7        1.2        4.53333333]\n",
      " [6.4        2.9        4.3        1.3        4.53333333]\n",
      " [6.6        3.         4.4        1.4        4.66666667]\n",
      " [6.8        2.8        4.8        1.4        4.8       ]\n",
      " [6.7        3.         5.         1.7        4.9       ]\n",
      " [6.         2.9        4.5        1.5        4.46666667]\n",
      " [5.7        2.6        3.5        1.         3.93333333]\n",
      " [5.5        2.4        3.8        1.1        3.9       ]\n",
      " [5.5        2.4        3.7        1.         3.86666667]\n",
      " [5.8        2.7        3.9        1.2        4.13333333]\n",
      " [6.         2.7        5.1        1.6        4.6       ]\n",
      " [5.4        3.         4.5        1.5        4.3       ]\n",
      " [6.         3.4        4.5        1.6        4.63333333]\n",
      " [6.7        3.1        4.7        1.5        4.83333333]\n",
      " [6.3        2.3        4.4        1.3        4.33333333]\n",
      " [5.6        3.         4.1        1.3        4.23333333]\n",
      " [5.5        2.5        4.         1.3        4.        ]\n",
      " [5.5        2.6        4.4        1.2        4.16666667]\n",
      " [6.1        3.         4.6        1.4        4.56666667]\n",
      " [5.8        2.6        4.         1.2        4.13333333]\n",
      " [5.         2.3        3.3        1.         3.53333333]\n",
      " [5.6        2.7        4.2        1.3        4.16666667]\n",
      " [5.7        3.         4.2        1.2        4.3       ]\n",
      " [5.7        2.9        4.2        1.3        4.26666667]\n",
      " [6.2        2.9        4.3        1.3        4.46666667]\n",
      " [5.1        2.5        3.         1.1        3.53333333]\n",
      " [5.7        2.8        4.1        1.3        4.2       ]\n",
      " [6.3        3.3        6.         2.5        5.2       ]\n",
      " [5.8        2.7        5.1        1.9        4.53333333]\n",
      " [7.1        3.         5.9        2.1        5.33333333]\n",
      " [6.3        2.9        5.6        1.8        4.93333333]\n",
      " [6.5        3.         5.8        2.2        5.1       ]\n",
      " [7.6        3.         6.6        2.1        5.73333333]\n",
      " [4.9        2.5        4.5        1.7        3.96666667]\n",
      " [7.3        2.9        6.3        1.8        5.5       ]\n",
      " [6.7        2.5        5.8        1.8        5.        ]\n",
      " [7.2        3.6        6.1        2.5        5.63333333]\n",
      " [6.5        3.2        5.1        2.         4.93333333]\n",
      " [6.4        2.7        5.3        1.9        4.8       ]\n",
      " [6.8        3.         5.5        2.1        5.1       ]\n",
      " [5.7        2.5        5.         2.         4.4       ]\n",
      " [5.8        2.8        5.1        2.4        4.56666667]\n",
      " [6.4        3.2        5.3        2.3        4.96666667]\n",
      " [6.5        3.         5.5        1.8        5.        ]\n",
      " [7.7        3.8        6.7        2.2        6.06666667]\n",
      " [7.7        2.6        6.9        2.3        5.73333333]\n",
      " [6.         2.2        5.         1.5        4.4       ]\n",
      " [6.9        3.2        5.7        2.3        5.26666667]\n",
      " [5.6        2.8        4.9        2.         4.43333333]\n",
      " [7.7        2.8        6.7        2.         5.73333333]\n",
      " [6.3        2.7        4.9        1.8        4.63333333]\n",
      " [6.7        3.3        5.7        2.1        5.23333333]\n",
      " [7.2        3.2        6.         1.8        5.46666667]\n",
      " [6.2        2.8        4.8        1.8        4.6       ]\n",
      " [6.1        3.         4.9        1.8        4.66666667]\n",
      " [6.4        2.8        5.6        2.1        4.93333333]\n",
      " [7.2        3.         5.8        1.6        5.33333333]\n",
      " [7.4        2.8        6.1        1.9        5.43333333]\n",
      " [7.9        3.8        6.4        2.         6.03333333]\n",
      " [6.4        2.8        5.6        2.2        4.93333333]\n",
      " [6.3        2.8        5.1        1.5        4.73333333]\n",
      " [6.1        2.6        5.6        1.4        4.76666667]\n",
      " [7.7        3.         6.1        2.3        5.6       ]\n",
      " [6.3        3.4        5.6        2.4        5.1       ]\n",
      " [6.4        3.1        5.5        1.8        5.        ]\n",
      " [6.         3.         4.8        1.8        4.6       ]\n",
      " [6.9        3.1        5.4        2.1        5.13333333]\n",
      " [6.7        3.1        5.6        2.4        5.13333333]\n",
      " [6.9        3.1        5.1        2.3        5.03333333]\n",
      " [5.8        2.7        5.1        1.9        4.53333333]\n",
      " [6.8        3.2        5.9        2.3        5.3       ]\n",
      " [6.7        3.3        5.7        2.5        5.23333333]\n",
      " [6.7        3.         5.2        2.3        4.96666667]\n",
      " [6.3        2.5        5.         1.9        4.6       ]\n",
      " [6.5        3.         5.2        2.         4.9       ]\n",
      " [6.2        3.4        5.4        2.3        5.        ]\n",
      " [5.9        3.         5.1        1.8        4.66666667]]\n"
     ]
    }
   ],
   "source": [
    "data_iris2 = np.delete(data_iris,3,axis = 1)\n",
    "moyenne = np.mean(data_iris2, axis=1)\n",
    "\n",
    "data_iris3 = np.insert(data_iris, 4 , moyenne, axis = 1)\n",
    "print(data_iris3)"
   ]
  },
  {
   "cell_type": "code",
   "execution_count": 117,
   "metadata": {},
   "outputs": [
    {
     "name": "stdout",
     "output_type": "stream",
     "text": [
      "[[5.1   3.5   1.4   0.2   2.55 ]\n",
      " [4.9   3.    1.4   0.2   2.375]\n",
      " [4.7   3.2   1.3   0.2   2.35 ]\n",
      " [4.6   3.1   1.5   0.2   2.35 ]\n",
      " [5.    3.6   1.4   0.2   2.55 ]\n",
      " [5.4   3.9   1.7   0.4   2.85 ]\n",
      " [4.6   3.4   1.4   0.3   2.425]\n",
      " [5.    3.4   1.5   0.2   2.525]\n",
      " [4.4   2.9   1.4   0.2   2.225]\n",
      " [4.9   3.1   1.5   0.1   2.4  ]\n",
      " [5.4   3.7   1.5   0.2   2.7  ]\n",
      " [4.8   3.4   1.6   0.2   2.5  ]\n",
      " [4.8   3.    1.4   0.1   2.325]\n",
      " [4.3   3.    1.1   0.1   2.125]\n",
      " [5.8   4.    1.2   0.2   2.8  ]\n",
      " [5.7   4.4   1.5   0.4   3.   ]\n",
      " [5.4   3.9   1.3   0.4   2.75 ]\n",
      " [5.1   3.5   1.4   0.3   2.575]\n",
      " [5.7   3.8   1.7   0.3   2.875]\n",
      " [5.1   3.8   1.5   0.3   2.675]\n",
      " [5.4   3.4   1.7   0.2   2.675]\n",
      " [5.1   3.7   1.5   0.4   2.675]\n",
      " [4.6   3.6   1.    0.2   2.35 ]\n",
      " [5.1   3.3   1.7   0.5   2.65 ]\n",
      " [4.8   3.4   1.9   0.2   2.575]\n",
      " [5.    3.    1.6   0.2   2.45 ]\n",
      " [5.    3.4   1.6   0.4   2.6  ]\n",
      " [5.2   3.5   1.5   0.2   2.6  ]\n",
      " [5.2   3.4   1.4   0.2   2.55 ]\n",
      " [4.7   3.2   1.6   0.2   2.425]\n",
      " [4.8   3.1   1.6   0.2   2.425]\n",
      " [5.4   3.4   1.5   0.4   2.675]\n",
      " [5.2   4.1   1.5   0.1   2.725]\n",
      " [5.5   4.2   1.4   0.2   2.825]\n",
      " [4.9   3.1   1.5   0.2   2.425]\n",
      " [5.    3.2   1.2   0.2   2.4  ]\n",
      " [5.5   3.5   1.3   0.2   2.625]\n",
      " [4.9   3.6   1.4   0.1   2.5  ]\n",
      " [4.4   3.    1.3   0.2   2.225]\n",
      " [5.1   3.4   1.5   0.2   2.55 ]\n",
      " [5.    3.5   1.3   0.3   2.525]\n",
      " [4.5   2.3   1.3   0.3   2.1  ]\n",
      " [4.4   3.2   1.3   0.2   2.275]\n",
      " [5.    3.5   1.6   0.6   2.675]\n",
      " [5.1   3.8   1.9   0.4   2.8  ]\n",
      " [4.8   3.    1.4   0.3   2.375]\n",
      " [5.1   3.8   1.6   0.2   2.675]\n",
      " [4.6   3.2   1.4   0.2   2.35 ]\n",
      " [5.3   3.7   1.5   0.2   2.675]\n",
      " [5.    3.3   1.4   0.2   2.475]\n",
      " [7.    3.2   4.7   1.4   4.075]\n",
      " [6.4   3.2   4.5   1.5   3.9  ]\n",
      " [6.9   3.1   4.9   1.5   4.1  ]\n",
      " [5.5   2.3   4.    1.3   3.275]\n",
      " [6.5   2.8   4.6   1.5   3.85 ]\n",
      " [5.7   2.8   4.5   1.3   3.575]\n",
      " [6.3   3.3   4.7   1.6   3.975]\n",
      " [4.9   2.4   3.3   1.    2.9  ]\n",
      " [6.6   2.9   4.6   1.3   3.85 ]\n",
      " [5.2   2.7   3.9   1.4   3.3  ]\n",
      " [5.    2.    3.5   1.    2.875]\n",
      " [5.9   3.    4.2   1.5   3.65 ]\n",
      " [6.    2.2   4.    1.    3.3  ]\n",
      " [6.1   2.9   4.7   1.4   3.775]\n",
      " [5.6   2.9   3.6   1.3   3.35 ]\n",
      " [6.7   3.1   4.4   1.4   3.9  ]\n",
      " [5.6   3.    4.5   1.5   3.65 ]\n",
      " [5.8   2.7   4.1   1.    3.4  ]\n",
      " [6.2   2.2   4.5   1.5   3.6  ]\n",
      " [5.6   2.5   3.9   1.1   3.275]\n",
      " [5.9   3.2   4.8   1.8   3.925]\n",
      " [6.1   2.8   4.    1.3   3.55 ]\n",
      " [6.3   2.5   4.9   1.5   3.8  ]\n",
      " [6.1   2.8   4.7   1.2   3.7  ]\n",
      " [6.4   2.9   4.3   1.3   3.725]\n",
      " [6.6   3.    4.4   1.4   3.85 ]\n",
      " [6.8   2.8   4.8   1.4   3.95 ]\n",
      " [6.7   3.    5.    1.7   4.1  ]\n",
      " [6.    2.9   4.5   1.5   3.725]\n",
      " [5.7   2.6   3.5   1.    3.2  ]\n",
      " [5.5   2.4   3.8   1.1   3.2  ]\n",
      " [5.5   2.4   3.7   1.    3.15 ]\n",
      " [5.8   2.7   3.9   1.2   3.4  ]\n",
      " [6.    2.7   5.1   1.6   3.85 ]\n",
      " [5.4   3.    4.5   1.5   3.6  ]\n",
      " [6.    3.4   4.5   1.6   3.875]\n",
      " [6.7   3.1   4.7   1.5   4.   ]\n",
      " [6.3   2.3   4.4   1.3   3.575]\n",
      " [5.6   3.    4.1   1.3   3.5  ]\n",
      " [5.5   2.5   4.    1.3   3.325]\n",
      " [5.5   2.6   4.4   1.2   3.425]\n",
      " [6.1   3.    4.6   1.4   3.775]\n",
      " [5.8   2.6   4.    1.2   3.4  ]\n",
      " [5.    2.3   3.3   1.    2.9  ]\n",
      " [5.6   2.7   4.2   1.3   3.45 ]\n",
      " [5.7   3.    4.2   1.2   3.525]\n",
      " [5.7   2.9   4.2   1.3   3.525]\n",
      " [6.2   2.9   4.3   1.3   3.675]\n",
      " [5.1   2.5   3.    1.1   2.925]\n",
      " [5.7   2.8   4.1   1.3   3.475]\n",
      " [6.3   3.3   6.    2.5   4.525]\n",
      " [5.8   2.7   5.1   1.9   3.875]\n",
      " [7.1   3.    5.9   2.1   4.525]\n",
      " [6.3   2.9   5.6   1.8   4.15 ]\n",
      " [6.5   3.    5.8   2.2   4.375]\n",
      " [7.6   3.    6.6   2.1   4.825]\n",
      " [4.9   2.5   4.5   1.7   3.4  ]\n",
      " [7.3   2.9   6.3   1.8   4.575]\n",
      " [6.7   2.5   5.8   1.8   4.2  ]\n",
      " [7.2   3.6   6.1   2.5   4.85 ]\n",
      " [6.5   3.2   5.1   2.    4.2  ]\n",
      " [6.4   2.7   5.3   1.9   4.075]\n",
      " [6.8   3.    5.5   2.1   4.35 ]\n",
      " [5.7   2.5   5.    2.    3.8  ]\n",
      " [5.8   2.8   5.1   2.4   4.025]\n",
      " [6.4   3.2   5.3   2.3   4.3  ]\n",
      " [6.5   3.    5.5   1.8   4.2  ]\n",
      " [7.7   3.8   6.7   2.2   5.1  ]\n",
      " [7.7   2.6   6.9   2.3   4.875]\n",
      " [6.    2.2   5.    1.5   3.675]\n",
      " [6.9   3.2   5.7   2.3   4.525]\n",
      " [5.6   2.8   4.9   2.    3.825]\n",
      " [7.7   2.8   6.7   2.    4.8  ]\n",
      " [6.3   2.7   4.9   1.8   3.925]\n",
      " [6.7   3.3   5.7   2.1   4.45 ]\n",
      " [7.2   3.2   6.    1.8   4.55 ]\n",
      " [6.2   2.8   4.8   1.8   3.9  ]\n",
      " [6.1   3.    4.9   1.8   3.95 ]\n",
      " [6.4   2.8   5.6   2.1   4.225]\n",
      " [7.2   3.    5.8   1.6   4.4  ]\n",
      " [7.4   2.8   6.1   1.9   4.55 ]\n",
      " [7.9   3.8   6.4   2.    5.025]\n",
      " [6.4   2.8   5.6   2.2   4.25 ]\n",
      " [6.3   2.8   5.1   1.5   3.925]\n",
      " [6.1   2.6   5.6   1.4   3.925]\n",
      " [7.7   3.    6.1   2.3   4.775]\n",
      " [6.3   3.4   5.6   2.4   4.425]\n",
      " [6.4   3.1   5.5   1.8   4.2  ]\n",
      " [6.    3.    4.8   1.8   3.9  ]\n",
      " [6.9   3.1   5.4   2.1   4.375]\n",
      " [6.7   3.1   5.6   2.4   4.45 ]\n",
      " [6.9   3.1   5.1   2.3   4.35 ]\n",
      " [5.8   2.7   5.1   1.9   3.875]\n",
      " [6.8   3.2   5.9   2.3   4.55 ]\n",
      " [6.7   3.3   5.7   2.5   4.55 ]\n",
      " [6.7   3.    5.2   2.3   4.3  ]\n",
      " [6.3   2.5   5.    1.9   3.925]\n",
      " [6.5   3.    5.2   2.    4.175]\n",
      " [6.2   3.4   5.4   2.3   4.325]\n",
      " [5.9   3.    5.1   1.8   3.95 ]]\n"
     ]
    }
   ],
   "source": [
    "iris_mean = np.mean(data_iris[:,:4], axis=1)\n",
    "iris_mean\n",
    "print(np.insert(data_iris, 4,iris_mean, axis=1))"
   ]
  },
  {
   "cell_type": "code",
   "execution_count": 118,
   "metadata": {},
   "outputs": [
    {
     "name": "stdout",
     "output_type": "stream",
     "text": [
      "[[5.1        3.5        1.4        0.2       ]\n",
      " [4.9        3.         1.4        0.2       ]\n",
      " [4.7        3.2        1.3        0.2       ]\n",
      " [4.6        3.1        1.5        0.2       ]\n",
      " [5.         3.6        1.4        0.2       ]\n",
      " [5.4        3.9        1.7        0.4       ]\n",
      " [4.6        3.4        1.4        0.3       ]\n",
      " [5.         3.4        1.5        0.2       ]\n",
      " [4.4        2.9        1.4        0.2       ]\n",
      " [4.9        3.1        1.5        0.1       ]\n",
      " [5.4        3.7        1.5        0.2       ]\n",
      " [4.8        3.4        1.6        0.2       ]\n",
      " [4.8        3.         1.4        0.1       ]\n",
      " [4.3        3.         1.1        0.1       ]\n",
      " [5.8        4.         1.2        0.2       ]\n",
      " [5.7        4.4        1.5        0.4       ]\n",
      " [5.4        3.9        1.3        0.4       ]\n",
      " [5.1        3.5        1.4        0.3       ]\n",
      " [5.7        3.8        1.7        0.3       ]\n",
      " [5.1        3.8        1.5        0.3       ]\n",
      " [5.4        3.4        1.7        0.2       ]\n",
      " [5.1        3.7        1.5        0.4       ]\n",
      " [4.6        3.6        1.         0.2       ]\n",
      " [5.1        3.3        1.7        0.5       ]\n",
      " [4.8        3.4        1.9        0.2       ]\n",
      " [5.         3.         1.6        0.2       ]\n",
      " [5.         3.4        1.6        0.4       ]\n",
      " [5.2        3.5        1.5        0.2       ]\n",
      " [5.2        3.4        1.4        0.2       ]\n",
      " [4.7        3.2        1.6        0.2       ]\n",
      " [4.8        3.1        1.6        0.2       ]\n",
      " [5.4        3.4        1.5        0.4       ]\n",
      " [5.2        4.1        1.5        0.1       ]\n",
      " [5.5        4.2        1.4        0.2       ]\n",
      " [4.9        3.1        1.5        0.2       ]\n",
      " [5.         3.2        1.2        0.2       ]\n",
      " [5.5        3.5        1.3        0.2       ]\n",
      " [4.9        3.6        1.4        0.1       ]\n",
      " [4.4        3.         1.3        0.2       ]\n",
      " [5.1        3.4        1.5        0.2       ]\n",
      " [5.         3.5        1.3        0.3       ]\n",
      " [4.5        2.3        1.3        0.3       ]\n",
      " [4.4        3.2        1.3        0.2       ]\n",
      " [5.         3.5        1.6        0.6       ]\n",
      " [5.1        3.8        1.9        0.4       ]\n",
      " [4.8        3.         1.4        0.3       ]\n",
      " [5.1        3.8        1.6        0.2       ]\n",
      " [4.6        3.2        1.4        0.2       ]\n",
      " [5.3        3.7        1.5        0.2       ]\n",
      " [5.         3.3        1.4        0.2       ]\n",
      " [7.         3.2        4.7        1.4       ]\n",
      " [6.4        3.2        4.5        1.5       ]\n",
      " [6.9        3.1        4.9        1.5       ]\n",
      " [5.5        2.3        4.         1.3       ]\n",
      " [6.5        2.8        4.6        1.5       ]\n",
      " [5.7        2.8        4.5        1.3       ]\n",
      " [6.3        3.3        4.7        1.6       ]\n",
      " [4.9        2.4        3.3        1.        ]\n",
      " [6.6        2.9        4.6        1.3       ]\n",
      " [5.2        2.7        3.9        1.4       ]\n",
      " [5.         2.         3.5        1.        ]\n",
      " [5.9        3.         4.2        1.5       ]\n",
      " [6.         2.2        4.         1.        ]\n",
      " [6.1        2.9        4.7        1.4       ]\n",
      " [5.6        2.9        3.6        1.3       ]\n",
      " [6.7        3.1        4.4        1.4       ]\n",
      " [5.6        3.         4.5        1.5       ]\n",
      " [5.8        2.7        4.1        1.        ]\n",
      " [6.2        2.2        4.5        1.5       ]\n",
      " [5.6        2.5        3.9        1.1       ]\n",
      " [5.9        3.2        4.8        1.8       ]\n",
      " [6.1        2.8        4.         1.3       ]\n",
      " [6.3        2.5        4.9        1.5       ]\n",
      " [6.1        2.8        4.7        1.2       ]\n",
      " [6.4        2.9        4.3        1.3       ]\n",
      " [6.6        3.         4.4        1.4       ]\n",
      " [6.8        2.8        4.8        1.4       ]\n",
      " [6.7        3.         5.         1.7       ]\n",
      " [6.         2.9        4.5        1.5       ]\n",
      " [5.7        2.6        3.5        1.        ]\n",
      " [5.5        2.4        3.8        1.1       ]\n",
      " [5.5        2.4        3.7        1.        ]\n",
      " [5.8        2.7        3.9        1.2       ]\n",
      " [6.         2.7        5.1        1.6       ]\n",
      " [5.4        3.         4.5        1.5       ]\n",
      " [6.         3.4        4.5        1.6       ]\n",
      " [6.7        3.1        4.7        1.5       ]\n",
      " [6.3        2.3        4.4        1.3       ]\n",
      " [5.6        3.         4.1        1.3       ]\n",
      " [5.5        2.5        4.         1.3       ]\n",
      " [5.5        2.6        4.4        1.2       ]\n",
      " [6.1        3.         4.6        1.4       ]\n",
      " [5.8        2.6        4.         1.2       ]\n",
      " [5.         2.3        3.3        1.        ]\n",
      " [5.6        2.7        4.2        1.3       ]\n",
      " [5.7        3.         4.2        1.2       ]\n",
      " [5.7        2.9        4.2        1.3       ]\n",
      " [6.2        2.9        4.3        1.3       ]\n",
      " [5.1        2.5        3.         1.1       ]\n",
      " [5.7        2.8        4.1        1.3       ]\n",
      " [6.3        3.3        6.         2.5       ]\n",
      " [5.8        2.7        5.1        1.9       ]\n",
      " [7.1        3.         5.9        2.1       ]\n",
      " [6.3        2.9        5.6        1.8       ]\n",
      " [6.5        3.         5.8        2.2       ]\n",
      " [7.6        3.         6.6        2.1       ]\n",
      " [4.9        2.5        4.5        1.7       ]\n",
      " [7.3        2.9        6.3        1.8       ]\n",
      " [6.7        2.5        5.8        1.8       ]\n",
      " [7.2        3.6        6.1        2.5       ]\n",
      " [6.5        3.2        5.1        2.        ]\n",
      " [6.4        2.7        5.3        1.9       ]\n",
      " [6.8        3.         5.5        2.1       ]\n",
      " [5.7        2.5        5.         2.        ]\n",
      " [5.8        2.8        5.1        2.4       ]\n",
      " [6.4        3.2        5.3        2.3       ]\n",
      " [6.5        3.         5.5        1.8       ]\n",
      " [7.7        3.8        6.7        2.2       ]\n",
      " [7.7        2.6        6.9        2.3       ]\n",
      " [6.         2.2        5.         1.5       ]\n",
      " [6.9        3.2        5.7        2.3       ]\n",
      " [5.6        2.8        4.9        2.        ]\n",
      " [7.7        2.8        6.7        2.        ]\n",
      " [6.3        2.7        4.9        1.8       ]\n",
      " [6.7        3.3        5.7        2.1       ]\n",
      " [7.2        3.2        6.         1.8       ]\n",
      " [6.2        2.8        4.8        1.8       ]\n",
      " [6.1        3.         4.9        1.8       ]\n",
      " [6.4        2.8        5.6        2.1       ]\n",
      " [7.2        3.         5.8        1.6       ]\n",
      " [7.4        2.8        6.1        1.9       ]\n",
      " [7.9        3.8        6.4        2.        ]\n",
      " [6.4        2.8        5.6        2.2       ]\n",
      " [6.3        2.8        5.1        1.5       ]\n",
      " [6.1        2.6        5.6        1.4       ]\n",
      " [7.7        3.         6.1        2.3       ]\n",
      " [6.3        3.4        5.6        2.4       ]\n",
      " [6.4        3.1        5.5        1.8       ]\n",
      " [6.         3.         4.8        1.8       ]\n",
      " [6.9        3.1        5.4        2.1       ]\n",
      " [6.7        3.1        5.6        2.4       ]\n",
      " [6.9        3.1        5.1        2.3       ]\n",
      " [5.8        2.7        5.1        1.9       ]\n",
      " [6.8        3.2        5.9        2.3       ]\n",
      " [6.7        3.3        5.7        2.5       ]\n",
      " [6.7        3.         5.2        2.3       ]\n",
      " [6.3        2.5        5.         1.9       ]\n",
      " [6.5        3.         5.2        2.        ]\n",
      " [6.2        3.4        5.4        2.3       ]\n",
      " [5.9        3.         5.1        1.8       ]\n",
      " [5.84333333 3.05733333 3.758      1.19933333]]\n"
     ]
    }
   ],
   "source": [
    "iris_column_mean = np.mean(data_iris, axis = 0)\n",
    "print(np.insert(data_iris,data_iris.shape[0], iris_column_mean, axis=0))"
   ]
  }
 ],
 "metadata": {
  "kernelspec": {
   "display_name": "Python 3",
   "language": "python",
   "name": "python3"
  },
  "language_info": {
   "codemirror_mode": {
    "name": "ipython",
    "version": 3
   },
   "file_extension": ".py",
   "mimetype": "text/x-python",
   "name": "python",
   "nbconvert_exporter": "python",
   "pygments_lexer": "ipython3",
   "version": "3.8.5"
  },
  "metadata": {
   "interpreter": {
    "hash": "e6eadfc1c4a1eef00ecbec86d0c5769026efe2dcc04103dc3901ce98c2258b06"
   }
  }
 },
 "nbformat": 4,
 "nbformat_minor": 2
}
