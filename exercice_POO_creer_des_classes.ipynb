{
 "cells": [
  {
   "cell_type": "code",
   "execution_count": 12,
   "metadata": {},
   "outputs": [],
   "source": [
    "import random\n",
    "\n",
    "class superstring:\n",
    "    def __init__(self, chaine):\n",
    "        self.ch=chaine\n",
    "        \n",
    "        \n",
    "    def ajoute(self,char):\n",
    "        self.ch+=char\n",
    "  \n",
    "        \n",
    "    def insert(self,char,i):\n",
    "        self.ch=self.ch[:i]+char+self.ch[i:]\n",
    "\n",
    "    \n",
    "    def upper(self):\n",
    "        self.ch= self.ch.upper()\n",
    "        \n",
    "    \n",
    "    def __str__(self):\n",
    "        return self.ch"
   ]
  },
  {
   "cell_type": "code",
   "execution_count": 13,
   "metadata": {},
   "outputs": [
    {
     "name": "stdout",
     "output_type": "stream",
     "text": [
      "ECOUTEZ BIEN C'EST TRES  IMPORTANT JE M'ENNUYE\n"
     ]
    }
   ],
   "source": [
    "s1= superstring(\"ecoutez bien c'est important\")\n",
    "s1.ajoute(\" je m'ennuye\")\n",
    "s1.insert(' tres ',18)\n",
    "s1.upper()\n",
    "print(s1)"
   ]
  },
  {
   "cell_type": "code",
   "execution_count": 6,
   "metadata": {},
   "outputs": [],
   "source": [
    "#question 1 Ajouter une méthode capsdown() qui passe en minuscule les\n",
    "#éléments de la classe « superstring\n",
    "\n",
    "class superstring:\n",
    "    def __init__(self, chaine):\n",
    "        self.ch=chaine\n",
    "        \n",
    "        \n",
    "    def ajoute(self,char):\n",
    "        self.ch+=char\n",
    "  \n",
    "        \n",
    "    def insert(self,char,i):\n",
    "        self.ch=self.ch[:i]+char+self.ch[:i]\n",
    "\n",
    "    \n",
    "    def capsdown(self):\n",
    "        self.ch= self.ch.lower()\n",
    "        \n",
    "    \n",
    "    def __str__(self):\n",
    "        return self.ch"
   ]
  },
  {
   "cell_type": "code",
   "execution_count": 9,
   "metadata": {},
   "outputs": [
    {
     "name": "stdout",
     "output_type": "stream",
     "text": [
      "ecoutez btresecoutez b\n"
     ]
    }
   ],
   "source": [
    "s1= superstring(\"ecoutez bien c'est important\")\n",
    "s1.ajoute(\"je m'ennuye\")\n",
    "s1.insert('tres',9)\n",
    "s1.capsdown()\n",
    "print(s1)"
   ]
  },
  {
   "cell_type": "code",
   "execution_count": 14,
   "metadata": {},
   "outputs": [],
   "source": [
    "#question 2 Ajouter une méthode tri() qui trie les mots de la classe « superstring »\n",
    "#par ordre alphabétique. Utiliser les méthodes split(), sorted () et join\n",
    "\n",
    "class superstring:\n",
    "    def __init__(self, chaine):\n",
    "        self.ch=chaine\n",
    "        \n",
    "        \n",
    "    def ajoute(self,char):\n",
    "        self.ch+=char\n",
    "  \n",
    "        \n",
    "    def insert(self, char ,i):\n",
    "        self.ch=self.ch[:i]+char+self.ch[i:]\n",
    "\n",
    "    \n",
    "    def capsdown(self):\n",
    "        self.ch= self.ch.lower()\n",
    "        \n",
    "    def tri(self):\n",
    "        self.ch=' '.join((sorted (self.ch.split(' '))))\n",
    "        \n",
    "    \n",
    "    def __str__(self):\n",
    "        return self.ch"
   ]
  },
  {
   "cell_type": "code",
   "execution_count": 15,
   "metadata": {},
   "outputs": [
    {
     "name": "stdout",
     "output_type": "stream",
     "text": [
      "! bien c'est ce dis ecoutez important je que tres\n"
     ]
    }
   ],
   "source": [
    "s1= superstring(\"ecoutez bien c'est important\")\n",
    "s1.ajoute(\" ce que je dis !\")\n",
    "s1.insert(\" tres\",18)\n",
    "s1.capsdown()\n",
    "s1.tri()\n",
    "\n",
    "print(s1)"
   ]
  },
  {
   "cell_type": "code",
   "execution_count": 16,
   "metadata": {},
   "outputs": [],
   "source": [
    " #question 3  Modifier la méthode __str__ de façon à avoir un affichage de la forme\n",
    "#« type : superstring, content : ECOUTEZ BIEN C'EST TRÈS IMPORTANT\n",
    "#CE QUE JE DIS ! ».\n",
    "\n",
    "class superstring:\n",
    "    def __init__(self, chaine):\n",
    "        self.ch=chaine\n",
    "        \n",
    "        \n",
    "    def ajoute(self,char):\n",
    "        self.ch+=char\n",
    "  \n",
    "        \n",
    "    def insert(self, char ,i):\n",
    "        self.ch=self.ch[:i]+char+self.ch[i:]\n",
    "\n",
    "    \n",
    "    def capsdown(self):\n",
    "        self.ch= self.ch.lower()\n",
    "        \n",
    "    def tri(self):\n",
    "        self.ch=' '.join((sorted (self.ch.split(' '))))\n",
    "        \n",
    "    \n",
    "    def __str__(self):\n",
    "        return f'type=superstring, content: {self.ch.upper()} '\n"
   ]
  },
  {
   "cell_type": "code",
   "execution_count": 17,
   "metadata": {},
   "outputs": [
    {
     "name": "stdout",
     "output_type": "stream",
     "text": [
      "type=superstring, content: ! BIEN C'EST CE DIS ECOUTEZ IMPORTANT JE QUE TRES \n"
     ]
    }
   ],
   "source": [
    "s1= superstring(\"ecoutez bien c'est important\")\n",
    "s1.ajoute(\" ce que je dis !\")\n",
    "s1.insert(\" tres\",18)\n",
    "s1.capsdown()\n",
    "s1.tri()\n",
    "\n",
    "print(s1)"
   ]
  },
  {
   "cell_type": "code",
   "execution_count": 19,
   "metadata": {},
   "outputs": [],
   "source": [
    "# question 4 ajouter une méthode qui vérifie si 2 formulaires renvoient à la même personne.\n",
    "\n",
    "class formulaire:\n",
    "    def __init__(self, nom, prenom, annee_naissance):\n",
    "        self.nom=nom.upper()\n",
    "        self.prenom=prenom.upper()\n",
    "        self.annee_naissance=annee_naissance\n",
    "        \n",
    "    def age(self):\n",
    "        return 2020 - self.annee_naissance\n",
    "\n",
    "    def meme_famille (self, formulaire):\n",
    "        return self.nom== formulaire.nom\n",
    "    \n",
    "    def meme_formulaire(self,other_nom,other_prenom, other_annee_naissance):\n",
    "        return other_nom==self.nom and other_annee_naissance==self.annee_naissance and other_prenom==self.prenom\n",
    "    \n",
    "    def __str__(self):\n",
    "        return f'%s,%s,%s' %(self.nom,  self.prenom, self.annee_naissance)\n",
    "        "
   ]
  },
  {
   "cell_type": "code",
   "execution_count": 20,
   "metadata": {},
   "outputs": [
    {
     "name": "stdout",
     "output_type": "stream",
     "text": [
      "DOE,ALICE,2000\n",
      "BLACK,THOMAS,2001\n",
      "FRANÇOIS,TOM,2003\n",
      "DOE,JOHN,2005\n"
     ]
    }
   ],
   "source": [
    "jd= formulaire('Doe', 'John', 2005)\n",
    "ad= formulaire ('doe', 'Alice', 2000)\n",
    "\n",
    "\n",
    "bl=formulaire('Black', 'thomas', 2001)\n",
    "fr=formulaire('François','Tom',2003)\n",
    "tr=formulaire('tram','Tony',2010)\n",
    "liste = [jd,ad, bl, fr]\n",
    "\n",
    "for i in sorted(liste, key=lambda i: i.annee_naissance ):\n",
    "    print(i)"
   ]
  },
  {
   "cell_type": "code",
   "execution_count": 21,
   "metadata": {},
   "outputs": [
    {
     "name": "stdout",
     "output_type": "stream",
     "text": [
      "[1, 2, 3, 4, 5, 6, 7, 8, 9, 10]\n",
      "[(1, 1), (1, 2), (1, 3), (1, 4), (2, 1), (2, 2), (2, 3), (2, 4), (3, 1), (3, 2), (3, 3), (3, 4), (4, 1), (4, 2), (4, 3), (4, 4), (5, 1), (5, 2), (5, 3), (5, 4), (6, 1), (6, 2), (6, 3), (6, 4), (7, 1), (7, 2), (7, 3), (7, 4), (8, 1), (8, 2), (8, 3), (8, 4), (9, 1), (9, 2), (9, 3), (9, 4), (10, 1), (10, 2), (10, 3), (10, 4)]\n"
     ]
    }
   ],
   "source": [
    "valeurs= [i for i in range (1,11)]\n",
    "couleurs= [i for i in range(1,5)]\n",
    "print(valeurs)\n",
    "nb_tours= 7\n",
    "score=0\n",
    "\n",
    "paquet= [(v,c) for v in valeurs for c in couleurs]\n",
    "main1, main2=[], []\n",
    "\n",
    "print(paquet)"
   ]
  },
  {
   "cell_type": "code",
   "execution_count": 22,
   "metadata": {},
   "outputs": [],
   "source": [
    "for i in range (nb_tours):\n",
    "    \n",
    "    x= paquet[ random.randrange(len(paquet)) ] #le jouer 1 tire une carte aléatoire du paquet\n",
    "    main1.append(x) # la carte est supprimé du paquet\n",
    "    paquet.remove(x)\n",
    "    y=paquet[random.randrange(len(paquet))]\n",
    "    main2.append(y) #le jouer 2 tire une carte aléatoire du paquet\n",
    "    paquet.remove(y)# la carte est supprimé du paquet"
   ]
  },
  {
   "cell_type": "code",
   "execution_count": 23,
   "metadata": {},
   "outputs": [],
   "source": [
    "for i in range(nb_tours):\n",
    "    if main1[i][0] >=main2[i][0] or (main1[i][0]==main2[i][0] and main1[i][1]>main[i][1] ):\n",
    "        score +=1\n",
    "    else:\n",
    "        score-=1"
   ]
  },
  {
   "cell_type": "code",
   "execution_count": 24,
   "metadata": {},
   "outputs": [
    {
     "name": "stdout",
     "output_type": "stream",
     "text": [
      "Vainqueur:joueur 1\n"
     ]
    }
   ],
   "source": [
    "print(\"Vainqueur:\" + (\"joueur 1\" if score > 0 else \"joueur 2\"))"
   ]
  },
  {
   "cell_type": "code",
   "execution_count": 31,
   "metadata": {},
   "outputs": [
    {
     "data": {
      "text/plain": [
       "'def piocher(paquet, nombredeTours): \\n    main1=[]\\n    main2=[]\\n    for i in range (nb_tours):\\n    \\n    x= paquet[ random.randrange(len(paquet)) ] \\n    main1.append(x) \\n    paquet.remove(x)\\n    y=paquet[random.randrange(len(paquet))]\\n    main2.append(y) \\n    paquet.remove(y)'"
      ]
     },
     "execution_count": 31,
     "metadata": {},
     "output_type": "execute_result"
    }
   ],
   "source": [
    "score=0\n",
    "class carte:\n",
    "    def __init__(self,couleur,valeur):\n",
    "        self.couleur=couleur\n",
    "        self.valeur=valeur\n",
    "        \n",
    "    def __str__(self):\n",
    "        return str(self)\n",
    "    \n",
    "  \n",
    "def plusGrandQue(carte1, carte2):    \n",
    "    \n",
    "    if carte1.valeur<carte2.valeur or (carte1.valeur==carte2.valeur and carte1.couleur<carte2.couleur):\n",
    "        return -1 \n",
    "    else:\n",
    "        return +1\n",
    "\n",
    "#correction cours:\n",
    "\n",
    "\"\"\"def plusGrandQue(carte1, carte2):\n",
    "        print(\"La carte du joueur 1 est\", carte1, \"La carte du joueur 2 est\", carte2)\n",
    "        # On compare les attributs de la classe carte\n",
    "        return carte1.valeur > carte2.valeur or (\n",
    "                carte1.valeur == carte2.valeur and carte1.couleur > carte2.couleur)\"\"\"\n",
    "\n",
    "\n",
    "\n",
    "    \n",
    "def piocher(paquet_,nombredeTours, list_joueurs):\n",
    "    \n",
    "    joueurs={i:j for (i,j) in zip(list_joueurs , [ [] for v in range(2) ] ) }\n",
    "    for i in range(nombredeTours):\n",
    "        for joueur in list_joueurs:\n",
    "            carte_t=paquet_[random.randrange(len(paquet_)) ]\n",
    "            joueurs[joueur].append( carte_t )\n",
    "            paquet_.remove(carte_t)\n",
    "\n",
    "    return joueurs\n",
    "\n",
    "# correction du cours\n",
    "\"\"\"def piocher(paquet, nombredeTours): \n",
    "    main1=[]\n",
    "    main2=[]\n",
    "    for i in range (nb_tours):\n",
    "    \n",
    "    x= paquet[ random.randrange(len(paquet)) ] \n",
    "    main1.append(x) \n",
    "    paquet.remove(x)\n",
    "    y=paquet[random.randrange(len(paquet))]\n",
    "    main2.append(y) \n",
    "    paquet.remove(y)\"\"\"\n",
    "\n"
   ]
  },
  {
   "cell_type": "code",
   "execution_count": 32,
   "metadata": {},
   "outputs": [
    {
     "name": "stdout",
     "output_type": "stream",
     "text": [
      "1 1\n",
      "2 1\n",
      "1 -1\n",
      "0 -1\n",
      "1 1\n",
      "0 -1\n",
      "-1 -1\n",
      "0 1\n",
      "-1 -1\n"
     ]
    },
    {
     "data": {
      "text/plain": [
       "'vainqueur : main2, score: -1, défaite: main1, score: -10'"
      ]
     },
     "execution_count": 32,
     "metadata": {},
     "output_type": "execute_result"
    }
   ],
   "source": [
    "class partie:\n",
    "    \n",
    "    def __init__(self,nombres_valeur, nombres_couleur, nombres_tour, list_joueurs):\n",
    "        self.nombres_valeur=[i for i in range(1,nombres_valeur+1)]\n",
    "        self.nombres_couleur= [j for j in range(1,nombres_couleur+1)]\n",
    "        self.nombres_tour=nombres_tour\n",
    "        self.list_joueurs=list_joueurs\n",
    "        self.paquet=[carte (v,c) for v in self.nombres_valeur for c in self.nombres_couleur]\n",
    "    \n",
    "    def __len__(self):\n",
    "        return self\n",
    "      \n",
    "    \n",
    "    def jouer(self):\n",
    "        mains=piocher(self.paquet, self.nombres_tour, self.list_joueurs )\n",
    "        #scores={ j:i for (j,i) in zip(self.list_joueurs, [ [] for v in range (len(list_joueurs) )]   ) }\n",
    "        \n",
    "        score=0\n",
    "        #for joueur in scores.keys():   # ici on va comparer l'ensemble des valeurs des cartes tirés en additionnant les 2 valeurs\n",
    "        #pour chaque joueur et en extraire le maximum , pour lequel le joueur cconcerné aura un point\n",
    "        \n",
    "        for tour in range(self.nombres_tour):\n",
    "                score+= plusGrandQue(mains[self.list_joueurs[0]][tour], mains[self.list_joueurs[1]][tour])\n",
    "                print(score, plusGrandQue(mains[self.list_joueurs[0]][tour], mains[self.list_joueurs[1]][tour]))\n",
    "        if score>=round(self.nombres_tour/2+0.1):\n",
    "             return 'vainqueur : %s, score: %s, défaite: %s, score: %s' %(self.list_joueurs[0], score,self.list_joueurs[1], -(self.nombres_tour-score))  \n",
    "        else:\n",
    "             return  'vainqueur : %s, score: %s, défaite: %s, score: %s' %(self.list_joueurs[1], score,self.list_joueurs[0], -(self.nombres_tour-score))\n",
    "     \n",
    "        \n",
    "    def __str__(self):\n",
    "        return self\n",
    "        \n",
    "        \n",
    " \n",
    "            \n",
    "            #tournée=[SUM(mains[j][i]) for j in mains.key()]     idéale pour plus de 2 joueurs\n",
    "            \n",
    "\n",
    "x=partie(5, 6, 9, ['main1','main2'])\n",
    "x.jouer()\n",
    "#x=partie(4,2,3).paquet() \n",
    "\n"
   ]
  },
  {
   "cell_type": "code",
   "execution_count": null,
   "metadata": {},
   "outputs": [],
   "source": []
  },
  {
   "cell_type": "code",
   "execution_count": 33,
   "metadata": {},
   "outputs": [
    {
     "data": {
      "text/plain": [
       "['a']"
      ]
     },
     "execution_count": 33,
     "metadata": {},
     "output_type": "execute_result"
    }
   ],
   "source": [
    "dict_={i:j for (i,j) in zip(['main1','main2'],[[] for v in range(2) ] ) }\n",
    "dict_['main1'].append('a')\n",
    "dict_['main1']"
   ]
  },
  {
   "cell_type": "code",
   "execution_count": 34,
   "metadata": {},
   "outputs": [],
   "source": [
    "x={'martine': [1,2,3,5],'josiane':[1,2,8,9]}\n",
    "x['martine'].append(1)\n"
   ]
  },
  {
   "cell_type": "code",
   "execution_count": 35,
   "metadata": {},
   "outputs": [
    {
     "name": "stdout",
     "output_type": "stream",
     "text": [
      "4\n"
     ]
    }
   ],
   "source": [
    "print(round(4.5))"
   ]
  },
  {
   "cell_type": "code",
   "execution_count": 36,
   "metadata": {},
   "outputs": [
    {
     "name": "stdout",
     "output_type": "stream",
     "text": [
      "(1, 1)\n"
     ]
    }
   ],
   "source": [
    "x=piocher([(v,c) for v in range(0,6) for c in range(0,7)], 4, ['main1','main2'])\n",
    "print(x['main2'][1])\n"
   ]
  },
  {
   "cell_type": "code",
   "execution_count": null,
   "metadata": {},
   "outputs": [],
   "source": []
  },
  {
   "cell_type": "code",
   "execution_count": null,
   "metadata": {},
   "outputs": [],
   "source": []
  }
 ],
 "metadata": {
  "kernelspec": {
   "display_name": "Python 3",
   "language": "python",
   "name": "python3"
  },
  "language_info": {
   "codemirror_mode": {
    "name": "ipython",
    "version": 3
   },
   "file_extension": ".py",
   "mimetype": "text/x-python",
   "name": "python",
   "nbconvert_exporter": "python",
   "pygments_lexer": "ipython3",
   "version": "3.8.3"
  }
 },
 "nbformat": 4,
 "nbformat_minor": 4
}
