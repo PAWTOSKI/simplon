{
 "cells": [
  {
   "cell_type": "code",
   "execution_count": 2,
   "id": "93a1963f",
   "metadata": {},
   "outputs": [],
   "source": [
    "import numpy as np\n",
    "path='C:\\\\Users\\\\Patosky\\\\Documents\\\\cours_simplon\\\\developpeur_data_ia\\\\13.04.21\\\\world_alcohol.txt'\n",
    "world_alcohol=np.genfromtxt(path, delimiter=\",\" , dtype=\"U75\", skip_header=1)"
   ]
  },
  {
   "cell_type": "code",
   "execution_count": 3,
   "id": "db9d1028",
   "metadata": {},
   "outputs": [],
   "source": []
  },
  {
   "cell_type": "code",
   "execution_count": 36,
   "id": "7885d32f",
   "metadata": {},
   "outputs": [
    {
     "name": "stdout",
     "output_type": "stream",
     "text": [
      "[['1984' 'Americas' 'Canada' 'Spirits' '3.35']\n",
      " ['1989' 'Americas' 'Canada' 'Wine' '1.27']\n",
      " ['1984' 'Americas' 'Canada' 'Beer' '5']\n",
      " ['1985' 'Americas' 'Canada' 'Beer' '4.94']\n",
      " ['1987' 'Americas' 'Canada' 'Wine' '1.3']\n",
      " ['1987' 'Americas' 'Canada' 'Beer' '4.83']\n",
      " ['1986' 'Americas' 'Canada' 'Other' '']\n",
      " ['1986' 'Americas' 'Canada' 'Spirits' '3.11']\n",
      " ['1985' 'Americas' 'Canada' 'Spirits' '3.21']\n",
      " ['1985' 'Americas' 'Canada' 'Other' '']\n",
      " ['1986' 'Americas' 'Canada' 'Beer' '4.87']\n",
      " ['1984' 'Americas' 'Canada' 'Wine' '1.24']\n",
      " ['1989' 'Americas' 'Canada' 'Spirits' '2.91']\n",
      " ['1984' 'Americas' 'Canada' 'Other' '']\n",
      " ['1985' 'Americas' 'Canada' 'Wine' '1.29']\n",
      " ['1987' 'Americas' 'Canada' 'Spirits' '2.99']\n",
      " ['1989' 'Americas' 'Canada' 'Beer' '4.82']\n",
      " ['1989' 'Americas' 'Canada' 'Other' '']\n",
      " ['1986' 'Americas' 'Canada' 'Wine' '1.33']\n",
      " ['1987' 'Americas' 'Canada' 'Other' '']]\n"
     ]
    }
   ],
   "source": [
    "countries_canada=world_alcohol[world_alcohol[:,2]==\"Canada\"]\n",
    "print(countries_canada)"
   ]
  },
  {
   "cell_type": "code",
   "execution_count": 37,
   "id": "28ea758a",
   "metadata": {},
   "outputs": [
    {
     "name": "stdout",
     "output_type": "stream",
     "text": [
      "[['1984' 'Africa' 'Algeria' 'Spirits' '0.01']\n",
      " ['1987' 'Africa' 'Algeria' 'Beer' '0.17']\n",
      " ['1987' 'Africa' 'Algeria' 'Spirits' '0.01']\n",
      " ['1986' 'Africa' 'Algeria' 'Wine' '0.1']\n",
      " ['1984' 'Africa' 'Algeria' 'Other' '0']\n",
      " ['1989' 'Africa' 'Algeria' 'Beer' '0.16']\n",
      " ['1989' 'Africa' 'Algeria' 'Spirits' '0.01']\n",
      " ['1989' 'Africa' 'Algeria' 'Wine' '0.23']\n",
      " ['1986' 'Africa' 'Algeria' 'Spirits' '0.01']\n",
      " ['1984' 'Africa' 'Algeria' 'Wine' '0.12']\n",
      " ['1985' 'Africa' 'Algeria' 'Beer' '0.19']\n",
      " ['1985' 'Africa' 'Algeria' 'Other' '0']\n",
      " ['1986' 'Africa' 'Algeria' 'Beer' '0.18']\n",
      " ['1985' 'Africa' 'Algeria' 'Wine' '0.11']\n",
      " ['1986' 'Africa' 'Algeria' 'Other' '0']\n",
      " ['1989' 'Africa' 'Algeria' 'Other' '0']\n",
      " ['1987' 'Africa' 'Algeria' 'Other' '0']\n",
      " ['1984' 'Africa' 'Algeria' 'Beer' '0.2']\n",
      " ['1985' 'Africa' 'Algeria' 'Spirits' '0.01']\n",
      " ['1987' 'Africa' 'Algeria' 'Wine' '0.1']]\n"
     ]
    }
   ],
   "source": [
    "countries_algerie=world_alcohol[world_alcohol[:,2]==\"Algeria\"]\n",
    "print(countries_algerie)"
   ]
  },
  {
   "cell_type": "code",
   "execution_count": 38,
   "id": "4e38443b",
   "metadata": {},
   "outputs": [
    {
     "name": "stdout",
     "output_type": "stream",
     "text": [
      "(646, 5)\n"
     ]
    }
   ],
   "source": [
    "countries_1984=world_alcohol[world_alcohol[:,0]=='1984']\n",
    "print(countries_1984.shape)"
   ]
  },
  {
   "cell_type": "code",
   "execution_count": 39,
   "id": "f8b8dce1",
   "metadata": {},
   "outputs": [
    {
     "data": {
      "text/plain": [
       "array([['1984', 'Africa', 'Algeria', 'Spirits', '0.01'],\n",
       "       ['1984', 'Africa', 'Algeria', 'Other', '0'],\n",
       "       ['1984', 'Africa', 'Algeria', 'Wine', '0.12'],\n",
       "       ['1984', 'Africa', 'Algeria', 'Beer', '0.2']], dtype='<U75')"
      ]
     },
     "execution_count": 39,
     "metadata": {},
     "output_type": "execute_result"
    }
   ],
   "source": [
    "mask=(world_alcohol[:,0]=='1984') & (world_alcohol[:,2]==\"Algeria\")\n",
    "countries_1984_Algerie=world_alcohol[mask]\n",
    "countries_1984_Algerie"
   ]
  },
  {
   "cell_type": "code",
   "execution_count": 40,
   "id": "b6afc8af",
   "metadata": {},
   "outputs": [
    {
     "name": "stdout",
     "output_type": "stream",
     "text": [
      "[['1984' 'Americas' 'Canada' 'Spirits' '3.35']\n",
      " ['1984' 'Africa' 'Algeria' 'Spirits' '0.01']\n",
      " ['1987' 'Africa' 'Algeria' 'Beer' '0.17']\n",
      " ['1987' 'Africa' 'Algeria' 'Spirits' '0.01']\n",
      " ['1986' 'Africa' 'Algeria' 'Wine' '0.1']\n",
      " ['1989' 'Americas' 'Canada' 'Wine' '1.27']\n",
      " ['1984' 'Americas' 'Canada' 'Beer' '5']\n",
      " ['1985' 'Americas' 'Canada' 'Beer' '4.94']\n",
      " ['1987' 'Americas' 'Canada' 'Wine' '1.3']\n",
      " ['1984' 'Africa' 'Algeria' 'Other' '0']\n",
      " ['1989' 'Africa' 'Algeria' 'Beer' '0.16']\n",
      " ['1989' 'Africa' 'Algeria' 'Spirits' '0.01']\n",
      " ['1989' 'Africa' 'Algeria' 'Wine' '0.23']\n",
      " ['1987' 'Americas' 'Canada' 'Beer' '4.83']\n",
      " ['1986' 'Africa' 'Algeria' 'Spirits' '0.01']\n",
      " ['1984' 'Africa' 'Algeria' 'Wine' '0.12']\n",
      " ['1986' 'Americas' 'Canada' 'Other' '']\n",
      " ['1985' 'Africa' 'Algeria' 'Beer' '0.19']\n",
      " ['1986' 'Americas' 'Canada' 'Spirits' '3.11']\n",
      " ['1985' 'Africa' 'Algeria' 'Other' '0']\n",
      " ['1985' 'Americas' 'Canada' 'Spirits' '3.21']\n",
      " ['1985' 'Americas' 'Canada' 'Other' '']\n",
      " ['1986' 'Americas' 'Canada' 'Beer' '4.87']\n",
      " ['1986' 'Africa' 'Algeria' 'Beer' '0.18']\n",
      " ['1985' 'Africa' 'Algeria' 'Wine' '0.11']\n",
      " ['1984' 'Americas' 'Canada' 'Wine' '1.24']\n",
      " ['1986' 'Africa' 'Algeria' 'Other' '0']\n",
      " ['1989' 'Africa' 'Algeria' 'Other' '0']\n",
      " ['1987' 'Africa' 'Algeria' 'Other' '0']\n",
      " ['1989' 'Americas' 'Canada' 'Spirits' '2.91']\n",
      " ['1984' 'Africa' 'Algeria' 'Beer' '0.2']\n",
      " ['1985' 'Africa' 'Algeria' 'Spirits' '0.01']\n",
      " ['1987' 'Africa' 'Algeria' 'Wine' '0.1']\n",
      " ['1984' 'Americas' 'Canada' 'Other' '']\n",
      " ['1985' 'Americas' 'Canada' 'Wine' '1.29']\n",
      " ['1987' 'Americas' 'Canada' 'Spirits' '2.99']\n",
      " ['1989' 'Americas' 'Canada' 'Beer' '4.82']\n",
      " ['1989' 'Americas' 'Canada' 'Other' '']\n",
      " ['1986' 'Americas' 'Canada' 'Wine' '1.33']\n",
      " ['1987' 'Americas' 'Canada' 'Other' '']]\n"
     ]
    }
   ],
   "source": [
    "mask=(world_alcohol[:,2]=='Canada') | (world_alcohol[:,2]==\"Algeria\")\n",
    "countries_Algerie_Canada=world_alcohol[mask]\n",
    "print(countries_Algerie_Canada)"
   ]
  },
  {
   "cell_type": "code",
   "execution_count": 52,
   "id": "fdd6683f",
   "metadata": {},
   "outputs": [],
   "source": [
    "world_alcohol_2=world_alcohol.copy()"
   ]
  },
  {
   "cell_type": "code",
   "execution_count": 53,
   "id": "718a374f",
   "metadata": {},
   "outputs": [],
   "source": [
    "#world_alcohol_2[:,0][world_alcohol_2[:,0=='1986']]"
   ]
  },
  {
   "cell_type": "code",
   "execution_count": 55,
   "id": "878a5db8",
   "metadata": {},
   "outputs": [
    {
     "data": {
      "text/plain": [
       "array(['1986', '1986', '1985', ..., '1986', '1990', '1986'], dtype='<U75')"
      ]
     },
     "execution_count": 55,
     "metadata": {},
     "output_type": "execute_result"
    }
   ],
   "source": [
    "mask=(world_alcohol_2[:,0]=='1987')\n",
    "world_alcohol_2[:,0][mask]='1990'\n",
    "world_alcohol_2[:,0]"
   ]
  },
  {
   "cell_type": "code",
   "execution_count": 57,
   "id": "534f8d97",
   "metadata": {},
   "outputs": [
    {
     "data": {
      "text/plain": [
       "array(['Beer', 'Other', 'Beer', ..., 'Spirits', 'Other', 'Other'],\n",
       "      dtype='<U75')"
      ]
     },
     "execution_count": 57,
     "metadata": {},
     "output_type": "execute_result"
    }
   ],
   "source": [
    "mask=(world_alcohol_2[:,3]=='Wine')\n",
    "world_alcohol_2[:,3][mask]='Beer'\n",
    "world_alcohol_2[:,3]"
   ]
  },
  {
   "cell_type": "code",
   "execution_count": 65,
   "id": "a0baf7b8",
   "metadata": {},
   "outputs": [
    {
     "data": {
      "text/plain": [
       "array(['0', '0', '0', '0', '0', '0', '0', '0', '0', '0', '0', '0', '0',\n",
       "       '0', '0', '0', '0', '0', '0', '0', '0', '0', '0', '0', '0', '0',\n",
       "       '0', '0', '0', '0', '0', '0', '0', '0', '0', '0', '0', '0', '0',\n",
       "       '0', '0', '0', '0', '0', '0', '0', '0', '0', '0', '0', '0', '0',\n",
       "       '0', '0', '0', '0', '0', '0', '0', '0', '0', '0', '0', '0', '0',\n",
       "       '0', '0', '0', '0', '0', '0', '0', '0', '0', '0', '0', '0', '0',\n",
       "       '0', '0', '0', '0', '0', '0', '0', '0', '0', '0', '0', '0', '0',\n",
       "       '0', '0', '0', '0', '0', '0', '0', '0', '0', '0', '0', '0', '0',\n",
       "       '0', '0', '0', '0', '0', '0', '0', '0', '0', '0', '0', '0', '0',\n",
       "       '0', '0', '0', '0', '0', '0', '0', '0', '0', '0', '0', '0', '0',\n",
       "       '0', '0', '0', '0', '0', '0', '0', '0', '0', '0', '0', '0', '0',\n",
       "       '0', '0', '0', '0', '0', '0', '0', '0', '0', '0', '0', '0', '0',\n",
       "       '0', '0', '0', '0', '0', '0', '0', '0', '0', '0', '0', '0', '0',\n",
       "       '0', '0', '0', '0', '0', '0', '0', '0', '0', '0', '0', '0', '0',\n",
       "       '0', '0', '0', '0', '0', '0', '0', '0', '0', '0', '0', '0', '0',\n",
       "       '0', '0', '0', '0', '0', '0', '0', '0', '0', '0', '0', '0', '0',\n",
       "       '0', '0', '0', '0', '0', '0', '0', '0', '0', '0', '0', '0', '0',\n",
       "       '0'], dtype='<U75')"
      ]
     },
     "execution_count": 65,
     "metadata": {},
     "output_type": "execute_result"
    }
   ],
   "source": [
    "#remplacer les chaines de caractère vides\n",
    "\n",
    "mask=(world_alcohol[:,4]=='')\n",
    "world_alcohol[:,4][mask]='0'\n",
    "world_alcohol[:,4][mask]"
   ]
  },
  {
   "cell_type": "code",
   "execution_count": 66,
   "id": "bef2944d",
   "metadata": {},
   "outputs": [
    {
     "data": {
      "text/plain": [
       "array([0.  , 0.5 , 1.62, ..., 2.54, 0.  , 5.15])"
      ]
     },
     "execution_count": 66,
     "metadata": {},
     "output_type": "execute_result"
    }
   ],
   "source": [
    "#convertir des types de données\n",
    "\n",
    "alcohol_consumption=world_alcohol[:,4]\n",
    "alcohol_consumption=alcohol_consumption.astype(float)\n",
    "alcohol_consumption"
   ]
  },
  {
   "cell_type": "code",
   "execution_count": 67,
   "id": "44005e02",
   "metadata": {},
   "outputs": [
    {
     "name": "stdout",
     "output_type": "stream",
     "text": [
      "3908.96 1.2001719373656738\n"
     ]
    }
   ],
   "source": [
    "# calcul de la somme et de la moyenne\n",
    "\n",
    "total_alcohol=alcohol_consumption.sum()\n",
    "average_alcohol=alcohol_consumption.mean()\n",
    "print(total_alcohol, average_alcohol )"
   ]
  },
  {
   "cell_type": "code",
   "execution_count": 71,
   "id": "3a0a5e9e",
   "metadata": {},
   "outputs": [
    {
     "name": "stdout",
     "output_type": "stream",
     "text": [
      "2.2800000000000002 9.120000000000001\n"
     ]
    }
   ],
   "source": [
    "mask=(world_alcohol[:,2]=='Canada') & (world_alcohol[:,0]=='1987')\n",
    "mean1=world_alcohol[:,4][mask].astype('float').mean()\n",
    "sum1=world_alcohol[:,4][mask].astype('float').sum()\n",
    "\n",
    "print(mean1, sum1)"
   ]
  },
  {
   "cell_type": "code",
   "execution_count": 74,
   "id": "f54803a4",
   "metadata": {},
   "outputs": [
    {
     "name": "stdout",
     "output_type": "stream",
     "text": [
      "2.0001290322580645 310.02\n"
     ]
    }
   ],
   "source": [
    "#question: trouver la consommation moyenne et la somme totale pour la bière,\n",
    "#sur le continent américain?\n",
    "\n",
    "mask=(world_alcohol[:,1]=='Americas') & (world_alcohol[:,3]=='Beer')\n",
    "mean1=world_alcohol[:,4][mask].astype('float').mean()\n",
    "sum1=world_alcohol[:,4][mask].astype('float').sum()\n",
    "print(mean1, sum1)"
   ]
  },
  {
   "cell_type": "markdown",
   "id": "82ba63e2",
   "metadata": {},
   "source": [
    "question: calculer la consommation en boissons alcoolisés tout confondus, pour chaque pays\n",
    "\n",
    "Tout d'abord, on crée un dictionnaire vide qui va contenir tous les pays et leurs consommations \n",
    "d'alcool associées, on le nommera totals.\n",
    "Sélectionner ensuite les lignes de world_alcohol correspondant à l'année donnée, disons 1989. \n",
    "Assigner le résultat à la variable year.Sélectionner dans une liste qu'on nommera countries tous \n",
    "les pays.\n",
    "\n",
    "- Parcourir tous les pays de la liste à l'aide d'une boucle. Pour chaque pays:\n",
    ">- Sélectionner les lignes de year correpondant à ce pays\n",
    ">- Assigner le résultat à la variable country_consumption\n",
    ">- Extraire la 5e colonne de country_consumption\n",
    ">- Remplacer toute chaine de caractère vide dans cette colonne par 0\n",
    ">- Convertir la colonne en décimal (float)\n",
    ">- Calculer la somme de la colonne\n",
    "- Ajouter la somme au dictionnaire totals, avec comme clé le nom du pays et en valeur cette somme.\n",
    "Afficher le dictionnaire totals."
   ]
  },
  {
   "cell_type": "code",
   "execution_count": null,
   "id": "5333af92",
   "metadata": {},
   "outputs": [],
   "source": [
    "for i in world_alcohol[:,2]\n",
    "mask\n",
    "tableau1=world_alcohol[:,4][mask].astype('float').sum(axis=1)"
   ]
  },
  {
   "cell_type": "code",
   "execution_count": 91,
   "id": "85816d90",
   "metadata": {},
   "outputs": [
    {
     "data": {
      "text/plain": [
       "array([['1986', 'Western Pacific', 'Viet Nam', 'Wine', '0'],\n",
       "       ['1987', 'Americas', 'Guatemala', 'Other', '0'],\n",
       "       ['1985', 'Western Pacific', \"Lao People's Democratic Republic\",\n",
       "        'Beer', '0'],\n",
       "       ...,\n",
       "       ['1986', 'Eastern Mediterranean', 'United Arab Emirates', 'Other',\n",
       "        '0'],\n",
       "       ['1989', 'Europe', 'Turkey', 'Other', '0'],\n",
       "       ['1987', 'Western Pacific', 'Papua New Guinea', 'Other', '0']],\n",
       "      dtype='<U75')"
      ]
     },
     "execution_count": 91,
     "metadata": {},
     "output_type": "execute_result"
    }
   ],
   "source": [
    "world_alcohol[:,:][world_alcohol[:,4]=='0']"
   ]
  },
  {
   "cell_type": "code",
   "execution_count": 26,
   "id": "0c7d416f",
   "metadata": {},
   "outputs": [
    {
     "data": {
      "text/plain": [
       "{'Afghanistan': 0.0,\n",
       " 'Albania': nan,\n",
       " 'Algeria': 0.4,\n",
       " 'Angola': 2.28,\n",
       " 'Antigua and Barbuda': 4.69,\n",
       " 'Argentina': 10.82,\n",
       " 'Australia': 12.09,\n",
       " 'Austria': nan,\n",
       " 'Bahamas': 12.290000000000001,\n",
       " 'Bahrain': 4.89,\n",
       " 'Bangladesh': 0.0,\n",
       " 'Belarus': 7.9799999999999995,\n",
       " 'Belgium': 11.61,\n",
       " 'Belize': nan,\n",
       " 'Benin': 1.3800000000000001,\n",
       " 'Bhutan': nan,\n",
       " 'Bolivia (Plurinational State of)': 3.05,\n",
       " 'Botswana': 4.63,\n",
       " 'Brazil': 5.52,\n",
       " 'Brunei Darussalam': 2.7800000000000002,\n",
       " 'Bulgaria': 11.43,\n",
       " 'Burkina Faso': 3.99,\n",
       " 'Burundi': 8.159999999999998,\n",
       " 'Cabo Verde': nan,\n",
       " 'Cambodia': nan,\n",
       " 'Cameroon': 6.359999999999999,\n",
       " 'Canada': nan,\n",
       " 'Central African Republic': 2.5199999999999996,\n",
       " 'Chad': 0.30000000000000004,\n",
       " 'Chile': 8.649999999999999,\n",
       " 'China': 3.33,\n",
       " 'Colombia': 6.960000000000001,\n",
       " 'Comoros': nan,\n",
       " 'Congo': 3.1500000000000004,\n",
       " 'Costa Rica': 5.3999999999999995,\n",
       " 'Croatia': 10.92,\n",
       " \"Cte d'Ivoire\": 2.2,\n",
       " 'Cuba': nan,\n",
       " 'Cyprus': 9.29,\n",
       " 'Czech Republic': nan,\n",
       " \"Democratic People's Republic of Korea\": nan,\n",
       " 'Democratic Republic of the Congo': 1.92,\n",
       " 'Denmark': nan,\n",
       " 'Djibouti': 0.87,\n",
       " 'Dominican Republic': 4.53,\n",
       " 'Ecuador': 2.54,\n",
       " 'Egypt': nan,\n",
       " 'El Salvador': nan,\n",
       " 'Equatorial Guinea': 6.49,\n",
       " 'Eritrea': 0.29,\n",
       " 'Ethiopia': 0.8600000000000001,\n",
       " 'Fiji': nan,\n",
       " 'Finland': 9.419999999999998,\n",
       " 'France': 16.05,\n",
       " 'Gabon': nan,\n",
       " 'Gambia': 1.6300000000000001,\n",
       " 'Germany': nan,\n",
       " 'Ghana': 1.8599999999999999,\n",
       " 'Greece': 10.15,\n",
       " 'Guatemala': 2.47,\n",
       " 'Guinea': nan,\n",
       " 'Guinea-Bissau': 2.67,\n",
       " 'Guyana': 9.940000000000001,\n",
       " 'Haiti': 5.81,\n",
       " 'Honduras': nan,\n",
       " 'Hungary': nan,\n",
       " 'Iceland': 5.359999999999999,\n",
       " 'India': 1.66,\n",
       " 'Indonesia': nan,\n",
       " 'Iran (Islamic Republic of)': 0.0,\n",
       " 'Iraq': 0.75,\n",
       " 'Ireland': 11.79,\n",
       " 'Israel': 2.0300000000000002,\n",
       " 'Italy': nan,\n",
       " 'Jamaica': 3.03,\n",
       " 'Japan': 7.74,\n",
       " 'Jordan': nan,\n",
       " 'Kenya': 2.82,\n",
       " 'Kiribati': 0.48,\n",
       " 'Kuwait': nan,\n",
       " 'Kyrgyzstan': 4.279999999999999,\n",
       " \"Lao People's Democratic Republic\": nan,\n",
       " 'Latvia': 7.039999999999999,\n",
       " 'Lebanon': 3.94,\n",
       " 'Lesotho': 2.02,\n",
       " 'Liberia': nan,\n",
       " 'Libya': 0.0,\n",
       " 'Lithuania': nan,\n",
       " 'Luxembourg': nan,\n",
       " 'Madagascar': nan,\n",
       " 'Malawi': 1.02,\n",
       " 'Malaysia': nan,\n",
       " 'Mali': 0.6699999999999999,\n",
       " 'Malta': 7.13,\n",
       " 'Mauritania': 0.02,\n",
       " 'Mauritius': 3.54,\n",
       " 'Mexico': 5.1,\n",
       " 'Micronesia (Federated States of)': 0.0,\n",
       " 'Mongolia': 2.59,\n",
       " 'Morocco': 0.7,\n",
       " 'Mozambique': 0.39,\n",
       " 'Myanmar': 0.16,\n",
       " 'Namibia': 0.24,\n",
       " 'Nepal': 0.03,\n",
       " 'Netherlands': 10.030000000000001,\n",
       " 'New Zealand': 11.52,\n",
       " 'Nicaragua': 2.5,\n",
       " 'Niger': 0.11,\n",
       " 'Nigeria': 6.74,\n",
       " 'Norway': 5.08,\n",
       " 'Oman': 1.03,\n",
       " 'Pakistan': 0.02,\n",
       " 'Panama': 4.6000000000000005,\n",
       " 'Papua New Guinea': 1.1099999999999999,\n",
       " 'Paraguay': 6.51,\n",
       " 'Peru': 4.99,\n",
       " 'Philippines': 3.78,\n",
       " 'Poland': nan,\n",
       " 'Portugal': 15.350000000000001,\n",
       " 'Qatar': 1.4500000000000002,\n",
       " 'Republic of Korea': 9.620000000000001,\n",
       " 'Romania': nan,\n",
       " 'Russian Federation': 5.35,\n",
       " 'Rwanda': 7.549999999999999,\n",
       " 'Saint Kitts and Nevis': 4.65,\n",
       " 'Saint Lucia': 11.62,\n",
       " 'Samoa': 2.63,\n",
       " 'Sao Tome and Principe': 2.57,\n",
       " 'Saudi Arabia': 0.15,\n",
       " 'Senegal': 0.6100000000000001,\n",
       " 'Seychelles': 3.3000000000000003,\n",
       " 'Sierra Leone': 4.380000000000001,\n",
       " 'Singapore': 1.61,\n",
       " 'Slovakia': 12.700000000000001,\n",
       " 'Slovenia': 12.969999999999999,\n",
       " 'Solomon Islands': 0.5800000000000001,\n",
       " 'Somalia': 0.0,\n",
       " 'South Africa': 9.21,\n",
       " 'Spain': 13.280000000000001,\n",
       " 'Sri Lanka': 0.14,\n",
       " 'Sudan': 0.15,\n",
       " 'Suriname': 3.67,\n",
       " 'Swaziland': 6.68,\n",
       " 'Sweden': 7.47,\n",
       " 'Switzerland': 13.849999999999998,\n",
       " 'Syrian Arab Republic': 0.54,\n",
       " 'Thailand': 3.92,\n",
       " 'Togo': 2.2199999999999998,\n",
       " 'Trinidad and Tobago': 4.68,\n",
       " 'Tunisia': 0.95,\n",
       " 'Turkey': 0.72,\n",
       " 'Uganda': 7.8,\n",
       " 'Ukraine': nan,\n",
       " 'United Arab Emirates': 4.43,\n",
       " 'United Kingdom of Great Britain and Northern Ireland': 9.99,\n",
       " 'United Republic of Tanzania': 5.9,\n",
       " 'United States of America': nan,\n",
       " 'Uruguay': 7.4399999999999995,\n",
       " 'Vanuatu': nan,\n",
       " 'Venezuela (Bolivarian Republic of)': nan,\n",
       " 'Viet Nam': nan,\n",
       " 'Yemen': nan,\n",
       " 'Zambia': 3.37,\n",
       " 'Zimbabwe': 4.92}"
      ]
     },
     "execution_count": 26,
     "metadata": {},
     "output_type": "execute_result"
    }
   ],
   "source": [
    "dict_={}\n",
    "for country in np.unique(world_alcohol[:,2]):\n",
    "    mask=(world_alcohol[:,2]==country) & (world_alcohol[:,0]=='1989')\n",
    "    temp_=world_alcohol[:,4][mask].reshape(-1,1)\n",
    "    temp_[:,:][temp_[:,:]=='']=np.nan\n",
    "\n",
    "    dict_[country]=temp_.astype('float').sum()\n",
    "    \n",
    "dict_\n",
    "#{'Guatemala': 2.47, 'Seychelles': 3.3000000000000003, 'Costa Rica': 5.3999999999999995, 'Mauritius': 3.54, 'Zimbabwe': 4.92, 'Suriname': 3.67, 'Croatia': 10.92,"
   ]
  },
  {
   "cell_type": "markdown",
   "id": "2dea330d",
   "metadata": {},
   "source": [
    "Trouver le pays qui consomme le plus d'alcool.\n",
    "\n",
    " - Créer une variable Trouver le pays qui consomme le plus d'alcool.\n",
    "\n",
    "- Créer une variable highest_value qui gardera en mémoire la plus grande valeur du dictionnaire totals. On la fixe à 0 pour commencer.\n",
    "- Créer une variable similaire qu'on nommera highest_key qui gardera en mémoire le nom du pays associé à la plus grande valeur. On la fixe à la valeur None.\n",
    "- Parcourir chaque pays du dictionnaire totals:\n",
    ">- Si la valeur associée au pays est plus grande que highest_value, assigner la valeur en question à la variable highest_value et assigner la clé correspondante (nom du pays) à la variable highest_key.\n",
    "- Afficher le pays qui consomme le plus d'alcool (variable highest_key)\n",
    "\n",
    "\n",
    "Puis ensuite créer une fonction qui aura pour argument d'entré une année et retournera le dictionnaire contenant la consommation moyenne pour chaque pays. qui gardera en mémoire la plus grande valeur \n",
    "du dictionnaire totals. On la fixe à 0 pour commencer."
   ]
  },
  {
   "cell_type": "code",
   "execution_count": 58,
   "id": "cbfea2bd",
   "metadata": {},
   "outputs": [
    {
     "name": "stdout",
     "output_type": "stream",
     "text": [
      "{'Afghanistan': 0.0, 'Bangladesh': 0.0, 'Belize': 0.0, 'Iran (Islamic Republic of)': 0.0, 'Kuwait': 0.0, 'Libya': 0.0, 'Lithuania': 0.0, 'Micronesia (Federated States of)': 0.0, 'Somalia': 0.0, 'Mauritania': 0.02, 'Pakistan': 0.02, 'Nepal': 0.03, 'Indonesia': 0.07, 'Comoros': 0.10999999999999999, 'Niger': 0.11, 'Sri Lanka': 0.14, 'Saudi Arabia': 0.15, 'Sudan': 0.15, 'Myanmar': 0.16, 'Viet Nam': 0.16, 'Jordan': 0.19, 'Yemen': 0.2, 'Guinea': 0.21, 'Namibia': 0.24, 'Eritrea': 0.29, 'Chad': 0.30000000000000004, 'Bhutan': 0.31, 'Cambodia': 0.33, 'Mozambique': 0.39, 'Algeria': 0.4, 'Egypt': 0.42000000000000004, 'Kiribati': 0.48, 'Syrian Arab Republic': 0.54, 'Solomon Islands': 0.5800000000000001, 'Senegal': 0.6100000000000001, 'Mali': 0.6699999999999999, 'Malaysia': 0.68, 'Morocco': 0.7, 'Turkey': 0.72, 'Iraq': 0.75, 'Ethiopia': 0.8600000000000001, 'Djibouti': 0.87, 'Tunisia': 0.95, 'Malawi': 1.02, 'Oman': 1.03, 'Papua New Guinea': 1.1099999999999999, 'Madagascar': 1.38, 'Benin': 1.3800000000000001, 'Qatar': 1.4500000000000002, 'Singapore': 1.61, 'Gambia': 1.6300000000000001, 'India': 1.66, 'Albania': 1.73, 'Vanuatu': 1.74, 'El Salvador': 1.77, 'Ghana': 1.8599999999999999, 'Democratic Republic of the Congo': 1.92, 'Fiji': 1.9600000000000002, 'Lesotho': 2.02, 'Israel': 2.0300000000000002, 'Honduras': 2.15, \"Cte d'Ivoire\": 2.2, 'Togo': 2.2199999999999998, 'Angola': 2.28, 'Guatemala': 2.47, 'Nicaragua': 2.5, 'Central African Republic': 2.5199999999999996, 'Ecuador': 2.54, 'Sao Tome and Principe': 2.57, 'Mongolia': 2.59, 'Samoa': 2.63, 'Guinea-Bissau': 2.67, 'Brunei Darussalam': 2.7800000000000002, 'Cabo Verde': 2.79, 'Kenya': 2.82, 'Jamaica': 3.03, 'Bolivia (Plurinational State of)': 3.05, 'Congo': 3.1500000000000004, 'Seychelles': 3.3000000000000003, 'China': 3.33, 'Zambia': 3.37, 'Mauritius': 3.54, 'Suriname': 3.67, \"Democratic People's Republic of Korea\": 3.6799999999999997, 'Philippines': 3.78, 'Thailand': 3.92, 'Lebanon': 3.94, 'Burkina Faso': 3.99, 'Kyrgyzstan': 4.279999999999999, 'Cuba': 4.37, 'Sierra Leone': 4.380000000000001, 'United Arab Emirates': 4.43, 'Dominican Republic': 4.53, 'Panama': 4.6000000000000005, 'Botswana': 4.63, 'Saint Kitts and Nevis': 4.65, 'Trinidad and Tobago': 4.68, 'Antigua and Barbuda': 4.69, 'Bahrain': 4.89, 'Zimbabwe': 4.92, 'Peru': 4.99, 'Norway': 5.08, 'Mexico': 5.1, 'Ukraine': 5.32, 'Russian Federation': 5.35, 'Iceland': 5.359999999999999, 'Costa Rica': 5.3999999999999995, 'Brazil': 5.52, 'Liberia': 5.61, 'Haiti': 5.81, 'United Republic of Tanzania': 5.9, \"Lao People's Democratic Republic\": 5.95, 'Cameroon': 6.359999999999999, 'Equatorial Guinea': 6.49, 'Paraguay': 6.51, 'Swaziland': 6.68, 'Nigeria': 6.74, 'Colombia': 6.960000000000001, 'Latvia': 7.039999999999999, 'Malta': 7.13, 'Uruguay': 7.4399999999999995, 'Sweden': 7.47, 'Rwanda': 7.549999999999999, 'Japan': 7.74, 'Uganda': 7.8, 'Venezuela (Bolivarian Republic of)': 7.87, 'Belarus': 7.9799999999999995, 'Burundi': 8.159999999999998, 'Romania': 8.41, 'Chile': 8.649999999999999, 'Canada': 9.0, 'United States of America': 9.16, 'South Africa': 9.21, 'Cyprus': 9.29, 'Poland': 9.33, 'Gabon': 9.34, 'Finland': 9.419999999999998, 'Republic of Korea': 9.620000000000001, 'Guyana': 9.940000000000001, 'United Kingdom of Great Britain and Northern Ireland': 9.99, 'Netherlands': 10.030000000000001, 'Greece': 10.15, 'Argentina': 10.82, 'Italy': 10.899999999999999, 'Croatia': 10.92, 'Bulgaria': 11.43, 'New Zealand': 11.52, 'Belgium': 11.61, 'Saint Lucia': 11.62, 'Denmark': 11.649999999999999, 'Ireland': 11.79, 'Australia': 12.09, 'Bahamas': 12.290000000000001, 'Slovakia': 12.700000000000001, 'Slovenia': 12.969999999999999, 'Czech Republic': 13.009999999999998, 'Spain': 13.280000000000001, 'Switzerland': 13.849999999999998, 'Austria': 13.9, 'Germany': 14.64, 'Luxembourg': 15.21, 'Portugal': 15.350000000000001, 'France': 16.05, 'Hungary': 16.29}\n"
     ]
    }
   ],
   "source": [
    "path='C:\\\\Users\\\\Patosky\\\\Documents\\\\cours_simplon\\\\developpeur_data_ia\\\\13.04.21\\\\world_alcohol.txt'\n",
    "world_alcohol=np.genfromtxt(path, delimiter=\",\" , dtype=\"U75\", skip_header=1)\n",
    "\n",
    "\n",
    "world_alcohol[:,4][world_alcohol[:,4]=='']='0'\n",
    "sum_total_country=lambda country, year: world_alcohol[:,4][(world_alcohol[:,2]==country) & (world_alcohol[:,0]==year) ].astype('float').sum()\n",
    "dict_={i: sum_total_country(i, '1989') for i in np.unique(world_alcohol[:,2]) }\n",
    "\n",
    "# pour ranger les clés\n",
    "sorted_keys=sorted(dict_, key=dict_.get)\n",
    "sorted_dict={}\n",
    "\n",
    "for key in sorted_keys:\n",
    "    sorted_dict[key]=dict_[key]\n",
    "\n",
    "print(sorted_dict)"
   ]
  },
  {
   "cell_type": "code",
   "execution_count": 62,
   "id": "d61f14f5",
   "metadata": {},
   "outputs": [
    {
     "name": "stdout",
     "output_type": "stream",
     "text": [
      "veuillez taper une année: 1989\n"
     ]
    },
    {
     "data": {
      "text/plain": [
       "{'Afghanistan': 0.0,\n",
       " 'Albania': 0.4325,\n",
       " 'Algeria': 0.1,\n",
       " 'Angola': 0.57,\n",
       " 'Antigua and Barbuda': 1.1725,\n",
       " 'Argentina': 2.705,\n",
       " 'Australia': 3.0225,\n",
       " 'Austria': 3.475,\n",
       " 'Bahamas': 3.0725000000000002,\n",
       " 'Bahrain': 1.2225,\n",
       " 'Bangladesh': 0.0,\n",
       " 'Belarus': 1.9949999999999999,\n",
       " 'Belgium': 2.9025,\n",
       " 'Belize': 0.0,\n",
       " 'Benin': 0.34500000000000003,\n",
       " 'Bhutan': 0.0775,\n",
       " 'Bolivia (Plurinational State of)': 0.7625,\n",
       " 'Botswana': 1.1575,\n",
       " 'Brazil': 1.38,\n",
       " 'Brunei Darussalam': 0.6950000000000001,\n",
       " 'Bulgaria': 2.8575,\n",
       " 'Burkina Faso': 0.9975,\n",
       " 'Burundi': 2.0399999999999996,\n",
       " 'Cabo Verde': 0.6975,\n",
       " 'Cambodia': 0.0825,\n",
       " 'Cameroon': 1.5899999999999999,\n",
       " 'Canada': 2.25,\n",
       " 'Central African Republic': 0.6299999999999999,\n",
       " 'Chad': 0.07500000000000001,\n",
       " 'Chile': 2.1624999999999996,\n",
       " 'China': 0.8325,\n",
       " 'Colombia': 1.7400000000000002,\n",
       " 'Comoros': 0.027499999999999997,\n",
       " 'Congo': 0.7875000000000001,\n",
       " 'Costa Rica': 1.3499999999999999,\n",
       " 'Croatia': 2.73,\n",
       " \"Cte d'Ivoire\": 0.55,\n",
       " 'Cuba': 1.0925,\n",
       " 'Cyprus': 2.3225,\n",
       " 'Czech Republic': 3.2524999999999995,\n",
       " \"Democratic People's Republic of Korea\": 0.9199999999999999,\n",
       " 'Democratic Republic of the Congo': 0.48,\n",
       " 'Denmark': 2.9124999999999996,\n",
       " 'Djibouti': 0.2175,\n",
       " 'Dominican Republic': 1.1325,\n",
       " 'Ecuador': 0.635,\n",
       " 'Egypt': 0.10500000000000001,\n",
       " 'El Salvador': 0.4425,\n",
       " 'Equatorial Guinea': 1.6225,\n",
       " 'Eritrea': 0.0725,\n",
       " 'Ethiopia': 0.21500000000000002,\n",
       " 'Fiji': 0.49000000000000005,\n",
       " 'Finland': 2.3549999999999995,\n",
       " 'France': 4.0125,\n",
       " 'Gabon': 2.335,\n",
       " 'Gambia': 0.40750000000000003,\n",
       " 'Germany': 3.66,\n",
       " 'Ghana': 0.46499999999999997,\n",
       " 'Greece': 2.5375,\n",
       " 'Guatemala': 0.6175,\n",
       " 'Guinea': 0.0525,\n",
       " 'Guinea-Bissau': 0.6675,\n",
       " 'Guyana': 2.4850000000000003,\n",
       " 'Haiti': 1.4525,\n",
       " 'Honduras': 0.5375,\n",
       " 'Hungary': 4.0725,\n",
       " 'Iceland': 1.3399999999999999,\n",
       " 'India': 0.415,\n",
       " 'Indonesia': 0.0175,\n",
       " 'Iran (Islamic Republic of)': 0.0,\n",
       " 'Iraq': 0.1875,\n",
       " 'Ireland': 2.9475,\n",
       " 'Israel': 0.5075000000000001,\n",
       " 'Italy': 2.7249999999999996,\n",
       " 'Jamaica': 0.7575,\n",
       " 'Japan': 1.935,\n",
       " 'Jordan': 0.0475,\n",
       " 'Kenya': 0.705,\n",
       " 'Kiribati': 0.12,\n",
       " 'Kuwait': 0.0,\n",
       " 'Kyrgyzstan': 1.0699999999999998,\n",
       " \"Lao People's Democratic Republic\": 1.4875,\n",
       " 'Latvia': 1.7599999999999998,\n",
       " 'Lebanon': 0.985,\n",
       " 'Lesotho': 0.505,\n",
       " 'Liberia': 1.4025,\n",
       " 'Libya': 0.0,\n",
       " 'Lithuania': 0.0,\n",
       " 'Luxembourg': 3.8025,\n",
       " 'Madagascar': 0.345,\n",
       " 'Malawi': 0.255,\n",
       " 'Malaysia': 0.17,\n",
       " 'Mali': 0.16749999999999998,\n",
       " 'Malta': 1.7825,\n",
       " 'Mauritania': 0.005,\n",
       " 'Mauritius': 0.885,\n",
       " 'Mexico': 1.275,\n",
       " 'Micronesia (Federated States of)': 0.0,\n",
       " 'Mongolia': 0.6475,\n",
       " 'Morocco': 0.175,\n",
       " 'Mozambique': 0.0975,\n",
       " 'Myanmar': 0.04,\n",
       " 'Namibia': 0.06,\n",
       " 'Nepal': 0.0075,\n",
       " 'Netherlands': 2.5075000000000003,\n",
       " 'New Zealand': 2.88,\n",
       " 'Nicaragua': 0.625,\n",
       " 'Niger': 0.0275,\n",
       " 'Nigeria': 1.685,\n",
       " 'Norway': 1.27,\n",
       " 'Oman': 0.2575,\n",
       " 'Pakistan': 0.005,\n",
       " 'Panama': 1.1500000000000001,\n",
       " 'Papua New Guinea': 0.27749999999999997,\n",
       " 'Paraguay': 1.6275,\n",
       " 'Peru': 1.2475,\n",
       " 'Philippines': 0.945,\n",
       " 'Poland': 2.3325,\n",
       " 'Portugal': 3.8375000000000004,\n",
       " 'Qatar': 0.36250000000000004,\n",
       " 'Republic of Korea': 2.4050000000000002,\n",
       " 'Romania': 2.1025,\n",
       " 'Russian Federation': 1.3375,\n",
       " 'Rwanda': 1.8874999999999997,\n",
       " 'Saint Kitts and Nevis': 1.1625,\n",
       " 'Saint Lucia': 2.905,\n",
       " 'Samoa': 0.6575,\n",
       " 'Sao Tome and Principe': 0.6425,\n",
       " 'Saudi Arabia': 0.0375,\n",
       " 'Senegal': 0.15250000000000002,\n",
       " 'Seychelles': 1.1,\n",
       " 'Sierra Leone': 1.0950000000000002,\n",
       " 'Singapore': 0.4025,\n",
       " 'Slovakia': 3.1750000000000003,\n",
       " 'Slovenia': 3.2424999999999997,\n",
       " 'Solomon Islands': 0.14500000000000002,\n",
       " 'Somalia': 0.0,\n",
       " 'South Africa': 2.3025,\n",
       " 'Spain': 3.3200000000000003,\n",
       " 'Sri Lanka': 0.035,\n",
       " 'Sudan': 0.0375,\n",
       " 'Suriname': 0.9175,\n",
       " 'Swaziland': 1.67,\n",
       " 'Sweden': 1.8675,\n",
       " 'Switzerland': 3.4624999999999995,\n",
       " 'Syrian Arab Republic': 0.135,\n",
       " 'Thailand': 0.98,\n",
       " 'Togo': 0.5549999999999999,\n",
       " 'Trinidad and Tobago': 1.17,\n",
       " 'Tunisia': 0.2375,\n",
       " 'Turkey': 0.18,\n",
       " 'Uganda': 1.95,\n",
       " 'Ukraine': 1.33,\n",
       " 'United Arab Emirates': 1.1075,\n",
       " 'United Kingdom of Great Britain and Northern Ireland': 2.4975,\n",
       " 'United Republic of Tanzania': 1.475,\n",
       " 'United States of America': 2.29,\n",
       " 'Uruguay': 1.8599999999999999,\n",
       " 'Vanuatu': 0.435,\n",
       " 'Venezuela (Bolivarian Republic of)': 1.9675,\n",
       " 'Viet Nam': 0.04,\n",
       " 'Yemen': 0.05,\n",
       " 'Zambia': 0.8425,\n",
       " 'Zimbabwe': 1.23}"
      ]
     },
     "execution_count": 62,
     "metadata": {},
     "output_type": "execute_result"
    }
   ],
   "source": [
    "mean_pays=lambda year, country: world_alcohol[:,4][(world_alcohol[:,0]==year) & (world_alcohol[:,2]==country)].astype('float64').mean()\n",
    "dict_={}\n",
    "year=input('veuillez taper une année: ')\n",
    "for country in np.unique(world_alcohol[:,2]) :\n",
    "    mean_consumption=mean_pays(year, country)\n",
    "    dict_[country]=mean_consumption\n",
    "\n",
    "dict_"
   ]
  },
  {
   "cell_type": "code",
   "execution_count": 63,
   "id": "a6c19fbf",
   "metadata": {},
   "outputs": [
    {
     "data": {
      "text/plain": [
       "array([['1985', 'Europe', 'Hungary', 'Spirits', '7.01'],\n",
       "       ['1989', 'Europe', 'Hungary', 'Other', '0'],\n",
       "       ['1987', 'Europe', 'Hungary', 'Wine', '3.32'],\n",
       "       ['1989', 'Europe', 'Hungary', 'Wine', '3.44'],\n",
       "       ['1986', 'Europe', 'Hungary', 'Other', '0'],\n",
       "       ['1987', 'Europe', 'Hungary', 'Other', '0'],\n",
       "       ['1987', 'Europe', 'Hungary', 'Beer', '6.42'],\n",
       "       ['1985', 'Europe', 'Hungary', 'Other', '0'],\n",
       "       ['1986', 'Europe', 'Hungary', 'Beer', '6.37'],\n",
       "       ['1984', 'Europe', 'Hungary', 'Beer', '5.59'],\n",
       "       ['1987', 'Europe', 'Hungary', 'Spirits', '5.96'],\n",
       "       ['1985', 'Europe', 'Hungary', 'Wine', '3.81'],\n",
       "       ['1986', 'Europe', 'Hungary', 'Wine', '3.57'],\n",
       "       ['1984', 'Europe', 'Hungary', 'Wine', '4.72'],\n",
       "       ['1985', 'Europe', 'Hungary', 'Beer', '5.92'],\n",
       "       ['1989', 'Europe', 'Hungary', 'Spirits', '6.3'],\n",
       "       ['1984', 'Europe', 'Hungary', 'Spirits', '6.51'],\n",
       "       ['1989', 'Europe', 'Hungary', 'Beer', '6.55'],\n",
       "       ['1984', 'Europe', 'Hungary', 'Other', '0'],\n",
       "       ['1986', 'Europe', 'Hungary', 'Spirits', '6.73']], dtype='<U75')"
      ]
     },
     "execution_count": 63,
     "metadata": {},
     "output_type": "execute_result"
    }
   ],
   "source": [
    "world_alcohol[:,:][world_alcohol[:,2]=='Hungary']"
   ]
  },
  {
   "cell_type": "code",
   "execution_count": 25,
   "id": "3593bd79",
   "metadata": {},
   "outputs": [
    {
     "data": {
      "text/plain": [
       "array(['0', '0.5', '1.62', ..., '2.54', '0', '5.15'], dtype='<U75')"
      ]
     },
     "execution_count": 25,
     "metadata": {},
     "output_type": "execute_result"
    }
   ],
   "source": [
    "np.sort(world_alcohol[:,4])\n"
   ]
  },
  {
   "cell_type": "code",
   "execution_count": 96,
   "id": "2b0b6577",
   "metadata": {},
   "outputs": [
    {
     "name": "stdout",
     "output_type": "stream",
     "text": [
      "1\n"
     ]
    }
   ],
   "source": []
  },
  {
   "cell_type": "code",
   "execution_count": null,
   "id": "84dae386",
   "metadata": {},
   "outputs": [],
   "source": []
  }
 ],
 "metadata": {
  "kernelspec": {
   "display_name": "Python 3",
   "language": "python",
   "name": "python3"
  },
  "language_info": {
   "codemirror_mode": {
    "name": "ipython",
    "version": 3
   },
   "file_extension": ".py",
   "mimetype": "text/x-python",
   "name": "python",
   "nbconvert_exporter": "python",
   "pygments_lexer": "ipython3",
   "version": "3.8.5"
  }
 },
 "nbformat": 4,
 "nbformat_minor": 5
}
