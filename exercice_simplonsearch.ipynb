{
 "cells": [
  {
   "cell_type": "code",
   "execution_count": 1,
   "id": "16fffbd3",
   "metadata": {},
   "outputs": [],
   "source": [
    "import re\n",
    "import os\n",
    "import requests\n",
    "import re\n",
    "import json"
   ]
  },
  {
   "cell_type": "code",
   "execution_count": 2,
   "id": "be451313",
   "metadata": {},
   "outputs": [],
   "source": [
    "#file1='Pandas.txt'\n",
    "#with open(path, 'r', encoding='utf-8')"
   ]
  },
  {
   "cell_type": "code",
   "execution_count": 3,
   "id": "59fea483",
   "metadata": {},
   "outputs": [],
   "source": [
    "text='les etrois   troie    tris, lys  trois gros, les troisx roi.'"
   ]
  },
  {
   "cell_type": "markdown",
   "id": "d09eb73c",
   "metadata": {},
   "source": [
    "## question 1 \n",
    "\n",
    "Proposer une fonction almost(mot, s) qui trouve dans un texte s toute les occurrence d’un mot dont une lettre a pu éventuellement être enlevée. Exemple : si mot vaut « alphonse », une réponse acceptable vaut est « alponse »."
   ]
  },
  {
   "cell_type": "markdown",
   "id": "5cf322d1",
   "metadata": {},
   "source": [
    "#ta réponse à la question 2 englobe également la question 1\n",
    "\n",
    "correction apporté: \n",
    "   \n",
    "   \n",
    "   \n",
    "   \n",
    " \n"
   ]
  },
  {
   "cell_type": "markdown",
   "id": "5183fc95",
   "metadata": {},
   "source": [
    "## question2\n",
    "\n",
    "Proposez une fonction pluslarge(mot, s) qui trouve dans un texte s toutes les occurrences d’un mot dont une lettre a pu éventuellement être enlevée, ajouté ou remplacé par une autre."
   ]
  },
  {
   "cell_type": "code",
   "execution_count": 4,
   "id": "5ee2bc5c",
   "metadata": {},
   "outputs": [],
   "source": [
    "def almost(mot_reference, s, seuil):\n",
    "    s=re.sub(r'[\\W]+[\\s]*[\\W]*',\" \",s)\n",
    "    texte_parse=s.lower().split(\" \")\n",
    "    occur=[]\n",
    "    \n",
    "    #génération de tous les dérivés possibles du mot référence, ce selon le nombre de \n",
    "    #caractères changées (valeur seuil)\n",
    "    \n",
    "    #pattern=[f'{mot_reference[:indice-1]}.?{mot_reference[indice:]}' for indice in range(1,len(mot_reference)+1)]\n",
    "    #pattern1=[f'{mot_reference[:indice]}.?{mot_reference[indice:]}' for indice in range(1,len(mot_reference))]\n",
    "\n",
    "   \n",
    "    # Remarque, il y a eu nécessité de mettre des ^ et des $ aux extremités de chaque pattern\n",
    "    # ce afin de signifier et bien délimiter le parsing du pattern.\n",
    "    pattern1=[f'^{mot_reference[:indice]}?{mot_reference[indice:]}$' for indice in range(1,len(mot_reference)+1)]\n",
    "    pattern2=[f'^{mot_reference[:indice]}.{mot_reference[indice:]}$' for indice in range(1,len(mot_reference)+1)]\n",
    "    pattern3=[f'^{mot_reference[:indice-1]}.{mot_reference[indice:]}$' for indice in range(1,len(mot_reference)+1)]\n",
    "    \n",
    "    pattern=pattern3+pattern2+pattern1\n",
    "    pattern.append(f'^.{mot_reference}$')\n",
    "    pattern.append(f'^{mot_reference}.$')\n",
    "    pattern=re.compile('|'.join(pattern))\n",
    "\n",
    "    for mot in texte_parse:\n",
    "        #if len(mot_reference)-seuil<=len(mot)<=len(mot_reference)+seuil :\n",
    "            ## ligne suivante à modifier pour qu'il fonctionne quand seuil>1: \n",
    "            \n",
    "            if re.match(pattern,mot):\n",
    "                occur.append(mot)\n",
    " \n",
    "    return occur"
   ]
  },
  {
   "cell_type": "code",
   "execution_count": 5,
   "id": "438a3f23",
   "metadata": {},
   "outputs": [
    {
     "data": {
      "text/plain": [
       "['le', 'leda']"
      ]
     },
     "execution_count": 5,
     "metadata": {},
     "output_type": "execute_result"
    }
   ],
   "source": [
    "almost('led', 'ce me e superbe le leda matelas en mousse naturelle',1)"
   ]
  },
  {
   "cell_type": "markdown",
   "id": "88ed9f62",
   "metadata": {},
   "source": [
    "## question 3\n",
    "Proposez une fonction score(p, s) qui prend en argument une phrase p et lui attribue un score en fonction de la présence des mots qu’elle contient dans s : cinq points par mot exact, un point par mot approché."
   ]
  },
  {
   "cell_type": "code",
   "execution_count": 6,
   "id": "c1c15881",
   "metadata": {},
   "outputs": [
    {
     "data": {
      "text/plain": [
       "11"
      ]
     },
     "execution_count": 6,
     "metadata": {},
     "output_type": "execute_result"
    }
   ],
   "source": [
    "def score(phrase, s):\n",
    "    s=re.sub(r'[\\W]*[\\s]+[\\W]*',\" \",s)\n",
    "    phrase=re.sub(r'[\\W]*[\\s]+[\\W]*',\" \",phrase)\n",
    "    \n",
    " \n",
    "    count=0\n",
    "    for mot in phrase.split(' '):\n",
    "        \n",
    "        liste_occu=almost(mot,s,1)\n",
    "        for occurence in liste_occu:\n",
    "            if occurence==mot:\n",
    "                \n",
    "                count+=5\n",
    "            else:\n",
    "                count+=1\n",
    "        \n",
    "        \n",
    "    return count\n",
    "        \n",
    "score('le petit bonhomme en mousse', 'ce superbe matelas en mousse naturelle')"
   ]
  },
  {
   "cell_type": "code",
   "execution_count": null,
   "id": "e8c4afc3",
   "metadata": {},
   "outputs": [],
   "source": []
  },
  {
   "cell_type": "markdown",
   "id": "de20075d",
   "metadata": {},
   "source": [
    "## question 4. \n",
    "\n",
    "Modifiez les fonctions précédentes de façons à ce qu’elles donnent un bonus de 20 points si deux mots successifs dans la phrase initial sont également successif dans le texte parcouru (les mots exacts). Exemple : Si on cherche « Le petit bonhomme en mousse » dans « Ce superbe matelas en mousse naturelle »."
   ]
  },
  {
   "cell_type": "code",
   "execution_count": 7,
   "id": "76f47840",
   "metadata": {},
   "outputs": [
    {
     "data": {
      "text/plain": [
       "31"
      ]
     },
     "execution_count": 7,
     "metadata": {},
     "output_type": "execute_result"
    }
   ],
   "source": [
    "def score(phrase, s):\n",
    "\n",
    "    s=re.sub(r'[\\W]*[\\s]+[\\W]*',\" \",s).lower()\n",
    "    phrase=re.sub(r'[\\W]*[\\s]+[\\W]*',\" \",phrase).lower()\n",
    "    phrase=phrase.split(' ')\n",
    "    \n",
    "\n",
    "    count=0\n",
    "    for mot in phrase:\n",
    "        \n",
    "        liste_occu=almost(mot,s,1)\n",
    "        count+=sum([ 5 if occurence==mot else 1 for occurence in liste_occu])\n",
    "    \n",
    "    if len(phrase)>1:\n",
    "        for indice in range(0,len(phrase)-1):\n",
    "            portion=\" \".join(phrase[indice:indice+2])\n",
    "            count+=20 if portion in s else 0\n",
    "    \n",
    "        \n",
    "    return count\n",
    "score(' Le petit bonhomme en mousse', 'Ce superbe matelas en mousse naturelle ' )"
   ]
  },
  {
   "cell_type": "code",
   "execution_count": null,
   "id": "599eef78",
   "metadata": {},
   "outputs": [],
   "source": []
  },
  {
   "cell_type": "markdown",
   "id": "1da18cc9",
   "metadata": {},
   "source": [
    "Facultatif: Vous pouvez utiliser la fonction nouvellement créé sur un ensemble de fichier txt et voir quel est le fichier qui correspond le plus à une phrase recherchée.\n",
    "Pour se faire :\n",
    "1. Importé « os » et utilisez la fonction os.listdir() afin de récupérer dans une liste des fichier présent dans dossiers.\n",
    "2. Vous pouvez lire chacun de ces fichiers :\n",
    " - a. Ouvre le fichier avec la fonction open() (pensez à spécifier l’encodage, « encoding=\"utf-8\" ») et assigné le à une variables.\n",
    " - b. Utilisez la méthodes .read() et assigné l’objet retourné à une nouvelle variables. Cette variable contiendra maintenant le contenu du fichier txt sous forme de chaîne de caractères.\n",
    " - c. Utilisez la fonction score2() sur cette chaîne de caractères et stocké le résultat dans un dictionnaire avec le nom du fichier pour clé et le score pour valeur. Vous pouvez utiliser une boucle for pour répéter cela pour tous les fichiers.\n",
    " - d. Afficher le contenu du dictionnaire en ordonnant les résultats par score descendant. Utiliser la fonction sorted()."
   ]
  },
  {
   "cell_type": "markdown",
   "id": "5b40cb57",
   "metadata": {},
   "source": [
    "# question 1"
   ]
  },
  {
   "cell_type": "code",
   "execution_count": 8,
   "id": "b0ebe972",
   "metadata": {},
   "outputs": [
    {
     "data": {
      "text/plain": [
       "{'Matplotlib.txt': 78, 'Numpy.txt': 42, 'Pandas.txt': 97, 'Seaborn.txt': 42}"
      ]
     },
     "execution_count": 8,
     "metadata": {},
     "output_type": "execute_result"
    }
   ],
   "source": [
    "dict_={}\n",
    "paths=[url for url in os.listdir('ressources')]\n",
    "sentence='analyse et visualisation'\n",
    "for url in paths:\n",
    "    with open(f'ressources\\{url}','r', encoding='utf-8') as file:\n",
    "        txt_=file.read()\n",
    "        txt_=re.sub(r'[\\W]*[\\s]+[\\W]*',\" \",txt_).lower()\n",
    "        dict_[url]=score(sentence,txt_)\n",
    "        \n",
    "dict_\n",
    "\n"
   ]
  },
  {
   "cell_type": "code",
   "execution_count": null,
   "id": "fe707e98",
   "metadata": {},
   "outputs": [],
   "source": [
    "\n"
   ]
  },
  {
   "cell_type": "code",
   "execution_count": null,
   "id": "db7ecb98",
   "metadata": {},
   "outputs": [],
   "source": []
  },
  {
   "cell_type": "code",
   "execution_count": null,
   "id": "7f5a4c80",
   "metadata": {},
   "outputs": [],
   "source": []
  },
  {
   "cell_type": "code",
   "execution_count": null,
   "id": "d539e425",
   "metadata": {},
   "outputs": [],
   "source": []
  }
 ],
 "metadata": {
  "kernelspec": {
   "display_name": "Python 3",
   "language": "python",
   "name": "python3"
  },
  "language_info": {
   "codemirror_mode": {
    "name": "ipython",
    "version": 3
   },
   "file_extension": ".py",
   "mimetype": "text/x-python",
   "name": "python",
   "nbconvert_exporter": "python",
   "pygments_lexer": "ipython3",
   "version": "3.8.5"
  }
 },
 "nbformat": 4,
 "nbformat_minor": 5
}
