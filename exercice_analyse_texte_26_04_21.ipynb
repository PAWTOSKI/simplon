{
 "cells": [
  {
   "cell_type": "code",
   "execution_count": 1,
   "id": "c16d8675",
   "metadata": {},
   "outputs": [],
   "source": [
    "import re"
   ]
  },
  {
   "cell_type": "code",
   "execution_count": 14,
   "id": "3a8c87bb",
   "metadata": {},
   "outputs": [
    {
     "name": "stdout",
     "output_type": "stream",
     "text": [
      "['0678828383', '09.34.67.12.11', '03 11 23 20 38', '03 11 23 2038']\n"
     ]
    }
   ],
   "source": [
    "motif=r'0[1-9](?:[\\s\\.]?[0-9]{2}){4}'\n",
    "\n",
    "n1='0678828383'\n",
    "n2='09.34.67.12.11'\n",
    "n3='03 11 23 20 38'\n",
    "n4='03 11 23 20,'\n",
    "n5='03 11 23 2038,'\n",
    "n6='03-23-20-20-38'\n",
    "s=n1+n2+n3+n4+n5+n6\n",
    "print(re.findall(motif, s))"
   ]
  },
  {
   "cell_type": "code",
   "execution_count": 23,
   "id": "314e75b1",
   "metadata": {},
   "outputs": [
    {
     "name": "stdout",
     "output_type": "stream",
     "text": [
      "un texte HTML</strong> avec des balises et même <script type= \"text/javascript\">var i =5 5 ;</script> du javascript  dedans \n",
      " un texte  du javascript  dedans \n",
      " un texte HTML avec des balises et même var i =5 5 ; du javascript  dedans \n",
      " un texte HTML avec des balises et même var i =5 5 ; du javascript  dedans\n"
     ]
    }
   ],
   "source": [
    "s='un texte <strong>HTML</strong> avec des balises '\n",
    "s+='et même <script type= \"text/javascript\">'\n",
    "s+='var i =5 5 ;</script> du javascript  dedans'\n",
    "\n",
    "#on cherche à remplacer ici les balises ouvrantes\n",
    "s1=re.sub(r'<[a-z]*>', '', s)\n",
    "s2=re.sub('<.*>', '', s)\n",
    "s3=re.sub(r'<[a-z\\\\/\"=\\s]*>', '', s)\n",
    "s4=re.sub('<[^>]*>', '', s)\n",
    "print(s1,'\\n',s2,'\\n',s3,'\\n',s4 )"
   ]
  },
  {
   "cell_type": "markdown",
   "id": "2c1af358",
   "metadata": {},
   "source": [
    "# exercice 1\n",
    "\n",
    "Ecrire une fonction hascap(s) qui renvoie tout les mots de la chaîne\n",
    "s commençant par une majuscule.\n",
    "Ø\n",
    "Pour ce faire utiliser la fonction ord() pour obtenir le code ASCII des lettres\n",
    "(Les lettres majuscule ont un code allant de 65 à 90).\n"
   ]
  },
  {
   "cell_type": "code",
   "execution_count": 41,
   "id": "7365f867",
   "metadata": {},
   "outputs": [],
   "source": [
    "def hascap(s):\n",
    "    s=[word for word in s.split(' ') if 65<=ord(word[0])<=90]\n",
    "    return s"
   ]
  },
  {
   "cell_type": "code",
   "execution_count": 42,
   "id": "73579b72",
   "metadata": {},
   "outputs": [
    {
     "data": {
      "text/plain": [
       "['As', 'Vault']"
      ]
     },
     "execution_count": 42,
     "metadata": {},
     "output_type": "execute_result"
    }
   ],
   "source": [
    " hascap('As fault Vault')"
   ]
  },
  {
   "cell_type": "markdown",
   "id": "12d43620",
   "metadata": {},
   "source": [
    "# Exercice 2\n",
    "\n",
    "Proposer une fonction inflation(s) qui va doubler la valeur de tout\n",
    "les nombre dans la chaine s. Exemple : « Le prix est de 27 euros »\n",
    "devient « Le prix est de 54 euros ».\n",
    "Ø\n",
    "Utiliser la fonction enumerate() pour lancer une boucle for (Taper dans\n",
    "Google « enumerate boucle for ».)"
   ]
  },
  {
   "cell_type": "code",
   "execution_count": 13,
   "id": "1c6f07bd",
   "metadata": {},
   "outputs": [],
   "source": [
    "def inflation(s):\n",
    "    num_infla=[(float(prix)*2) for prix in s.split(' ') if prix[0].isdigit()]\n",
    "    print(num)\n",
    "    for i in num_infla:\n",
    "        s=s.replace(str(i),str(i//2))\n",
    "        \n",
    "    return s"
   ]
  },
  {
   "cell_type": "code",
   "execution_count": 14,
   "id": "04bffce6",
   "metadata": {},
   "outputs": [
    {
     "data": {
      "text/plain": [
       "'Le prix est de 40.2 euros'"
      ]
     },
     "execution_count": 14,
     "metadata": {},
     "output_type": "execute_result"
    }
   ],
   "source": [
    "inflation( 'Le prix est de 40.2 euros')"
   ]
  },
  {
   "cell_type": "markdown",
   "id": "8e7bb1e4",
   "metadata": {},
   "source": [
    "# exercice 3\n",
    "\n",
    "Proposer une fonction lignes qui à partir d’une long chaîne s (>100\n",
    "caractères) renvoie une liste de chaîne de caractères contenant\n",
    "chacun 24 caractères maximum et terminant par un espace.\n",
    "Voici un exemple de chaîne sur le quel vous pouvez travailler :\n",
    "Ø\n",
    "s = \"Onze ans déjà que cela passe vite Vous \"\n",
    "s += \"vous étiez servis simplement de vos armes la \"\n",
    "s += \"mort n‘éblouit pas les yeux des partisans Vous \"\n",
    "s += \"aviez vos portraits sur les murs de nos villes \"\n",
    "\n",
    "- Entrée : Longue chaîne de caractère\n",
    "- Traitement :\n",
    " - Partage de la chaîne de caractère en une liste de mots\n",
    " - On crée une liste vide lignes\n",
    " - Pour tout mot dans la liste :\n",
    "   - On ajoute un espace à mot \n",
    "   - Si la longueur du dernière élément de la liste vide + la longueur du mot < 24 :\n",
    "     - On ajoute le mot au dernier élément de la liste ligne (+= mot)\n",
    "\n",
    "   - Si non :\n",
    "     - On ajoute le mot en tant que dernier élément de la liste\n",
    "\n",
    "- Sortie : liste ligne"
   ]
  },
  {
   "cell_type": "code",
   "execution_count": 214,
   "id": "3db0e47f",
   "metadata": {},
   "outputs": [
    {
     "data": {
      "text/plain": [
       "['Onze ans déjà que cela ',\n",
       " 'passe vite Vous vous ',\n",
       " 'étiez servis simplement ',\n",
       " 'de vos armes la mort ',\n",
       " 'eblouit pas les yeux des ',\n",
       " 'partisants Vous aviez ',\n",
       " 'vos portraits sur les ',\n",
       " 'murs de nos ']"
      ]
     },
     "execution_count": 214,
     "metadata": {},
     "output_type": "execute_result"
    }
   ],
   "source": [
    "def cut_ (s):\n",
    "    import re\n",
    "    pattern=r'[\\w* ]{1,24} | [\\w* ]*/Z'\n",
    "    spaces_=[s[i.start():i.end()] for i in re.finditer(pattern,s )]\n",
    "    \n",
    "    return spaces_\n",
    "\n",
    "s='Onze ans déjà que cela passe vite Vous vous étiez servis simplement de vos armes la mort n\"eblouit pas les yeux des partisants Vous aviez vos portraits sur les murs de nos villes'\n",
    "cut_(s)"
   ]
  },
  {
   "cell_type": "code",
   "execution_count": null,
   "id": "655ad3f5",
   "metadata": {},
   "outputs": [],
   "source": []
  },
  {
   "cell_type": "code",
   "execution_count": 147,
   "id": "afddb5dd",
   "metadata": {},
   "outputs": [
    {
     "name": "stdout",
     "output_type": "stream",
     "text": [
      "['Onze ans déjà que cela ', 'passe vite Vous vous ', 'étiez servis ', 'simplement de vos ', 'armes la mort ', \"n'eblouit pas les yeux \", 'des partisants Vous ', 'aviez vos portraits ', 'sur les murs de nos ', 'villes ']\n"
     ]
    }
   ],
   "source": [
    "#correction\n",
    "def lignes(s):\n",
    "    mots = s.split()\n",
    "    lignes  = ['']\n",
    "    for m in mots:\n",
    "        m += \" \"\n",
    "        if len(lignes[-1])+len(m)<24:\n",
    "            lignes[-1] += (m)\n",
    "        else:\n",
    "            lignes.append(m)\n",
    "    return lignes\n",
    "s = \"Onze ans déjà que cela passe vite Vous \"\n",
    "s += \"vous étiez servis simplement de vos armes la \"\n",
    "s += \"mort n'eblouit pas les yeux des partisants Vous \"\n",
    "s += \"aviez vos portraits sur les murs de nos villes\"\n",
    "print(lignes(s))"
   ]
  },
  {
   "cell_type": "code",
   "execution_count": null,
   "id": "0d392607",
   "metadata": {},
   "outputs": [],
   "source": []
  },
  {
   "cell_type": "code",
   "execution_count": null,
   "id": "b7daa50c",
   "metadata": {},
   "outputs": [],
   "source": []
  },
  {
   "cell_type": "markdown",
   "id": "c55cbcdf",
   "metadata": {},
   "source": [
    "# exercice 4 \n",
    "\n",
    "Proposer un programme qui renvoie la liste de tout les nombres (y\n",
    "compris décimaux et négatifs) d’une chaîne de caractères.\n",
    "A tester sur la chaîne : « Les 2 maquereaux valent 6.50 euros"
   ]
  },
  {
   "cell_type": "code",
   "execution_count": 22,
   "id": "d70e0ac5",
   "metadata": {},
   "outputs": [],
   "source": [
    "def detect_num(s):\n",
    "    return [word for word in s.split() if word[0].isdigit() or word[0]=='-' ]"
   ]
  },
  {
   "cell_type": "code",
   "execution_count": 23,
   "id": "a846cfe5",
   "metadata": {},
   "outputs": [
    {
     "data": {
      "text/plain": [
       "['-2', '6.50']"
      ]
     },
     "execution_count": 23,
     "metadata": {},
     "output_type": "execute_result"
    }
   ],
   "source": [
    "s='Les -2 maquereaux valent 6.50 euros'\n",
    "detect_num(s)"
   ]
  },
  {
   "cell_type": "code",
   "execution_count": 27,
   "id": "d124c1b0",
   "metadata": {},
   "outputs": [],
   "source": [
    "def detect_num(s):\n",
    "    import re\n",
    "    pattern=r'\\A-?\\d+\\.?\\d* | -?\\d+\\.?\\d* | -?\\d+\\.?\\d*\\Z'\n",
    "    list_=re.findall(pattern, s)\n",
    "    return list_"
   ]
  },
  {
   "cell_type": "code",
   "execution_count": 28,
   "id": "c426257e",
   "metadata": {},
   "outputs": [
    {
     "data": {
      "text/plain": [
       "['30.0 ', ' 2 ', ' -6.50 ', ' 9']"
      ]
     },
     "execution_count": 28,
     "metadata": {},
     "output_type": "execute_result"
    }
   ],
   "source": [
    "s='30.0 les 2 maquereaux valent -6.50 euros 9'\n",
    "detect_num(s)"
   ]
  },
  {
   "cell_type": "markdown",
   "id": "eb0058fb",
   "metadata": {},
   "source": [
    "# Exercice 5\n",
    "\n",
    "Proposer une fonction arrondi(s) qui dans la chaîne s troncature\n",
    "tout les nombre décimaux. On autorise les nombres négatifs.\n",
    "Pour ce faire, vous avez la possibilité d’utiliser :\n",
    "- des () pour désigner des blocs de données dans l’expression rationnelle.\n",
    "- pour remplacer chacun des blocs l’expression est r’\\1....\\2....’."
   ]
  },
  {
   "cell_type": "code",
   "execution_count": 200,
   "id": "9eb2aaf1",
   "metadata": {},
   "outputs": [],
   "source": [
    "def arrondi_(s):\n",
    "    pattern=r'\\A\\d+\\.?\\d* |\\d+\\.?\\d* |\\d+\\.?\\d*\\Z'\n",
    "    for nombre in re.findall(pattern,s):\n",
    "        nombre=nombre.replace(' ','')\n",
    "        s=s.replace(nombre, f'{str(int(float(nombre)))}')\n",
    "    return s"
   ]
  },
  {
   "cell_type": "code",
   "execution_count": 201,
   "id": "2e9694e8",
   "metadata": {},
   "outputs": [
    {
     "data": {
      "text/plain": [
       "'30 les 2 maquereaux valent 6 euros 9'"
      ]
     },
     "execution_count": 201,
     "metadata": {},
     "output_type": "execute_result"
    }
   ],
   "source": [
    "s='30.0 les 2 maquereaux valent 6.50 euros 9'\n",
    "arrondi_('30.0 les 2 maquereaux valent 6.50 euros 9')"
   ]
  },
  {
   "cell_type": "code",
   "execution_count": null,
   "id": "357aa24c",
   "metadata": {},
   "outputs": [],
   "source": []
  },
  {
   "cell_type": "code",
   "execution_count": 197,
   "id": "97b743bf",
   "metadata": {},
   "outputs": [
    {
     "data": {
      "text/plain": [
       "['dfdf', '1dfsd', 'zeze']"
      ]
     },
     "execution_count": 197,
     "metadata": {},
     "output_type": "execute_result"
    }
   ],
   "source": [
    "import re\n",
    "s=f\"dfdf 1dfsd zeze\"\n",
    "pattern=r'[0-9]{0,1}[a-zA-Z]{1,5}'\n",
    "match=re.search(pattern, s)\n",
    "re.findall(pattern,s )"
   ]
  },
  {
   "cell_type": "code",
   "execution_count": null,
   "id": "b23df16e",
   "metadata": {},
   "outputs": [],
   "source": []
  },
  {
   "cell_type": "code",
   "execution_count": null,
   "id": "fb20aae1",
   "metadata": {},
   "outputs": [],
   "source": []
  }
 ],
 "metadata": {
  "kernelspec": {
   "display_name": "Python 3",
   "language": "python",
   "name": "python3"
  },
  "language_info": {
   "codemirror_mode": {
    "name": "ipython",
    "version": 3
   },
   "file_extension": ".py",
   "mimetype": "text/x-python",
   "name": "python",
   "nbconvert_exporter": "python",
   "pygments_lexer": "ipython3",
   "version": "3.8.5"
  }
 },
 "nbformat": 4,
 "nbformat_minor": 5
}
